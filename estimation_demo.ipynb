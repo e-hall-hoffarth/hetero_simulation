{
 "cells": [
  {
   "cell_type": "code",
   "execution_count": 1,
   "id": "e41cb283",
   "metadata": {},
   "outputs": [],
   "source": [
    "import jax\n",
    "import jax.numpy as jnp\n",
    "import numpy as np\n",
    "import pandas as pd\n",
    "import matplotlib.pyplot as plt\n",
    "from collections import namedtuple\n",
    "\n",
    "from firm import supply\n",
    "from agent import demand\n",
    "from optimization import find_equilibrium_prices, error\n",
    "\n",
    "%load_ext autoreload"
   ]
  },
  {
   "cell_type": "code",
   "execution_count": 2,
   "id": "ac65a770",
   "metadata": {
    "scrolled": true
   },
   "outputs": [
    {
     "name": "stderr",
     "output_type": "stream",
     "text": [
      "WARNING:absl:No GPU/TPU found, falling back to CPU. (Set TF_CPP_MIN_LOG_LEVEL=0 and rerun for more info.)\n"
     ]
    }
   ],
   "source": [
    "args = dict(\n",
    "    n_products = 3,\n",
    "    n_assets = 2,\n",
    "    n_firms = 2,\n",
    "    n_agents = 5000,\n",
    "    theta = 10.,\n",
    "    alpha = 5.,\n",
    "    beta = 5.,\n",
    "    scale = 0.75,\n",
    "    T = 100,\n",
    "    max_iter = 1000,\n",
    "    step_size = 1e-2,\n",
    "    tol = 1e-12,\n",
    "    key = jax.random.PRNGKey(1),\n",
    ")"
   ]
  },
  {
   "cell_type": "code",
   "execution_count": 3,
   "id": "acec2745",
   "metadata": {},
   "outputs": [],
   "source": [
    "n_goods = args['n_products'] - args['n_assets']\n",
    "\n",
    "# a firm is a tuple A, rts, output_idx\n",
    "firms = (jax.random.gamma(args['key'], args['theta'], shape=(args['n_firms'],)), \n",
    "         jax.random.beta(args['key'], args['alpha'], args['beta'], shape=(args['n_firms'],)), \n",
    "         jnp.zeros((args['n_firms'], 1)).astype(jnp.int32))\n",
    "\n",
    "# An agent is defined by their asset holdings and preference parameter sigma.\n",
    "assets = jnp.exp(args['scale'] * jax.random.normal(args['key'], (args['n_agents'], args['n_assets'])))\n",
    "sigmas = 2 + 0.1 * jax.random.normal(args['key'], (args['n_agents'],))\n",
    "agents = jnp.concatenate((assets.reshape(args['n_agents'], -1), sigmas.reshape(args['n_agents'], -1)), axis=1)\n",
    "\n",
    "# Define error function\n",
    "e = error(firms, agents, n_goods, args['T'])\n",
    "\n",
    "# Define some random starting prices:\n",
    "# prices = jax.random.normal(key, (n_products,))\n",
    "prices = jnp.zeros((args['n_products']))"
   ]
  },
  {
   "cell_type": "code",
   "execution_count": null,
   "id": "e7dad4eb",
   "metadata": {},
   "outputs": [],
   "source": [
    "s = supply(jnp.exp(prices), firms)\n",
    "R = s[1]\n",
    "assert not jnp.isnan(R)\n",
    "d = demand(R, jnp.exp(prices), agents, n_goods, args['T'])\n",
    "err = e(prices)\n",
    "print(f'(Log) starting prices: {prices}\\nSupply: {s[0][0]}\\nDemand: {d[0]}\\nTherefore, error: {err}')"
   ]
  },
  {
   "cell_type": "markdown",
   "id": "036cd426",
   "metadata": {},
   "source": [
    "### Distribution of agent wealth (source of heterogeneity)"
   ]
  },
  {
   "cell_type": "code",
   "execution_count": null,
   "id": "deaa1c7d",
   "metadata": {},
   "outputs": [],
   "source": [
    "_ = pd.DataFrame(agents[:, 0]).hist(bins=int(args['n_agents']/20))"
   ]
  },
  {
   "cell_type": "markdown",
   "id": "c7e20eab",
   "metadata": {},
   "source": [
    "### Distribution of agent preferences (sigma)"
   ]
  },
  {
   "cell_type": "code",
   "execution_count": null,
   "id": "90d663c3",
   "metadata": {},
   "outputs": [],
   "source": [
    "_ = pd.DataFrame(agents[:, -1]).hist(bins=int(args['n_agents']/20))"
   ]
  },
  {
   "cell_type": "markdown",
   "id": "6a111912",
   "metadata": {},
   "source": [
    "Firms are also heterogenous in terms of productivity, but there are only two of them for now so there is not distribution to look at."
   ]
  },
  {
   "cell_type": "markdown",
   "id": "f142ab78",
   "metadata": {},
   "source": [
    "### Visual representation of equilibrium"
   ]
  },
  {
   "cell_type": "code",
   "execution_count": null,
   "id": "db559992",
   "metadata": {},
   "outputs": [],
   "source": [
    "bins = 200\n",
    "output_prices = jnp.linspace(-1, 1, bins)[:, jnp.newaxis]\n",
    "input_prices = jnp.repeat(prices[1:][jnp.newaxis], bins, axis=0)\n",
    "prices_mat = jnp.concatenate((output_prices, input_prices), axis=1)\n",
    "s = jax.vmap(lambda p: supply(jnp.exp(p), firms))(prices_mat)\n",
    "do = jax.vmap(lambda r, p: demand(r, jnp.exp(p), agents, n_goods, args['T']))(s[1], prices_mat)\n",
    "errors = jax.vmap(e)(prices_mat)[:, jnp.newaxis]\n",
    "so = s[0][:, 0][:, jnp.newaxis]\n",
    "\n",
    "df = pd.DataFrame(jnp.concatenate([prices_mat[:, 0][:, jnp.newaxis], so, do, errors], axis=1))\n",
    "df.columns = ['Log Prices', 'Supply', 'Demand', 'Error']\n",
    "\n",
    "fig, axes = plt.subplots(nrows=1, ncols=4, figsize=(18,8))\n",
    "_ = df.plot(x=0, y=[1, 2], ax=axes[0])\n",
    "_ = df.plot(x=0, y=[1], ax=axes[1])\n",
    "_ = df.plot(x=0, y=[2], ax=axes[2])\n",
    "_ = df.plot(x=0, y=[3], ax=axes[3])"
   ]
  },
  {
   "cell_type": "markdown",
   "id": "7e250021",
   "metadata": {},
   "source": [
    "If it looks like the equillibrium will fall in a reasonable area of the problem space, then let's search for it!"
   ]
  },
  {
   "cell_type": "code",
   "execution_count": null,
   "id": "452bd3fd",
   "metadata": {
    "scrolled": true
   },
   "outputs": [],
   "source": [
    "eql_log_prices = find_equilibrium_prices(*(args.values()))"
   ]
  },
  {
   "cell_type": "code",
   "execution_count": null,
   "id": "1d25d229",
   "metadata": {},
   "outputs": [],
   "source": [
    "s = supply(jnp.exp(eql_log_prices), firms)\n",
    "R = s[1]\n",
    "assert not jnp.isnan(R)\n",
    "d = demand(R, jnp.exp(eql_log_prices), agents, n_goods, args['T'])\n",
    "err = e(eql_log_prices)\n",
    "print(f'(Log) equilibrium prices: {eql_log_prices}\\nSupply: {s[0][0]}\\nDemand: {d[0]}\\nTherefore, error: {err}')"
   ]
  }
 ],
 "metadata": {
  "kernelspec": {
   "display_name": "Python [conda env:.conda-jax]",
   "language": "python",
   "name": "conda-env-.conda-jax-py"
  },
  "language_info": {
   "codemirror_mode": {
    "name": "ipython",
    "version": 3
   },
   "file_extension": ".py",
   "mimetype": "text/x-python",
   "name": "python",
   "nbconvert_exporter": "python",
   "pygments_lexer": "ipython3",
   "version": "3.9.7"
  }
 },
 "nbformat": 4,
 "nbformat_minor": 5
}
