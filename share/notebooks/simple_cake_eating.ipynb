{
 "cells": [
  {
   "cell_type": "code",
   "execution_count": 1,
   "id": "969189a1",
   "metadata": {},
   "outputs": [],
   "source": [
    "import pandas as pd\n",
    "import numpy as np\n",
    "import matplotlib.pyplot as plt\n",
    "import jax\n",
    "import jax.numpy as jnp\n",
    "from jax.experimental.optimizers import adam"
   ]
  },
  {
   "cell_type": "code",
   "execution_count": 2,
   "id": "c0180689",
   "metadata": {},
   "outputs": [],
   "source": [
    "a = 1\n",
    "b = 0\n",
    "beta = 0.98\n",
    "n = 2**14\n",
    "k = 1\n",
    "m = 10\n",
    "nn_shapes = jnp.array([m, 2*m, m])"
   ]
  },
  {
   "cell_type": "code",
   "execution_count": 3,
   "id": "f71e3b87",
   "metadata": {},
   "outputs": [],
   "source": [
    "@jax.jit\n",
    "def linear(X, w, b):\n",
    "    return jnp.dot(X, w) + b\n",
    "\n",
    "\n",
    "@jax.jit\n",
    "def relu(X, w, b):\n",
    "    return jnp.maximum(linear(X, w, b), 0)\n",
    "\n",
    "\n",
    "@jax.jit\n",
    "def tanh(X, w, b):\n",
    "    return jax.nn.tanh(linear(X, w, b))\n",
    "\n",
    "\n",
    "@jax.jit\n",
    "def output(X, w, b, min_val, max_val):\n",
    "    output = jax.nn.sigmoid(linear(X, w, b))\n",
    "    move = (max_val - min_val) / 2\n",
    "    return output * move + move\n",
    "\n",
    "\n",
    "@jax.jit\n",
    "def V_hat(params, x):\n",
    "    l1 = tanh(x, params['vw0'], params['vb0'])\n",
    "    l2 = tanh(l1, params['vw1'], params['vb1'])\n",
    "    l3 = tanh(l2, params['vw2'], params['vb2'])\n",
    "    return jnp.squeeze(linear(l3, params['vwf'], params['vbf']))\n",
    "\n",
    "\n",
    "@jax.jit\n",
    "def opt_control(params, beta, x):\n",
    "    l1 = tanh(x, params['cw0'], params['cb0'])\n",
    "    l2 = tanh(l1, params['cw1'], params['cb1'])\n",
    "    l3 = tanh(l2, params['cw2'], params['cb2'])\n",
    "    return jnp.squeeze(output(l3, params['cwf'], params['cbf'], 0, x))\n",
    "\n",
    "\n",
    "@jax.jit\n",
    "def future(params, beta, x):\n",
    "    u = lambda c: jnp.log(c)\n",
    "    c_star = opt_control(params, beta, x)\n",
    "    x_prime = x - jnp.sum(c_star)\n",
    "    return jnp.squeeze(u(c_star) + beta * V_hat(params, x_prime)), (jax.grad(u)(c_star) - jax.grad(V_hat, argnums=(1))(params, x_prime))**2\n",
    "\n",
    "  \n",
    "@jax.jit\n",
    "def epsilon_sq(params, beta, x):\n",
    "    v = V_hat(params, x)\n",
    "    f = future(params, beta, x)\n",
    "    \n",
    "    return (v - f[0])**2 + f[1]\n",
    "\n",
    "\n",
    "@jax.jit\n",
    "def batch_loss(params, beta, X):\n",
    "    e2 = jnp.mean(jax.vmap(epsilon_sq, in_axes=(None, None, 0))(params, beta, X))\n",
    "    # f2 = jnp.mean(jax.vmap(future, in_axes=(None, None, 0))(params, beta, X))\n",
    "    return e2"
   ]
  },
  {
   "cell_type": "code",
   "execution_count": 4,
   "id": "9b498b50",
   "metadata": {},
   "outputs": [],
   "source": [
    "w00 = jax.random.normal(jax.random.PRNGKey(6), shape=(1, nn_shapes[0]))\n",
    "w01 = jax.random.normal(jax.random.PRNGKey(7), shape=(nn_shapes[0], nn_shapes[1]))\n",
    "w02 = jax.random.normal(jax.random.PRNGKey(8), shape=(nn_shapes[1], nn_shapes[2]))\n",
    "w0f = jax.random.normal(jax.random.PRNGKey(9), shape=(nn_shapes[2], 1))\n",
    "b00 = jax.random.normal(jax.random.PRNGKey(52), shape=(1, nn_shapes[0]))\n",
    "b01 = jax.random.normal(jax.random.PRNGKey(51), shape=(1, nn_shapes[1]))\n",
    "b02 = jax.random.normal(jax.random.PRNGKey(58), shape=(1, nn_shapes[2]))\n",
    "b0f = jax.random.normal(jax.random.PRNGKey(48), shape=(1, 1))\n",
    "\n",
    "params0 = {'vw0': w00, 'vw1': w01, 'vw2': w02, 'vwf': w0f, 'vb0': b00, 'vb1': b01, 'vb2': b02, 'vbf':b0f,\n",
    "           'cw0': w00, 'cw1': w01, 'cw2': w02, 'cwf': w0f, 'cb0': b00, 'cb1': b01, 'cb2': b02, 'cbf':b0f}"
   ]
  },
  {
   "cell_type": "code",
   "execution_count": 5,
   "id": "f93007e6",
   "metadata": {},
   "outputs": [],
   "source": [
    "def training_loop(opt_update, opt_state, tol=1e-10, max_iter=10**3):\n",
    "    j = 0\n",
    "    loss = jnp.inf\n",
    "    \n",
    "    while loss > tol and j < max_iter:\n",
    "        params = get_params(opt_state)\n",
    "        X = jnp.exp(a * jax.random.normal(jax.random.PRNGKey(np.random.randint(1, int(1e8))), shape=(n,))) + b\n",
    "        \n",
    "        loss, grad = jax.value_and_grad(batch_loss)(params, beta, X)\n",
    "        \n",
    "        opt_state = opt_update(j, grad, opt_state)\n",
    "        if j % 100 == 0:\n",
    "            print(f'Iteration: {j}\\tLoss: {loss}\\n')\n",
    "        j += 1\n",
    "        \n",
    "    return opt_state"
   ]
  },
  {
   "cell_type": "code",
   "execution_count": 6,
   "id": "9eac4807",
   "metadata": {
    "scrolled": true
   },
   "outputs": [
    {
     "name": "stdout",
     "output_type": "stream",
     "text": [
      "Iteration: 0\tLoss: 1120.432861328125\n",
      "\n",
      "Iteration: 100\tLoss: 3.7317230701446533\n",
      "\n",
      "Iteration: 200\tLoss: 2.3463823795318604\n",
      "\n",
      "Iteration: 300\tLoss: 1.692105770111084\n",
      "\n",
      "Iteration: 400\tLoss: 1.0339535474777222\n",
      "\n",
      "Iteration: 500\tLoss: 0.8059003949165344\n",
      "\n",
      "Iteration: 600\tLoss: 0.5953522324562073\n",
      "\n",
      "Iteration: 700\tLoss: 0.5936436653137207\n",
      "\n",
      "Iteration: 800\tLoss: 0.6300380229949951\n",
      "\n",
      "Iteration: 900\tLoss: 0.5179781913757324\n",
      "\n"
     ]
    }
   ],
   "source": [
    "opt_init, opt_update, get_params = adam(step_size=0.01)\n",
    "opt_state = opt_init(params0)\n",
    "opt_state = training_loop(opt_update, opt_state, max_iter=1000)"
   ]
  },
  {
   "cell_type": "code",
   "execution_count": 7,
   "id": "85698682",
   "metadata": {},
   "outputs": [
    {
     "data": {
      "text/plain": [
       "<AxesSubplot:xlabel='X', ylabel='estimated_v'>"
      ]
     },
     "execution_count": 7,
     "metadata": {},
     "output_type": "execute_result"
    },
    {
     "data": {
      "image/png": "[encoded data removed]",
      "text/plain": [
       "<Figure size 1152x432 with 2 Axes>"
      ]
     },
     "metadata": {
      "needs_background": "light"
     },
     "output_type": "display_data"
    }
   ],
   "source": [
    "params = get_params(opt_state)\n",
    "\n",
    "X = jnp.exp(a * jax.random.normal(jax.random.PRNGKey(np.random.randint(1, int(1e8))), shape=(n,))) + b\n",
    "y = (1 - beta) * jnp.log(X)\n",
    "y_hat = jax.vmap(V_hat, in_axes=(None, 0))(params, X)\n",
    "\n",
    "df = pd.DataFrame(jnp.concatenate((X.reshape(-1, 1), y.reshape(-1, 1), y_hat.reshape(-1, 1)), axis=1))\n",
    "df.columns = ['X', 'actual_v', 'estimated_v']\n",
    "\n",
    "fig, axes = plt.subplots(1, 2, figsize=(16, 6))\n",
    "df.plot(x='X', y='actual_v', kind='scatter', ax=axes[0])\n",
    "df.plot(x='X', y='estimated_v', kind='scatter', ax=axes[1])"
   ]
  },
  {
   "cell_type": "code",
   "execution_count": 8,
   "id": "f1f3dd2b",
   "metadata": {
    "scrolled": true
   },
   "outputs": [
    {
     "name": "stdout",
     "output_type": "stream",
     "text": [
      "Iteration: 0\tLoss: 0.47262102365493774\n",
      "\n",
      "Iteration: 100\tLoss: 0.9613584876060486\n",
      "\n",
      "Iteration: 200\tLoss: 0.9072470664978027\n",
      "\n",
      "Iteration: 300\tLoss: 0.47680431604385376\n",
      "\n",
      "Iteration: 400\tLoss: 0.34256988763809204\n",
      "\n",
      "Iteration: 500\tLoss: 0.32442909479141235\n",
      "\n",
      "Iteration: 600\tLoss: 0.43410158157348633\n",
      "\n",
      "Iteration: 700\tLoss: 0.3147101402282715\n",
      "\n",
      "Iteration: 800\tLoss: 0.22666358947753906\n",
      "\n",
      "Iteration: 900\tLoss: 0.1981300413608551\n",
      "\n",
      "Iteration: 1000\tLoss: 1.64154052734375\n",
      "\n",
      "Iteration: 1100\tLoss: 0.25378963351249695\n",
      "\n",
      "Iteration: 1200\tLoss: 0.15870782732963562\n",
      "\n",
      "Iteration: 1300\tLoss: 0.16231398284435272\n",
      "\n",
      "Iteration: 1400\tLoss: 0.20349624752998352\n",
      "\n",
      "Iteration: 1500\tLoss: 0.33617764711380005\n",
      "\n",
      "Iteration: 1600\tLoss: 0.2313913255929947\n",
      "\n",
      "Iteration: 1700\tLoss: 0.17553937435150146\n",
      "\n",
      "Iteration: 1800\tLoss: 0.9139561653137207\n",
      "\n",
      "Iteration: 1900\tLoss: 0.12289953231811523\n",
      "\n"
     ]
    }
   ],
   "source": [
    "opt_state = opt_init(params)\n",
    "opt_state = training_loop(opt_update, opt_state, max_iter = 2000)"
   ]
  },
  {
   "cell_type": "code",
   "execution_count": 9,
   "id": "a90417e8",
   "metadata": {},
   "outputs": [
    {
     "data": {
      "text/plain": [
       "<AxesSubplot:xlabel='X', ylabel='estimated_v'>"
      ]
     },
     "execution_count": 9,
     "metadata": {},
     "output_type": "execute_result"
    },
    {
     "data": {
      "image/png": "[encoded data removed]",
      "text/plain": [
       "<Figure size 1152x432 with 2 Axes>"
      ]
     },
     "metadata": {
      "needs_background": "light"
     },
     "output_type": "display_data"
    }
   ],
   "source": [
    "params = get_params(opt_state)\n",
    "\n",
    "X = jnp.exp(a * jax.random.normal(jax.random.PRNGKey(np.random.randint(1, int(1e8))), shape=(n,))) + b\n",
    "y = (1 - beta) * jnp.log(X)\n",
    "y_hat = jax.vmap(V_hat, in_axes=(None, 0))(params, X)\n",
    "\n",
    "df = pd.DataFrame(jnp.concatenate((X.reshape(-1, 1), y.reshape(-1, 1), y_hat.reshape(-1, 1)), axis=1))\n",
    "df.columns = ['X', 'actual_v', 'estimated_v']\n",
    "\n",
    "fig, axes = plt.subplots(1, 2, figsize=(16, 6))\n",
    "df.plot(x='X', y='actual_v', kind='scatter', ax=axes[0])\n",
    "df.plot(x='X', y='estimated_v', kind='scatter', ax=axes[1])"
   ]
  },
  {
   "cell_type": "code",
   "execution_count": 10,
   "id": "266094da",
   "metadata": {},
   "outputs": [
    {
     "name": "stdout",
     "output_type": "stream",
     "text": [
      "Iteration: 0\tLoss: 1.6063849925994873\n",
      "\n",
      "Iteration: 100\tLoss: 0.7120506763458252\n",
      "\n",
      "Iteration: 200\tLoss: 0.2818329930305481\n",
      "\n",
      "Iteration: 300\tLoss: 0.20813484489917755\n",
      "\n",
      "Iteration: 400\tLoss: 0.16098299622535706\n",
      "\n",
      "Iteration: 500\tLoss: 0.1417922079563141\n",
      "\n",
      "Iteration: 600\tLoss: 0.10252726078033447\n",
      "\n",
      "Iteration: 700\tLoss: 0.09316085278987885\n",
      "\n",
      "Iteration: 800\tLoss: 0.08261028677225113\n",
      "\n",
      "Iteration: 900\tLoss: 0.0628671795129776\n",
      "\n",
      "Iteration: 1000\tLoss: 0.15455995500087738\n",
      "\n",
      "Iteration: 1100\tLoss: 0.11492098867893219\n",
      "\n",
      "Iteration: 1200\tLoss: 0.057177696377038956\n",
      "\n",
      "Iteration: 1300\tLoss: 0.061175525188446045\n",
      "\n",
      "Iteration: 1400\tLoss: 0.05481116473674774\n",
      "\n",
      "Iteration: 1500\tLoss: 0.07609843462705612\n",
      "\n",
      "Iteration: 1600\tLoss: 0.04357651621103287\n",
      "\n",
      "Iteration: 1700\tLoss: 0.039780765771865845\n",
      "\n",
      "Iteration: 1800\tLoss: 0.19852864742279053\n",
      "\n",
      "Iteration: 1900\tLoss: 0.03581031784415245\n",
      "\n"
     ]
    }
   ],
   "source": [
    "opt_state = opt_init(params)\n",
    "opt_state = training_loop(opt_update, opt_state, max_iter = 2000)"
   ]
  },
  {
   "cell_type": "code",
   "execution_count": 11,
   "id": "0902002d",
   "metadata": {},
   "outputs": [
    {
     "data": {
      "text/plain": [
       "<AxesSubplot:xlabel='X', ylabel='estimated_v'>"
      ]
     },
     "execution_count": 11,
     "metadata": {},
     "output_type": "execute_result"
    },
    {
     "data": {
      "image/png": "[encoded data removed]",
      "text/plain": [
       "<Figure size 1152x432 with 2 Axes>"
      ]
     },
     "metadata": {
      "needs_background": "light"
     },
     "output_type": "display_data"
    }
   ],
   "source": [
    "params = get_params(opt_state)\n",
    "\n",
    "X = jnp.exp(a * jax.random.normal(jax.random.PRNGKey(np.random.randint(1, int(1e8))), shape=(n,))) + b\n",
    "y = (1 - beta) * jnp.log(X)\n",
    "y_hat = jax.vmap(V_hat, in_axes=(None, 0))(params, X)\n",
    "\n",
    "df = pd.DataFrame(jnp.concatenate((X.reshape(-1, 1), y.reshape(-1, 1), y_hat.reshape(-1, 1)), axis=1))\n",
    "df.columns = ['X', 'actual_v', 'estimated_v']\n",
    "\n",
    "fig, axes = plt.subplots(1, 2, figsize=(16, 6))\n",
    "df.plot(x='X', y='actual_v', kind='scatter', ax=axes[0])\n",
    "df.plot(x='X', y='estimated_v', kind='scatter', ax=axes[1])"
   ]
  },
  {
   "cell_type": "code",
   "execution_count": 12,
   "id": "b0f7e078",
   "metadata": {},
   "outputs": [
    {
     "name": "stdout",
     "output_type": "stream",
     "text": [
      "Iteration: 0\tLoss: 0.03258960321545601\n",
      "\n",
      "Iteration: 100\tLoss: 0.08383779972791672\n",
      "\n",
      "Iteration: 200\tLoss: 0.16770562529563904\n",
      "\n",
      "Iteration: 300\tLoss: 0.052202947437763214\n",
      "\n",
      "Iteration: 400\tLoss: 0.06453435122966766\n",
      "\n",
      "Iteration: 500\tLoss: 0.0836067870259285\n",
      "\n",
      "Iteration: 600\tLoss: 0.16999265551567078\n",
      "\n",
      "Iteration: 700\tLoss: 0.7864675521850586\n",
      "\n",
      "Iteration: 800\tLoss: 0.22831860184669495\n",
      "\n",
      "Iteration: 900\tLoss: 0.19941535592079163\n",
      "\n",
      "Iteration: 1000\tLoss: 0.11369992047548294\n",
      "\n",
      "Iteration: 1100\tLoss: 0.12293203920125961\n",
      "\n",
      "Iteration: 1200\tLoss: 1.282487154006958\n",
      "\n",
      "Iteration: 1300\tLoss: 0.267909437417984\n",
      "\n",
      "Iteration: 1400\tLoss: 0.13939431309700012\n",
      "\n",
      "Iteration: 1500\tLoss: 0.07543408870697021\n",
      "\n",
      "Iteration: 1600\tLoss: 0.05059788003563881\n",
      "\n",
      "Iteration: 1700\tLoss: 0.061057962477207184\n",
      "\n",
      "Iteration: 1800\tLoss: 0.06964084506034851\n",
      "\n",
      "Iteration: 1900\tLoss: 0.031363509595394135\n",
      "\n"
     ]
    }
   ],
   "source": [
    "opt_state = opt_init(params)\n",
    "opt_state = training_loop(opt_update, opt_state, max_iter = 2000)"
   ]
  },
  {
   "cell_type": "code",
   "execution_count": 13,
   "id": "f22267db",
   "metadata": {},
   "outputs": [
    {
     "data": {
      "text/plain": [
       "<AxesSubplot:xlabel='X', ylabel='estimated_v'>"
      ]
     },
     "execution_count": 13,
     "metadata": {},
     "output_type": "execute_result"
    },
    {
     "data": {
      "image/png": "[encoded data removed]",
      "text/plain": [
       "<Figure size 1152x432 with 2 Axes>"
      ]
     },
     "metadata": {
      "needs_background": "light"
     },
     "output_type": "display_data"
    }
   ],
   "source": [
    "params = get_params(opt_state)\n",
    "\n",
    "X = jnp.exp(a * jax.random.normal(jax.random.PRNGKey(np.random.randint(1, int(1e8))), shape=(n,))) + b\n",
    "y = (1 - beta) * jnp.log(X)\n",
    "y_hat = jax.vmap(V_hat, in_axes=(None, 0))(params, X)\n",
    "\n",
    "df = pd.DataFrame(jnp.concatenate((X.reshape(-1, 1), y.reshape(-1, 1), y_hat.reshape(-1, 1)), axis=1))\n",
    "df.columns = ['X', 'actual_v', 'estimated_v']\n",
    "\n",
    "fig, axes = plt.subplots(1, 2, figsize=(16, 6))\n",
    "df.plot(x='X', y='actual_v', kind='scatter', ax=axes[0])\n",
    "df.plot(x='X', y='estimated_v', kind='scatter', ax=axes[1])"
   ]
  },
  {
   "cell_type": "code",
   "execution_count": 14,
   "id": "b937c8e1",
   "metadata": {
    "scrolled": true
   },
   "outputs": [
    {
     "name": "stdout",
     "output_type": "stream",
     "text": [
      "Iteration: 0\tLoss: 0.03403453528881073\n",
      "\n",
      "Iteration: 100\tLoss: 0.06758250296115875\n",
      "\n",
      "Iteration: 200\tLoss: 0.10057917982339859\n",
      "\n",
      "Iteration: 300\tLoss: 0.08908604085445404\n",
      "\n",
      "Iteration: 400\tLoss: 0.04056765139102936\n",
      "\n",
      "Iteration: 500\tLoss: 0.03734118863940239\n",
      "\n",
      "Iteration: 600\tLoss: 0.034492865204811096\n",
      "\n",
      "Iteration: 700\tLoss: 0.030683785676956177\n",
      "\n",
      "Iteration: 800\tLoss: 0.03995654731988907\n",
      "\n",
      "Iteration: 900\tLoss: 0.018979625776410103\n",
      "\n",
      "Iteration: 1000\tLoss: 0.022882381454110146\n",
      "\n",
      "Iteration: 1100\tLoss: 0.016464393585920334\n",
      "\n",
      "Iteration: 1200\tLoss: 0.02071227878332138\n",
      "\n",
      "Iteration: 1300\tLoss: 0.015150636434555054\n",
      "\n",
      "Iteration: 1400\tLoss: 0.03993479162454605\n",
      "\n",
      "Iteration: 1500\tLoss: 0.05796993523836136\n",
      "\n",
      "Iteration: 1600\tLoss: 0.012616516090929508\n",
      "\n",
      "Iteration: 1700\tLoss: 0.03737881779670715\n",
      "\n",
      "Iteration: 1800\tLoss: 0.026369400322437286\n",
      "\n",
      "Iteration: 1900\tLoss: 0.020301591604948044\n",
      "\n",
      "Iteration: 2000\tLoss: 0.015852689743041992\n",
      "\n",
      "Iteration: 2100\tLoss: 0.031400300562381744\n",
      "\n",
      "Iteration: 2200\tLoss: 0.04162353277206421\n",
      "\n",
      "Iteration: 2300\tLoss: 0.01601029373705387\n",
      "\n",
      "Iteration: 2400\tLoss: 0.011447018012404442\n",
      "\n",
      "Iteration: 2500\tLoss: 0.009774070233106613\n",
      "\n",
      "Iteration: 2600\tLoss: 0.02208944596350193\n",
      "\n",
      "Iteration: 2700\tLoss: 0.12408383935689926\n",
      "\n",
      "Iteration: 2800\tLoss: 0.052541252225637436\n",
      "\n",
      "Iteration: 2900\tLoss: 1.1518609523773193\n",
      "\n",
      "Iteration: 3000\tLoss: 1.4250593185424805\n",
      "\n",
      "Iteration: 3100\tLoss: 0.12401027977466583\n",
      "\n",
      "Iteration: 3200\tLoss: 0.04000960662961006\n",
      "\n",
      "Iteration: 3300\tLoss: 0.13803847134113312\n",
      "\n",
      "Iteration: 3400\tLoss: 0.22728027403354645\n",
      "\n",
      "Iteration: 3500\tLoss: 0.023096580058336258\n",
      "\n",
      "Iteration: 3600\tLoss: 0.0302645992487669\n",
      "\n",
      "Iteration: 3700\tLoss: 0.04042305797338486\n",
      "\n",
      "Iteration: 3800\tLoss: 0.11808973550796509\n",
      "\n",
      "Iteration: 3900\tLoss: 0.021547731012105942\n",
      "\n",
      "Iteration: 4000\tLoss: 0.027838649228215218\n",
      "\n",
      "Iteration: 4100\tLoss: 0.03358768671751022\n",
      "\n",
      "Iteration: 4200\tLoss: 0.21695920825004578\n",
      "\n",
      "Iteration: 4300\tLoss: 0.08558192104101181\n",
      "\n",
      "Iteration: 4400\tLoss: 0.02278147079050541\n",
      "\n",
      "Iteration: 4500\tLoss: 0.01904677040874958\n",
      "\n",
      "Iteration: 4600\tLoss: 0.019735097885131836\n",
      "\n",
      "Iteration: 4700\tLoss: 0.13770230114459991\n",
      "\n",
      "Iteration: 4800\tLoss: 0.03151387721300125\n",
      "\n",
      "Iteration: 4900\tLoss: 0.018514465540647507\n",
      "\n"
     ]
    }
   ],
   "source": [
    "opt_state = opt_init(params)\n",
    "opt_state = training_loop(opt_update, opt_state, max_iter = 5000)"
   ]
  },
  {
   "cell_type": "code",
   "execution_count": 15,
   "id": "4fd88545",
   "metadata": {},
   "outputs": [
    {
     "data": {
      "text/plain": [
       "<AxesSubplot:xlabel='X', ylabel='estimated_v'>"
      ]
     },
     "execution_count": 15,
     "metadata": {},
     "output_type": "execute_result"
    },
    {
     "data": {
      "image/png": "[encoded data removed]",
      "text/plain": [
       "<Figure size 1152x432 with 2 Axes>"
      ]
     },
     "metadata": {
      "needs_background": "light"
     },
     "output_type": "display_data"
    }
   ],
   "source": [
    "params = get_params(opt_state)\n",
    "\n",
    "X = jnp.exp(a * jax.random.normal(jax.random.PRNGKey(np.random.randint(1, int(1e8))), shape=(n,))) + b\n",
    "y = (1 - beta) * jnp.log(X)\n",
    "y_hat = jax.vmap(V_hat, in_axes=(None, 0))(params, X)\n",
    "\n",
    "df = pd.DataFrame(jnp.concatenate((X.reshape(-1, 1), y.reshape(-1, 1), y_hat.reshape(-1, 1)), axis=1))\n",
    "df.columns = ['X', 'actual_v', 'estimated_v']\n",
    "\n",
    "fig, axes = plt.subplots(1, 2, figsize=(16, 6))\n",
    "df.plot(x='X', y='actual_v', kind='scatter', ax=axes[0])\n",
    "df.plot(x='X', y='estimated_v', kind='scatter', ax=axes[1])"
   ]
  },
  {
   "cell_type": "code",
   "execution_count": 16,
   "id": "9eac37b4",
   "metadata": {},
   "outputs": [
    {
     "name": "stdout",
     "output_type": "stream",
     "text": [
      "Iteration: 0\tLoss: 0.012659522704780102\n",
      "\n",
      "Iteration: 100\tLoss: 0.015245789662003517\n",
      "\n",
      "Iteration: 200\tLoss: 0.015313845127820969\n",
      "\n",
      "Iteration: 300\tLoss: 0.014058385044336319\n",
      "\n",
      "Iteration: 400\tLoss: 0.049452219158411026\n",
      "\n",
      "Iteration: 500\tLoss: 0.015958692878484726\n",
      "\n",
      "Iteration: 600\tLoss: 0.022175142541527748\n",
      "\n",
      "Iteration: 700\tLoss: 0.032887667417526245\n",
      "\n",
      "Iteration: 800\tLoss: 0.01759142428636551\n",
      "\n",
      "Iteration: 900\tLoss: 0.015372825786471367\n",
      "\n",
      "Iteration: 1000\tLoss: 0.04951736330986023\n",
      "\n",
      "Iteration: 1100\tLoss: 0.011151761747896671\n",
      "\n",
      "Iteration: 1200\tLoss: 0.016833588480949402\n",
      "\n",
      "Iteration: 1300\tLoss: 0.010111513547599316\n",
      "\n",
      "Iteration: 1400\tLoss: 0.41242098808288574\n",
      "\n",
      "Iteration: 1500\tLoss: 0.16552585363388062\n",
      "\n",
      "Iteration: 1600\tLoss: 0.08712005615234375\n",
      "\n",
      "Iteration: 1700\tLoss: 0.02823295071721077\n",
      "\n",
      "Iteration: 1800\tLoss: 0.030348017811775208\n",
      "\n",
      "Iteration: 1900\tLoss: 0.02391229197382927\n",
      "\n",
      "Iteration: 2000\tLoss: 0.02282063290476799\n",
      "\n",
      "Iteration: 2100\tLoss: 0.021261008456349373\n",
      "\n",
      "Iteration: 2200\tLoss: 0.03139621019363403\n",
      "\n",
      "Iteration: 2300\tLoss: 0.018952686339616776\n",
      "\n",
      "Iteration: 2400\tLoss: 0.05077330395579338\n",
      "\n",
      "Iteration: 2500\tLoss: 0.017303401604294777\n",
      "\n",
      "Iteration: 2600\tLoss: 0.01818263530731201\n",
      "\n",
      "Iteration: 2700\tLoss: 0.027278145775198936\n",
      "\n",
      "Iteration: 2800\tLoss: 0.017398707568645477\n",
      "\n",
      "Iteration: 2900\tLoss: 0.039163634181022644\n",
      "\n",
      "Iteration: 3000\tLoss: 0.036824844777584076\n",
      "\n",
      "Iteration: 3100\tLoss: 0.021649757400155067\n",
      "\n",
      "Iteration: 3200\tLoss: 0.02067059651017189\n",
      "\n",
      "Iteration: 3300\tLoss: 0.01667085662484169\n",
      "\n",
      "Iteration: 3400\tLoss: 0.035210736095905304\n",
      "\n",
      "Iteration: 3500\tLoss: 0.0161631777882576\n",
      "\n",
      "Iteration: 3600\tLoss: 0.014648272655904293\n",
      "\n",
      "Iteration: 3700\tLoss: 0.014026571065187454\n",
      "\n",
      "Iteration: 3800\tLoss: 0.023597680032253265\n",
      "\n",
      "Iteration: 3900\tLoss: 0.013162861578166485\n",
      "\n",
      "Iteration: 4000\tLoss: 0.013227706775069237\n",
      "\n",
      "Iteration: 4100\tLoss: 0.013530858792364597\n",
      "\n",
      "Iteration: 4200\tLoss: 0.02090049907565117\n",
      "\n",
      "Iteration: 4300\tLoss: 0.020188193768262863\n",
      "\n",
      "Iteration: 4400\tLoss: 0.023586515337228775\n",
      "\n",
      "Iteration: 4500\tLoss: 0.028496015816926956\n",
      "\n",
      "Iteration: 4600\tLoss: 0.07336671650409698\n",
      "\n",
      "Iteration: 4700\tLoss: 0.014399651437997818\n",
      "\n",
      "Iteration: 4800\tLoss: 0.018740952014923096\n",
      "\n",
      "Iteration: 4900\tLoss: 0.052348919212818146\n",
      "\n"
     ]
    }
   ],
   "source": [
    "opt_state = opt_init(params)\n",
    "opt_state = training_loop(opt_update, opt_state, max_iter = 5000)"
   ]
  },
  {
   "cell_type": "code",
   "execution_count": 17,
   "id": "44bc497d",
   "metadata": {},
   "outputs": [
    {
     "data": {
      "text/plain": [
       "<AxesSubplot:xlabel='X', ylabel='estimated_v'>"
      ]
     },
     "execution_count": 17,
     "metadata": {},
     "output_type": "execute_result"
    },
    {
     "data": {
      "image/png": "[encoded data removed]",
      "text/plain": [
       "<Figure size 1152x432 with 2 Axes>"
      ]
     },
     "metadata": {
      "needs_background": "light"
     },
     "output_type": "display_data"
    }
   ],
   "source": [
    "params = get_params(opt_state)\n",
    "\n",
    "X = jnp.exp(a * jax.random.normal(jax.random.PRNGKey(np.random.randint(1, int(1e8))), shape=(n,))) + b\n",
    "y = (1 - beta) * jnp.log(X)\n",
    "y_hat = jax.vmap(V_hat, in_axes=(None, 0))(params, X)\n",
    "\n",
    "df = pd.DataFrame(jnp.concatenate((X.reshape(-1, 1), y.reshape(-1, 1), y_hat.reshape(-1, 1)), axis=1))\n",
    "df.columns = ['X', 'actual_v', 'estimated_v']\n",
    "\n",
    "fig, axes = plt.subplots(1, 2, figsize=(16, 6))\n",
    "df.plot(x='X', y='actual_v', kind='scatter', ax=axes[0])\n",
    "df.plot(x='X', y='estimated_v', kind='scatter', ax=axes[1])"
   ]
  }
 ],
 "metadata": {
  "kernelspec": {
   "display_name": "hetero_simulation",
   "language": "python",
   "name": "hetero_simulation"
  },
  "language_info": {
   "codemirror_mode": {
    "name": "ipython",
    "version": 3
   },
   "file_extension": ".py",
   "mimetype": "text/x-python",
   "name": "python",
   "nbconvert_exporter": "python",
   "pygments_lexer": "ipython3",
   "version": "3.9.7"
  }
 },
 "nbformat": 4,
 "nbformat_minor": 5
}
