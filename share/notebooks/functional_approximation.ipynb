{
 "cells": [
  {
   "cell_type": "code",
   "execution_count": 2,
   "id": "37ba07b2",
   "metadata": {},
   "outputs": [],
   "source": [
    "import jax\n",
    "import jax.numpy as jnp\n",
    "import pandas as pd\n",
    "import numpy as np\n",
    "import matplotlib.pyplot as plt\n",
    "from jax.example_libraries.optimizers import adam as optimizer\n",
    "# jax.config.update('jax_platform_name', 'cpu')\n",
    "# jax.config.update('jax_disable_jit', True)"
   ]
  },
  {
   "cell_type": "code",
   "execution_count": 2,
   "id": "a795b425",
   "metadata": {},
   "outputs": [],
   "source": [
    "MB = 128\n",
    "NN_SHAPES = jnp.array([64, 64])\n",
    "SCALE = 1\n",
    "INIT_KEYS = jax.random.split(jax.random.PRNGKey(1), 6)\n",
    "\n",
    "OBJECTIVE_FN = lambda x: jnp.log(x)"
   ]
  },
  {
   "cell_type": "code",
   "execution_count": 3,
   "id": "397c9134",
   "metadata": {},
   "outputs": [],
   "source": [
    "w0 = SCALE * jax.random.normal(INIT_KEYS[0], shape=(1, NN_SHAPES[0]))\n",
    "w1 = SCALE * jax.random.normal(INIT_KEYS[1], shape=(NN_SHAPES[0], NN_SHAPES[1]))\n",
    "wf = SCALE * jax.random.normal(INIT_KEYS[2], shape=(NN_SHAPES[1], 1))\n",
    "b0 = SCALE * jax.random.normal(INIT_KEYS[3], shape=(1, NN_SHAPES[0]))\n",
    "b1 = SCALE * jax.random.normal(INIT_KEYS[4], shape=(1, NN_SHAPES[1]))\n",
    "bf = SCALE * jax.random.normal(INIT_KEYS[5], shape=(1, 1))\n",
    "params0 = {'w0': w0, 'w1': w1, 'wf': wf, 'b0': b0, 'b1': b1, 'bf': bf}"
   ]
  },
  {
   "cell_type": "code",
   "execution_count": 4,
   "id": "0ff936ca",
   "metadata": {},
   "outputs": [],
   "source": [
    "@jax.jit\n",
    "def linear(X, w, b):\n",
    "    return jnp.dot(X, w) + b\n",
    "\n",
    "\n",
    "@jax.jit\n",
    "def relu(X, w, b):\n",
    "    return jnp.maximum(linear(X, w, b), 0)\n",
    "\n",
    "\n",
    "@jax.jit\n",
    "def neural_network(params, x):\n",
    "    l0 = jnp.squeeze(x)\n",
    "    l1 = relu(l0, params['w0'], params['b0'])\n",
    "    l2 = relu(l1, params['w1'], params['b1'])\n",
    "    return linear(l2, params['wf'], params['bf'])\n",
    "\n",
    "\n",
    "@jax.jit\n",
    "def loss(params, x):\n",
    "    return neural_network(params, x) - OBJECTIVE_FN(x)\n",
    "\n",
    "\n",
    "@jax.jit\n",
    "def batch_loss(params, xs):\n",
    "    losses = jax.vmap(loss, in_axes=(None, 0))(params, xs)\n",
    "    return jnp.mean(losses**2)"
   ]
  },
  {
   "cell_type": "code",
   "execution_count": 5,
   "id": "1e7304f4",
   "metadata": {},
   "outputs": [],
   "source": [
    "def training_loop(X, opt_state, opt_update, get_params, max_iter=1000):\n",
    "    j = 0\n",
    "    key = jax.random.PRNGKey(1)\n",
    "\n",
    "    while j < max_iter:\n",
    "        sample = jax.random.choice(key, jnp.arange(X.shape[0]), (MB,))\n",
    "        key, subkey = jax.random.split(key)\n",
    "\n",
    "        val_loss, grad = jax.value_and_grad(batch_loss)(get_params(opt_state), X[sample])\n",
    "        opt_state = opt_update(j, grad, opt_state)\n",
    "        j += 1\n",
    "        if j % 100 == 0:\n",
    "            print(f'Iteration: {j}\\tLoss: {val_loss}')\n",
    "            \n",
    "    return opt_state"
   ]
  },
  {
   "cell_type": "code",
   "execution_count": 6,
   "id": "56502892",
   "metadata": {
    "scrolled": true
   },
   "outputs": [
    {
     "name": "stdout",
     "output_type": "stream",
     "text": [
      "Iteration: 100\tLoss: 0.1304958015680313\n",
      "Iteration: 200\tLoss: 0.11082467436790466\n",
      "Iteration: 300\tLoss: 0.4605870544910431\n",
      "Iteration: 400\tLoss: 0.008836527355015278\n",
      "Iteration: 500\tLoss: 0.016579141840338707\n",
      "Iteration: 600\tLoss: 0.0284770168364048\n",
      "Iteration: 700\tLoss: 0.045293230563402176\n",
      "Iteration: 800\tLoss: 0.06041039526462555\n",
      "Iteration: 900\tLoss: 0.05574238672852516\n",
      "Iteration: 1000\tLoss: 0.0053846752271056175\n"
     ]
    }
   ],
   "source": [
    "opt_init, opt_update, get_params = optimizer(step_size=1e-3)\n",
    "opt_state = opt_init(params0)\n",
    "X = jnp.linspace(1e-5, 1., 1000)\n",
    "\n",
    "opt_state = training_loop(X, opt_state, opt_update, get_params)"
   ]
  },
  {
   "cell_type": "code",
   "execution_count": 7,
   "id": "e02511f9",
   "metadata": {},
   "outputs": [
    {
     "data": {
      "text/plain": [
       "<AxesSubplot:xlabel='0'>"
      ]
     },
     "execution_count": 7,
     "metadata": {},
     "output_type": "execute_result"
    },
    {
     "data": {
      "image/png": "[encoded data removed]",
      "text/plain": [
       "<Figure size 432x288 with 1 Axes>"
      ]
     },
     "metadata": {
      "needs_background": "light"
     },
     "output_type": "display_data"
    }
   ],
   "source": [
    "params = get_params(opt_state)\n",
    "init = jax.vmap(neural_network, in_axes=(None, 0))(params0, X)\n",
    "pred = jax.vmap(neural_network, in_axes=(None, 0))(params, X)\n",
    "true = jax.vmap(OBJECTIVE_FN)(X)\n",
    "df = pd.DataFrame(jnp.concatenate((X.reshape(-1, 1), init.reshape(-1, 1), pred.reshape(-1, 1), true.reshape(-1, 1)), axis=1)).set_index(0)\n",
    "df.columns = ['initial', 'predicted', 'true']\n",
    "df.plot(y=['predicted', 'true'])"
   ]
  },
  {
   "cell_type": "code",
   "execution_count": 7,
   "id": "015d72bc",
   "metadata": {},
   "outputs": [
    {
     "ename": "TypeError",
     "evalue": "softmax() got an unexpected keyword argument 'where'",
     "output_type": "error",
     "traceback": [
      "\u001b[0;31m---------------------------------------------------------------------------\u001b[0m",
      "\u001b[0;31mTypeError\u001b[0m                                 Traceback (most recent call last)",
      "\u001b[0;32m/tmp/ipykernel_9914/3574130710.py\u001b[0m in \u001b[0;36m<module>\u001b[0;34m\u001b[0m\n\u001b[1;32m      1\u001b[0m \u001b[0ma\u001b[0m \u001b[0;34m=\u001b[0m \u001b[0mjnp\u001b[0m\u001b[0;34m.\u001b[0m\u001b[0marange\u001b[0m\u001b[0;34m(\u001b[0m\u001b[0;36m4\u001b[0m\u001b[0;34m)\u001b[0m\u001b[0;34m\u001b[0m\u001b[0;34m\u001b[0m\u001b[0m\n\u001b[1;32m      2\u001b[0m \u001b[0mb\u001b[0m \u001b[0;34m=\u001b[0m \u001b[0mjnp\u001b[0m\u001b[0;34m.\u001b[0m\u001b[0marange\u001b[0m\u001b[0;34m(\u001b[0m\u001b[0;36m4\u001b[0m\u001b[0;34m)\u001b[0m\u001b[0;34m\u001b[0m\u001b[0;34m\u001b[0m\u001b[0m\n\u001b[0;32m----> 3\u001b[0;31m \u001b[0mjax\u001b[0m\u001b[0;34m.\u001b[0m\u001b[0mnn\u001b[0m\u001b[0;34m.\u001b[0m\u001b[0msoftmax\u001b[0m\u001b[0;34m(\u001b[0m\u001b[0ma\u001b[0m\u001b[0;34m,\u001b[0m \u001b[0mwhere\u001b[0m\u001b[0;34m=\u001b[0m\u001b[0;32mNone\u001b[0m\u001b[0;34m)\u001b[0m\u001b[0;34m\u001b[0m\u001b[0;34m\u001b[0m\u001b[0m\n\u001b[0m",
      "\u001b[0;31mTypeError\u001b[0m: softmax() got an unexpected keyword argument 'where'"
     ]
    }
   ],
   "source": [
    "a = jnp.arange(4)\n",
    "b = jnp.arange(4)\n",
    "jax.nn.softmax(a, where=None)"
   ]
  },
  {
   "cell_type": "code",
   "execution_count": 12,
   "id": "00e9b363",
   "metadata": {},
   "outputs": [
    {
     "data": {
      "text/plain": [
       "<Signature (x: Any, axis: Union[int, Tuple[int, ...], NoneType] = -1) -> Any>"
      ]
     },
     "execution_count": 12,
     "metadata": {},
     "output_type": "execute_result"
    }
   ],
   "source": [
    "import inspect\n",
    "inspect.signature(jax.nn.softmax)"
   ]
  }
 ],
 "metadata": {
  "kernelspec": {
   "display_name": "hetero_simulation",
   "language": "python",
   "name": "hetero_simulation"
  },
  "language_info": {
   "codemirror_mode": {
    "name": "ipython",
    "version": 3
   },
   "file_extension": ".py",
   "mimetype": "text/x-python",
   "name": "python",
   "nbconvert_exporter": "python",
   "pygments_lexer": "ipython3",
   "version": "3.9.10"
  }
 },
 "nbformat": 4,
 "nbformat_minor": 5
}
