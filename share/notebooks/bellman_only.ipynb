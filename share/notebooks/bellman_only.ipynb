{
 "cells": [
  {
   "cell_type": "code",
   "execution_count": 1,
   "id": "37ba07b2",
   "metadata": {},
   "outputs": [],
   "source": [
    "import jax\n",
    "import jax.numpy as jnp\n",
    "import pandas as pd\n",
    "import numpy as np\n",
    "import matplotlib.pyplot as plt\n",
    "from jax.example_libraries.optimizers import adam as optimizer\n",
    "jax.config.update('jax_platform_name', 'cpu')\n",
    "# jax.config.update('jax_disable_jit', True)"
   ]
  },
  {
   "cell_type": "code",
   "execution_count": 2,
   "id": "a795b425",
   "metadata": {},
   "outputs": [],
   "source": [
    "MB = 2 ** 10\n",
    "NN_SHAPES = jnp.array([64, 64, 64])\n",
    "SCALE = 0.1\n",
    "INIT_KEYS = jax.random.split(jax.random.PRNGKey(1), 8)\n",
    "STEP_SIZE = 1e-1\n",
    "\n",
    "BETA = 0.9\n",
    "MAX_AGE = 2.\n",
    "OBJECTIVE_FN = lambda x, t: jax.lax.select(t == 2., \n",
    "                                           jnp.array([jnp.log(x), x]), \n",
    "                                           jax.lax.select(t == 1., \n",
    "                                                          jnp.array([jnp.log(x / (1 + BETA)) + BETA * jnp.log((BETA * x) / (1 + BETA)), (x / (1 + BETA))]), \n",
    "                                                          jnp.array([(1 + BETA + BETA**2) * jnp.log(x) - (1 + BETA + BETA **2) * jnp.log(1 + BETA + BETA**2) + BETA * (1 + 2 * BETA) * jnp.log(BETA),\n",
    "                                                                     x / (1 + BETA + BETA**2)])))"
   ]
  },
  {
   "cell_type": "code",
   "execution_count": 3,
   "id": "397c9134",
   "metadata": {},
   "outputs": [],
   "source": [
    "w0 = SCALE * jax.random.normal(INIT_KEYS[0], shape=(2, NN_SHAPES[0]))\n",
    "w1 = SCALE * jax.random.normal(INIT_KEYS[1], shape=(NN_SHAPES[0], NN_SHAPES[1]))\n",
    "w2 = SCALE * jax.random.normal(INIT_KEYS[2], shape=(NN_SHAPES[1] + 2, NN_SHAPES[2]))\n",
    "wf = SCALE * jax.random.normal(INIT_KEYS[3], shape=(NN_SHAPES[2],))\n",
    "b0 = SCALE * jax.random.normal(INIT_KEYS[4], shape=(1, NN_SHAPES[0]))\n",
    "b1 = SCALE * jax.random.normal(INIT_KEYS[5], shape=(1, NN_SHAPES[1]))\n",
    "b2 = SCALE * jax.random.normal(INIT_KEYS[6], shape=(1, NN_SHAPES[2]))\n",
    "bf = SCALE * jax.random.normal(INIT_KEYS[7], shape=(1,))\n",
    "params0 = {'w0': w0, 'w1': w1, 'vw2': w2, 'cw2': w2, 'vwf': wf, 'cwf': wf, \n",
    "           'b0': b0, 'b1': b1, 'vb2': b2, 'cb2': b2, 'vbf': bf, 'cbf': bf}"
   ]
  },
  {
   "cell_type": "code",
   "execution_count": 4,
   "id": "0ff936ca",
   "metadata": {},
   "outputs": [],
   "source": [
    "@jax.jit\n",
    "def linear(X, w, b):\n",
    "    return jnp.dot(X, w) + b\n",
    "\n",
    "\n",
    "@jax.jit\n",
    "def relu(X, w, b):\n",
    "    return jnp.maximum(linear(X, w, b), 0)\n",
    "\n",
    "\n",
    "@jax.jit\n",
    "def neural_network(params, x, t):\n",
    "    l0 = jnp.concatenate((x[jnp.newaxis], t[jnp.newaxis]))\n",
    "    l1 = relu(l0, params['w0'], params['b0'])\n",
    "    l2 = jnp.squeeze(relu(l1, params['w1'], params['b1']))\n",
    "    \n",
    "    vl3 = relu(jnp.concatenate((l0, l2)), params['vw2'], params['vb2'])\n",
    "    vu = linear(vl3, params['vwf'], params['vbf'])\n",
    "    v = jnp.select(t[jnp.newaxis] > MAX_AGE, jnp.zeros(1), vu)\n",
    "    \n",
    "    cl3 = relu(jnp.concatenate((l0, l2)), params['cw2'], params['cb2'])\n",
    "    cu = x * jax.nn.tanh(linear(cl3, params['cwf'], params['cbf']) / 1000)\n",
    "    c = jnp.select(t[jnp.newaxis] >= MAX_AGE, x[jnp.newaxis], cu)\n",
    "    \n",
    "    return jnp.concatenate((v, c))\n",
    "\n",
    "\n",
    "@jax.jit\n",
    "def loss(params, x, t):\n",
    "    v0, c0 = neural_network(params, x, t)\n",
    "    v1, c1 = neural_network(params, x - c0, t + 1)\n",
    "    v1x = jax.grad(lambda x: neural_network(params, x, t + 1)[0])(x - c0)\n",
    "    \n",
    "    live_next = (t < MAX_AGE)\n",
    "    loss_bellman = (jnp.log(c0) + BETA * v1) - v0\n",
    "    \n",
    "    return loss_bellman\n",
    "\n",
    "\n",
    "@jax.jit\n",
    "def batch_loss(params, xs, ts):\n",
    "    losses = jax.vmap(loss, in_axes=(None, 0, 0))(params, xs, ts)\n",
    "    return jnp.mean(losses**2)"
   ]
  },
  {
   "cell_type": "code",
   "execution_count": 5,
   "id": "1e7304f4",
   "metadata": {},
   "outputs": [],
   "source": [
    "all_X = jnp.concatenate((jnp.linspace(1e-5, 1., 1000), jnp.linspace(1e-5, 1., 1000)))\n",
    "all_T = jnp.concatenate((jnp.zeros(1000), jnp.ones(1000)))\n",
    "\n",
    "def training_loop(X, T, opt_state, opt_update, get_params, max_iter=1000):\n",
    "    j = 0\n",
    "    key = jax.random.PRNGKey(1)\n",
    "    keys = jax.random.split(key, max_iter)\n",
    "    \n",
    "    best_opt_state = opt_state\n",
    "    best_loss = batch_loss(get_params(best_opt_state), all_X, all_T)\n",
    "\n",
    "    while j < max_iter:\n",
    "        key = keys[j]\n",
    "        sample = jax.random.choice(key, jnp.arange(X.shape[0]), (2, MB))\n",
    "        params = get_params(opt_state)\n",
    "\n",
    "        val_loss, grad = jax.value_and_grad(batch_loss)(params, X[sample[0]], T[sample[1]])\n",
    "        opt_state = opt_update(j, grad, opt_state)\n",
    "        \n",
    "        if j % 100 == 0:\n",
    "            fair_loss = batch_loss(params, all_X, all_T)\n",
    "            if fair_loss < best_loss:\n",
    "                best_opt_state = opt_state\n",
    "                best_loss = fair_loss\n",
    "            print(f'Iteration: {j}\\tCurrent Loss: {val_loss:.4f}\\tFair Loss: {fair_loss:.4f}')\n",
    "        j += 1\n",
    "            \n",
    "    return opt_state, best_opt_state"
   ]
  },
  {
   "cell_type": "code",
   "execution_count": 12,
   "id": "d853575f",
   "metadata": {},
   "outputs": [
    {
     "name": "stdout",
     "output_type": "stream",
     "text": [
      "Iteration: 0\tCurrent Loss: 0.0325\tFair Loss: 0.0336\n",
      "Iteration: 100\tCurrent Loss: 0.0087\tFair Loss: 0.0320\n",
      "Iteration: 200\tCurrent Loss: 0.0120\tFair Loss: 0.0314\n",
      "Iteration: 300\tCurrent Loss: 0.0298\tFair Loss: 0.0311\n",
      "Iteration: 400\tCurrent Loss: 0.0086\tFair Loss: 0.0319\n",
      "Iteration: 500\tCurrent Loss: 0.0291\tFair Loss: 0.0416\n",
      "Iteration: 600\tCurrent Loss: 0.0302\tFair Loss: 0.0331\n",
      "Iteration: 700\tCurrent Loss: 0.0750\tFair Loss: 0.0336\n",
      "Iteration: 800\tCurrent Loss: 0.0544\tFair Loss: 0.0355\n",
      "Iteration: 900\tCurrent Loss: 0.0154\tFair Loss: 0.0343\n",
      "Iteration: 1000\tCurrent Loss: 0.0084\tFair Loss: 0.0325\n",
      "Iteration: 1100\tCurrent Loss: 0.0689\tFair Loss: 0.0435\n",
      "Iteration: 1200\tCurrent Loss: 0.0119\tFair Loss: 0.0314\n",
      "Iteration: 1300\tCurrent Loss: 0.0177\tFair Loss: 0.0303\n",
      "Iteration: 1400\tCurrent Loss: 0.0502\tFair Loss: 0.0581\n",
      "Iteration: 1500\tCurrent Loss: 0.0483\tFair Loss: 0.0308\n",
      "Iteration: 1600\tCurrent Loss: 0.0211\tFair Loss: 0.0458\n",
      "Iteration: 1700\tCurrent Loss: 0.0117\tFair Loss: 0.0315\n",
      "Iteration: 1800\tCurrent Loss: 0.0525\tFair Loss: 0.0548\n",
      "Iteration: 1900\tCurrent Loss: 0.0581\tFair Loss: 0.0652\n",
      "Iteration: 2000\tCurrent Loss: 0.0620\tFair Loss: 0.0524\n",
      "Iteration: 2100\tCurrent Loss: 0.0117\tFair Loss: 0.0318\n",
      "Iteration: 2200\tCurrent Loss: 0.0154\tFair Loss: 0.0437\n",
      "Iteration: 2300\tCurrent Loss: 0.0344\tFair Loss: 0.0370\n",
      "Iteration: 2400\tCurrent Loss: 0.0520\tFair Loss: 0.0306\n",
      "Iteration: 2500\tCurrent Loss: 0.0132\tFair Loss: 0.0293\n",
      "Iteration: 2600\tCurrent Loss: 0.0346\tFair Loss: 0.0407\n",
      "Iteration: 2700\tCurrent Loss: 0.0287\tFair Loss: 0.0290\n",
      "Iteration: 2800\tCurrent Loss: 0.0635\tFair Loss: 0.0282\n",
      "Iteration: 2900\tCurrent Loss: 0.0105\tFair Loss: 0.0288\n",
      "Iteration: 3000\tCurrent Loss: 0.0379\tFair Loss: 0.0435\n",
      "Iteration: 3100\tCurrent Loss: 0.0503\tFair Loss: 0.0310\n",
      "Iteration: 3200\tCurrent Loss: 0.0467\tFair Loss: 0.0311\n",
      "Iteration: 3300\tCurrent Loss: 0.0312\tFair Loss: 0.0274\n",
      "Iteration: 3400\tCurrent Loss: 0.0496\tFair Loss: 0.0398\n",
      "Iteration: 3500\tCurrent Loss: 0.0131\tFair Loss: 0.0290\n",
      "Iteration: 3600\tCurrent Loss: 0.0087\tFair Loss: 0.0288\n",
      "Iteration: 3700\tCurrent Loss: 0.0379\tFair Loss: 0.0279\n",
      "Iteration: 3800\tCurrent Loss: 0.0505\tFair Loss: 0.0796\n",
      "Iteration: 3900\tCurrent Loss: 0.0277\tFair Loss: 0.0278\n",
      "Iteration: 4000\tCurrent Loss: 0.0493\tFair Loss: 0.0348\n",
      "Iteration: 4100\tCurrent Loss: 0.0565\tFair Loss: 0.0261\n",
      "Iteration: 4200\tCurrent Loss: 0.0457\tFair Loss: 0.0269\n",
      "Iteration: 4300\tCurrent Loss: 0.0214\tFair Loss: 0.0429\n",
      "Iteration: 4400\tCurrent Loss: 0.0250\tFair Loss: 0.0262\n",
      "Iteration: 4500\tCurrent Loss: 0.0163\tFair Loss: 0.0403\n",
      "Iteration: 4600\tCurrent Loss: 0.0071\tFair Loss: 0.0274\n",
      "Iteration: 4700\tCurrent Loss: 0.0258\tFair Loss: 0.0252\n",
      "Iteration: 4800\tCurrent Loss: 0.0488\tFair Loss: 0.0307\n",
      "Iteration: 4900\tCurrent Loss: 0.0088\tFair Loss: 0.0273\n",
      "Iteration: 5000\tCurrent Loss: 0.0334\tFair Loss: 0.0375\n",
      "Iteration: 5100\tCurrent Loss: 0.0598\tFair Loss: 0.0259\n",
      "Iteration: 5200\tCurrent Loss: 0.0670\tFair Loss: 0.0322\n",
      "Iteration: 5300\tCurrent Loss: 0.0165\tFair Loss: 0.0370\n",
      "Iteration: 5400\tCurrent Loss: 0.0090\tFair Loss: 0.0256\n",
      "Iteration: 5500\tCurrent Loss: 0.0158\tFair Loss: 0.0344\n",
      "Iteration: 5600\tCurrent Loss: 0.0391\tFair Loss: 0.0429\n",
      "Iteration: 5700\tCurrent Loss: 0.0463\tFair Loss: 0.0302\n",
      "Iteration: 5800\tCurrent Loss: 0.0306\tFair Loss: 0.0279\n",
      "Iteration: 5900\tCurrent Loss: 0.0096\tFair Loss: 0.0245\n",
      "Iteration: 6000\tCurrent Loss: 0.0147\tFair Loss: 0.0351\n",
      "Iteration: 6100\tCurrent Loss: 0.0184\tFair Loss: 0.0412\n",
      "Iteration: 6200\tCurrent Loss: 0.0225\tFair Loss: 0.0277\n",
      "Iteration: 6300\tCurrent Loss: 0.0388\tFair Loss: 0.0272\n",
      "Iteration: 6400\tCurrent Loss: 0.0428\tFair Loss: 0.0515\n",
      "Iteration: 6500\tCurrent Loss: 0.0092\tFair Loss: 0.0248\n",
      "Iteration: 6600\tCurrent Loss: 0.0131\tFair Loss: 0.0314\n",
      "Iteration: 6700\tCurrent Loss: 0.0443\tFair Loss: 0.0340\n",
      "Iteration: 6800\tCurrent Loss: 0.0380\tFair Loss: 0.0235\n",
      "Iteration: 6900\tCurrent Loss: 0.0372\tFair Loss: 0.0263\n",
      "Iteration: 7000\tCurrent Loss: 0.0293\tFair Loss: 0.0333\n",
      "Iteration: 7100\tCurrent Loss: 0.0252\tFair Loss: 0.0246\n",
      "Iteration: 7200\tCurrent Loss: 0.0132\tFair Loss: 0.0317\n",
      "Iteration: 7300\tCurrent Loss: 0.0207\tFair Loss: 0.0402\n",
      "Iteration: 7400\tCurrent Loss: 0.0274\tFair Loss: 0.0259\n",
      "Iteration: 7500\tCurrent Loss: 0.0113\tFair Loss: 0.0241\n",
      "Iteration: 7600\tCurrent Loss: 0.0426\tFair Loss: 0.0343\n",
      "Iteration: 7700\tCurrent Loss: 0.0235\tFair Loss: 0.0243\n",
      "Iteration: 7800\tCurrent Loss: 0.0076\tFair Loss: 0.0252\n",
      "Iteration: 7900\tCurrent Loss: 0.0478\tFair Loss: 0.0517\n",
      "Iteration: 8000\tCurrent Loss: 0.0400\tFair Loss: 0.0277\n",
      "Iteration: 8100\tCurrent Loss: 0.0378\tFair Loss: 0.0246\n",
      "Iteration: 8200\tCurrent Loss: 0.0567\tFair Loss: 0.0623\n",
      "Iteration: 8300\tCurrent Loss: 0.0376\tFair Loss: 0.0233\n",
      "Iteration: 8400\tCurrent Loss: 0.0622\tFair Loss: 0.0782\n",
      "Iteration: 8500\tCurrent Loss: 0.0232\tFair Loss: 0.0248\n",
      "Iteration: 8600\tCurrent Loss: 0.0228\tFair Loss: 0.0245\n",
      "Iteration: 8700\tCurrent Loss: 0.0349\tFair Loss: 0.0409\n",
      "Iteration: 8800\tCurrent Loss: 0.0267\tFair Loss: 0.0302\n",
      "Iteration: 8900\tCurrent Loss: 0.0587\tFair Loss: 0.0306\n",
      "Iteration: 9000\tCurrent Loss: 0.0256\tFair Loss: 0.0234\n",
      "Iteration: 9100\tCurrent Loss: 0.0216\tFair Loss: 0.0386\n",
      "Iteration: 9200\tCurrent Loss: 0.0684\tFair Loss: 0.0640\n",
      "Iteration: 9300\tCurrent Loss: 0.0241\tFair Loss: 0.0287\n",
      "Iteration: 9400\tCurrent Loss: 0.0234\tFair Loss: 0.0238\n",
      "Iteration: 9500\tCurrent Loss: 0.0106\tFair Loss: 0.0249\n",
      "Iteration: 9600\tCurrent Loss: 0.0177\tFair Loss: 0.0338\n",
      "Iteration: 9700\tCurrent Loss: 0.0680\tFair Loss: 0.0390\n",
      "Iteration: 9800\tCurrent Loss: 0.0168\tFair Loss: 0.0315\n",
      "Iteration: 9900\tCurrent Loss: 0.0187\tFair Loss: 0.0278\n"
     ]
    }
   ],
   "source": [
    "opt_init, opt_update, get_params = optimizer(step_size=STEP_SIZE)\n",
    "opt_state = opt_init(params0)\n",
    "X = jnp.linspace(1e-5, 1., 1000)\n",
    "T = jnp.concatenate((jnp.zeros(333), jnp.ones(333), 2 * jnp.ones(334)))\n",
    "\n",
    "current_opt_state, best_opt_state = training_loop(X, T, best_opt_state or opt_state, opt_update, get_params, max_iter=10000)"
   ]
  },
  {
   "cell_type": "code",
   "execution_count": 7,
   "id": "e02511f9",
   "metadata": {},
   "outputs": [
    {
     "data": {
      "text/plain": [
       "<AxesSubplot:xlabel='0'>"
      ]
     },
     "execution_count": 7,
     "metadata": {},
     "output_type": "execute_result"
    },
    {
     "data": {
      "image/png": "[encoded data removed]",
      "text/plain": [
       "<Figure size 1152x576 with 6 Axes>"
      ]
     },
     "metadata": {
      "needs_background": "light"
     },
     "output_type": "display_data"
    }
   ],
   "source": [
    "params = get_params(best_opt_state)\n",
    "init0 = jax.vmap(neural_network, in_axes=(None, 0, None))(params0, X, 0.)\n",
    "pred0 = jax.vmap(neural_network, in_axes=(None, 0, None))(params, X, 0.)\n",
    "true0 = jax.vmap(OBJECTIVE_FN, in_axes=(0, None))(X, 0.)\n",
    "\n",
    "init1 = jax.vmap(neural_network, in_axes=(None, 0, None))(params0, X, 1.)\n",
    "pred1 = jax.vmap(neural_network, in_axes=(None, 0, None))(params, X, 1.)\n",
    "true1 = jax.vmap(OBJECTIVE_FN, in_axes=(0, None))(X, 1.)\n",
    "\n",
    "init2 = jax.vmap(neural_network, in_axes=(None, 0, None))(params0, X, 2.)\n",
    "pred2 = jax.vmap(neural_network, in_axes=(None, 0, None))(params, X, 2.)\n",
    "true2 = jax.vmap(OBJECTIVE_FN, in_axes=(0, None))(X, 2.)\n",
    "\n",
    "df = pd.DataFrame(jnp.concatenate((X.reshape(-1, 1), \n",
    "                                   init0, pred0, true0, \n",
    "                                   init1, pred1, true1,\n",
    "                                   init2, pred2, true2), \n",
    "                                  axis=1)).set_index(0)\n",
    "df.columns = ['initial_v0', 'initial_c0', 'predicted_v0', 'predicted_c0', 'true_v0', 'true_c0',\n",
    "              'initial_v1', 'initial_c1', 'predicted_v1', 'predicted_c1', 'true_v1', 'true_c1',\n",
    "              'initial_v2', 'initial_c2', 'predicted_v2', 'predicted_c2', 'true_v2', 'true_c2']\n",
    "\n",
    "fig, axes = plt.subplots(2, 3, figsize=(16, 8))\n",
    "df.plot(y=['predicted_v0', 'true_v0'], ax=axes.flatten()[0])\n",
    "df.plot(y=['predicted_v1', 'true_v1'], ax=axes.flatten()[1])\n",
    "df.plot(y=['predicted_v2', 'true_v2'], ax=axes.flatten()[2])\n",
    "df.plot(y=['predicted_c0', 'true_c0'], ax=axes.flatten()[3])\n",
    "df.plot(y=['predicted_c1', 'true_c1'], ax=axes.flatten()[4])\n",
    "df.plot(y=['predicted_c2', 'true_c2'], ax=axes.flatten()[5])"
   ]
  },
  {
   "cell_type": "code",
   "execution_count": 8,
   "id": "9ae1e8a5",
   "metadata": {},
   "outputs": [
    {
     "data": {
      "text/plain": [
       "DeviceArray(0.03364741, dtype=float32)"
      ]
     },
     "execution_count": 8,
     "metadata": {},
     "output_type": "execute_result"
    }
   ],
   "source": [
    "losses = jax.vmap(loss, in_axes=(None, 0, 0))(get_params(best_opt_state), all_X, all_T)\n",
    "jnp.mean(losses**2, axis=0)"
   ]
  },
  {
   "cell_type": "code",
   "execution_count": 11,
   "id": "1905ca8c",
   "metadata": {},
   "outputs": [
    {
     "name": "stdout",
     "output_type": "stream",
     "text": [
      "0.03364741\n"
     ]
    }
   ],
   "source": [
    "l = batch_loss(get_params(best_opt_state), all_X, all_T)\n",
    "print(l)"
   ]
  }
 ],
 "metadata": {
  "kernelspec": {
   "display_name": "hetero_simulation",
   "language": "python",
   "name": "hetero_simulation"
  },
  "language_info": {
   "codemirror_mode": {
    "name": "ipython",
    "version": 3
   },
   "file_extension": ".py",
   "mimetype": "text/x-python",
   "name": "python",
   "nbconvert_exporter": "python",
   "pygments_lexer": "ipython3",
   "version": "3.9.10"
  }
 },
 "nbformat": 4,
 "nbformat_minor": 5
}
