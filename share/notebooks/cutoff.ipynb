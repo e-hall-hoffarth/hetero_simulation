{
 "cells": [
  {
   "cell_type": "code",
   "execution_count": 1,
   "id": "37ba07b2",
   "metadata": {},
   "outputs": [],
   "source": [
    "import jax\n",
    "import jax.numpy as jnp\n",
    "import pandas as pd\n",
    "import numpy as np\n",
    "import matplotlib.pyplot as plt\n",
    "from jax.example_libraries.optimizers import adam as optimizer\n",
    "# jax.config.update('jax_platform_name', 'cpu')\n",
    "# jax.config.update('jax_disable_jit', True)"
   ]
  },
  {
   "cell_type": "code",
   "execution_count": 2,
   "id": "a795b425",
   "metadata": {},
   "outputs": [],
   "source": [
    "MB = 128\n",
    "NN_SHAPES = jnp.array([64, 64])\n",
    "SCALE = 1\n",
    "INIT_KEYS = jax.random.split(jax.random.PRNGKey(1), 6)\n",
    "\n",
    "OBJECTIVE_FN = lambda x: jnp.log(x) + 10 * jnp.int32(x > 0.5)"
   ]
  },
  {
   "cell_type": "code",
   "execution_count": 3,
   "id": "397c9134",
   "metadata": {},
   "outputs": [],
   "source": [
    "w0 = SCALE * jax.random.normal(INIT_KEYS[0], shape=(1, NN_SHAPES[0]))\n",
    "w1 = SCALE * jax.random.normal(INIT_KEYS[1], shape=(NN_SHAPES[0], NN_SHAPES[1]))\n",
    "wf = SCALE * jax.random.normal(INIT_KEYS[2], shape=(NN_SHAPES[1], 1))\n",
    "b0 = SCALE * jax.random.normal(INIT_KEYS[3], shape=(1, NN_SHAPES[0]))\n",
    "b1 = SCALE * jax.random.normal(INIT_KEYS[4], shape=(1, NN_SHAPES[1]))\n",
    "bf = SCALE * jax.random.normal(INIT_KEYS[5], shape=(1, 1))\n",
    "params0 = {'w0': w0, 'w1': w1, 'wf': wf, 'b0': b0, 'b1': b1, 'bf': bf}"
   ]
  },
  {
   "cell_type": "code",
   "execution_count": 4,
   "id": "0ff936ca",
   "metadata": {},
   "outputs": [],
   "source": [
    "@jax.jit\n",
    "def linear(X, w, b):\n",
    "    return jnp.dot(X, w) + b\n",
    "\n",
    "\n",
    "@jax.jit\n",
    "def relu(X, w, b):\n",
    "    return jnp.maximum(linear(X, w, b), 0)\n",
    "\n",
    "\n",
    "@jax.jit\n",
    "def neural_network(params, x):\n",
    "    l0 = jnp.squeeze(x)\n",
    "    l1 = relu(l0, params['w0'], params['b0'])\n",
    "    l2 = relu(l1, params['w1'], params['b1'])\n",
    "    return linear(l2, params['wf'], params['bf'])\n",
    "\n",
    "\n",
    "@jax.jit\n",
    "def loss(params, x):\n",
    "    return neural_network(params, x) - OBJECTIVE_FN(x)\n",
    "\n",
    "\n",
    "@jax.jit\n",
    "def batch_loss(params, xs):\n",
    "    losses = jax.vmap(loss, in_axes=(None, 0))(params, xs)\n",
    "    return jnp.mean(losses**2)"
   ]
  },
  {
   "cell_type": "code",
   "execution_count": 5,
   "id": "1e7304f4",
   "metadata": {},
   "outputs": [],
   "source": [
    "def training_loop(X, opt_state, opt_update, get_params, max_iter=1000):\n",
    "    j = 0\n",
    "    key = jax.random.PRNGKey(1)\n",
    "\n",
    "    while j < max_iter:\n",
    "        sample = jax.random.choice(key, jnp.arange(X.shape[0]), (MB,))\n",
    "        key, subkey = jax.random.split(key)\n",
    "\n",
    "        val_loss, grad = jax.value_and_grad(batch_loss)(get_params(opt_state), X[sample])\n",
    "        opt_state = opt_update(j, grad, opt_state)\n",
    "        j += 1\n",
    "        if j % 100 == 0:\n",
    "            print(f'Iteration: {j}\\tLoss: {val_loss}')\n",
    "            \n",
    "    return opt_state"
   ]
  },
  {
   "cell_type": "code",
   "execution_count": 12,
   "id": "56502892",
   "metadata": {
    "scrolled": true
   },
   "outputs": [
    {
     "name": "stdout",
     "output_type": "stream",
     "text": [
      "Iteration: 100\tLoss: 4.187056541442871\n",
      "Iteration: 200\tLoss: 3.5424790382385254\n",
      "Iteration: 300\tLoss: 2.7195727825164795\n",
      "Iteration: 400\tLoss: 2.315171957015991\n",
      "Iteration: 500\tLoss: 1.7131783962249756\n",
      "Iteration: 600\tLoss: 1.5762064456939697\n",
      "Iteration: 700\tLoss: 1.9286627769470215\n",
      "Iteration: 800\tLoss: 1.5087236166000366\n",
      "Iteration: 900\tLoss: 1.0112388134002686\n",
      "Iteration: 1000\tLoss: 1.3023271560668945\n",
      "Iteration: 1100\tLoss: 1.4391716718673706\n",
      "Iteration: 1200\tLoss: 0.8888248205184937\n",
      "Iteration: 1300\tLoss: 0.7068401575088501\n",
      "Iteration: 1400\tLoss: 1.0028036832809448\n",
      "Iteration: 1500\tLoss: 0.9239494800567627\n",
      "Iteration: 1600\tLoss: 0.33960363268852234\n",
      "Iteration: 1700\tLoss: 0.9841512441635132\n",
      "Iteration: 1800\tLoss: 0.4569493532180786\n",
      "Iteration: 1900\tLoss: 0.7587043642997742\n",
      "Iteration: 2000\tLoss: 0.6019670963287354\n",
      "Iteration: 2100\tLoss: 0.5996900796890259\n",
      "Iteration: 2200\tLoss: 0.47645580768585205\n",
      "Iteration: 2300\tLoss: 0.44800886511802673\n",
      "Iteration: 2400\tLoss: 0.42250555753707886\n",
      "Iteration: 2500\tLoss: 0.8712306618690491\n",
      "Iteration: 2600\tLoss: 0.6204264760017395\n",
      "Iteration: 2700\tLoss: 1.0627059936523438\n",
      "Iteration: 2800\tLoss: 0.4192659556865692\n",
      "Iteration: 2900\tLoss: 0.8638083934783936\n",
      "Iteration: 3000\tLoss: 0.3006700873374939\n",
      "Iteration: 3100\tLoss: 0.37460723519325256\n",
      "Iteration: 3200\tLoss: 0.44090068340301514\n",
      "Iteration: 3300\tLoss: 0.7006096839904785\n",
      "Iteration: 3400\tLoss: 1.9853945970535278\n",
      "Iteration: 3500\tLoss: 0.1662115752696991\n",
      "Iteration: 3600\tLoss: 0.18437087535858154\n",
      "Iteration: 3700\tLoss: 0.4950614273548126\n",
      "Iteration: 3800\tLoss: 0.44165241718292236\n",
      "Iteration: 3900\tLoss: 0.48036786913871765\n",
      "Iteration: 4000\tLoss: 0.8387163877487183\n",
      "Iteration: 4100\tLoss: 0.5819418430328369\n",
      "Iteration: 4200\tLoss: 0.4256022572517395\n",
      "Iteration: 4300\tLoss: 0.574303925037384\n",
      "Iteration: 4400\tLoss: 0.5089235305786133\n",
      "Iteration: 4500\tLoss: 0.6947290897369385\n",
      "Iteration: 4600\tLoss: 0.02013522759079933\n",
      "Iteration: 4700\tLoss: 0.8514517545700073\n",
      "Iteration: 4800\tLoss: 0.3662969172000885\n",
      "Iteration: 4900\tLoss: 0.885209858417511\n",
      "Iteration: 5000\tLoss: 0.4347723126411438\n"
     ]
    }
   ],
   "source": [
    "opt_init, opt_update, get_params = optimizer(step_size=1e-1)\n",
    "opt_state = opt_init(params0)\n",
    "X = jnp.linspace(1e-5, 1., 5000)\n",
    "\n",
    "opt_state = training_loop(X, opt_state, opt_update, get_params, max_iter=5000)"
   ]
  },
  {
   "cell_type": "code",
   "execution_count": 13,
   "id": "e02511f9",
   "metadata": {},
   "outputs": [
    {
     "data": {
      "text/plain": [
       "<AxesSubplot:xlabel='0'>"
      ]
     },
     "execution_count": 13,
     "metadata": {},
     "output_type": "execute_result"
    },
    {
     "data": {
      "image/png": "[encoded data removed]",
      "text/plain": [
       "<Figure size 432x288 with 1 Axes>"
      ]
     },
     "metadata": {
      "needs_background": "light"
     },
     "output_type": "display_data"
    }
   ],
   "source": [
    "params = get_params(opt_state)\n",
    "init = jax.vmap(neural_network, in_axes=(None, 0))(params0, X)\n",
    "pred = jax.vmap(neural_network, in_axes=(None, 0))(params, X)\n",
    "true = jax.vmap(OBJECTIVE_FN)(X)\n",
    "df = pd.DataFrame(jnp.concatenate((X.reshape(-1, 1), init.reshape(-1, 1), pred.reshape(-1, 1), true.reshape(-1, 1)), axis=1)).set_index(0)\n",
    "df.columns = ['initial', 'predicted', 'true']\n",
    "df.plot(y=['predicted', 'true'])"
   ]
  }
 ],
 "metadata": {
  "kernelspec": {
   "display_name": "hetero_simulation",
   "language": "python",
   "name": "hetero_simulation"
  },
  "language_info": {
   "codemirror_mode": {
    "name": "ipython",
    "version": 3
   },
   "file_extension": ".py",
   "mimetype": "text/x-python",
   "name": "python",
   "nbconvert_exporter": "python",
   "pygments_lexer": "ipython3",
   "version": "3.9.10"
  }
 },
 "nbformat": 4,
 "nbformat_minor": 5
}
