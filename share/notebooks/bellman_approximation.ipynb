{
 "cells": [
  {
   "cell_type": "code",
   "execution_count": 1,
   "id": "6f7bda48",
   "metadata": {},
   "outputs": [],
   "source": [
    "import time\n",
    "import jax \n",
    "import jax.numpy as jnp\n",
    "import numpy as np\n",
    "from jax.scipy import optimize\n",
    "from jax.experimental.optimizers import adam\n",
    "import pandas as pd\n",
    "\n",
    "# from jax.config import config\n",
    "# config.update(\"jax_debug_nans\", False)"
   ]
  },
  {
   "cell_type": "code",
   "execution_count": 2,
   "id": "0152ad46",
   "metadata": {},
   "outputs": [],
   "source": [
    "@jax.jit\n",
    "def linear(X, w, b):\n",
    "    return jnp.dot(X, w) + b\n",
    "\n",
    "\n",
    "@jax.jit\n",
    "def relu(X, w, b):\n",
    "    return jnp.maximum(linear(X, w, b), 0)\n",
    "\n",
    "\n",
    "@jax.jit\n",
    "def tanh(X, w, b):\n",
    "    return jax.nn.tanh(linear(X, w, b))\n",
    "    \n",
    "\n",
    "def V_hat(params):\n",
    "    @jax.jit\n",
    "    def f(X, x):\n",
    "        X_tilde = jnp.concatenate([x.reshape(1, 1), jnp.dot(X, params['theta'])], axis=1)\n",
    "        l1 = tanh(X_tilde, params['w0'], params['b0'])\n",
    "        l2 = tanh(l1, params['w1'], params['b1'])\n",
    "        l3 = tanh(l2, params['w2'], params['b2'])\n",
    "        return jnp.squeeze(linear(l3, params['wf'], params['bf']))\n",
    "    return f\n",
    "\n",
    "\n",
    "@jax.jit\n",
    "def opt_control(params, beta, X, i):\n",
    "    x = X[0, i].reshape(1, 1)\n",
    "    # If possible, solve for the optimal control analytically\n",
    "    # v_hat = V_hat(params)\n",
    "    # u_prime_inverse = lambda z: 1/z\n",
    "    # grad = jax.grad(v_hat, argnums=(0, 1))(X, x)\n",
    "#     inner_sum = jnp.clip(grad[0][0][i] + grad[1], 1e-10, None)\n",
    "#     c_star = jnp.squeeze(jnp.clip(jnp.abs(u_prime_inverse(beta * (inner_sum))), 0, x))\n",
    "    c_star = (1 - beta) * x\n",
    "    # Otherwise, we have to resort to numerical optimization\n",
    "#     f = lambda c: jnp.squeeze(- (u(c) + beta * v_hat(X, x - jnp.sum(c))))\n",
    "#     c0 = jnp.ones(c_shape)\n",
    "    \n",
    "#     c_star = optimize.minimize(f, c0, method='BFGS', options={'line_search_maxiter': 10000, 'gtol': 1e-2}).x\n",
    "    return c_star\n",
    "\n",
    "\n",
    "@jax.jit\n",
    "def future(params, beta, X, i):\n",
    "    v_hat = V_hat(params)\n",
    "    u = lambda c: jnp.log(c)\n",
    "    c_star = opt_control(params, beta, X, i)\n",
    "    \n",
    "    x = X[0, i].reshape(1, 1)\n",
    "    x_prime = x - jnp.sum(c_star)\n",
    "    X_prime = X.at[0, i].set(jnp.squeeze(x_prime))\n",
    "    return jnp.squeeze(u(c_star) + beta * v_hat(X_prime, x_prime))\n",
    "\n",
    "  \n",
    "@jax.jit\n",
    "def epsilon(params, beta, X, i):\n",
    "    X = X.reshape(1, -1)\n",
    "    v_hat = V_hat(params)\n",
    "    v = v_hat(X, X[0, i].reshape(1, 1))\n",
    "    f = future(params, beta, X, i)\n",
    "    \n",
    "    return (v - f)**2"
   ]
  },
  {
   "cell_type": "code",
   "execution_count": 3,
   "id": "9201b794",
   "metadata": {
    "scrolled": true
   },
   "outputs": [],
   "source": [
    "bs = 2**12\n",
    "k = 1\n",
    "m = 10\n",
    "nn_shapes = jnp.array([m, 2*m, m])\n",
    "beta = 0.95\n",
    "\n",
    "X = jnp.exp(5 * jax.random.normal(jax.random.PRNGKey(123), shape=(bs, k))) - 1e3\n",
    "N = jax.random.choice(jax.random.PRNGKey(10), jnp.arange(k), shape=(bs,))\n",
    "theta0 = jax.random.normal(jax.random.PRNGKey(129), shape=(k, m))\n",
    "w00 = jax.random.normal(jax.random.PRNGKey(6), shape=(m + 1, nn_shapes[0]))\n",
    "w01 = jax.random.normal(jax.random.PRNGKey(7), shape=(nn_shapes[0], nn_shapes[1]))\n",
    "w02 = jax.random.normal(jax.random.PRNGKey(8), shape=(nn_shapes[1], nn_shapes[2]))\n",
    "w0f = jax.random.normal(jax.random.PRNGKey(9), shape=(nn_shapes[2], 1))\n",
    "b00 = jax.random.normal(jax.random.PRNGKey(52), shape=(1, nn_shapes[0]))\n",
    "b01 = jax.random.normal(jax.random.PRNGKey(51), shape=(1, nn_shapes[1]))\n",
    "b02 = jax.random.normal(jax.random.PRNGKey(58), shape=(1, nn_shapes[2]))\n",
    "b0f = jax.random.normal(jax.random.PRNGKey(48), shape=(1, 1))\n",
    "\n",
    "params0 = {'theta': theta0, 'w0': w00, 'w1': w01, 'w2': w02, 'wf': w0f, 'b0': b00, 'b1': b01, 'b2': b02, 'bf':b0f}"
   ]
  },
  {
   "cell_type": "code",
   "execution_count": 4,
   "id": "bd7d82da",
   "metadata": {
    "scrolled": true
   },
   "outputs": [],
   "source": [
    "j = 0\n",
    "tol = 1e-10\n",
    "err = jnp.inf\n",
    "st = time.time()\n",
    "\n",
    "\n",
    "@jax.jit\n",
    "def condition(v):\n",
    "    return e(get_params(v['opt_state']), v['X'], v['i']) > tol\n",
    "\n",
    "\n",
    "@jax.jit\n",
    "def update(v):\n",
    "    params = get_params(v['opt_state'])\n",
    "    grad = jax.grad(lambda params: e(params, v['X'], v['i']))(params)\n",
    "    opt_state = opt_update(j, grad, v['opt_state'])\n",
    "    return {'opt_state': opt_state, 'X': v['X'], 'j': v['j'] + 1, 'i': v['i']}\n",
    "\n",
    "\n",
    "@jax.jit\n",
    "def batch(i, X):\n",
    "    X = X.reshape(1, -1)\n",
    "    j = 0\n",
    "    \n",
    "    v = jax.lax.while_loop(condition, update, {'opt_state': opt_state0, 'X': X, 'j': j, 'i': i}) \n",
    "    fit_params = get_params(v['opt_state'])\n",
    "    c_star = opt_control(fit_params, beta, X, i)\n",
    "    x_prime = X[0, i] - c_star\n",
    "    return jnp.array([c_star, x_prime]), fit_params\n",
    "\n",
    "\n",
    "def training_loop(opt_update, opt_state, get_params, tol=1e-10, max_iter=1000):\n",
    "    j = 0\n",
    "    err = jnp.inf\n",
    "    st = time.time()\n",
    "    \n",
    "    while err > tol and j < max_iter:\n",
    "        params = get_params(opt_state)\n",
    "        X = jnp.exp(jax.random.normal(jax.random.PRNGKey(np.random.randint(1, 100000)), shape=(bs, k)))\n",
    "        N = jax.random.choice(jax.random.PRNGKey(np.random.randint(1, 100000)), jnp.arange(k), shape=(bs,))\n",
    "        eb = lambda params: jnp.mean(jax.vmap(epsilon, in_axes=(None, None, 0, 0))(params, beta, X, N))\n",
    "        grad = jax.grad(eb)(params)\n",
    "        err = eb(params)\n",
    "        opt_state = opt_update(j, grad, opt_state)\n",
    "        j += 1\n",
    "        if j % 100 == 0:\n",
    "            print(f'Iteration: {j}\\tMean Error: {err}\\n')\n",
    "            \n",
    "    return opt_state"
   ]
  },
  {
   "cell_type": "code",
   "execution_count": null,
   "id": "5a771393",
   "metadata": {
    "scrolled": true
   },
   "outputs": [],
   "source": [
    "opt_init, opt_update, get_params = adam(step_size=0.01)\n",
    "opt_state = opt_init(params0)\n",
    "opt_state = training_loop(opt_update, opt_state, get_params)"
   ]
  },
  {
   "cell_type": "code",
   "execution_count": 42,
   "id": "96987a41",
   "metadata": {},
   "outputs": [
    {
     "name": "stdout",
     "output_type": "stream",
     "text": [
      "Estimated v(x): -60.523380279541016\n",
      "Actual v(x): [[0.00789384]]\n"
     ]
    }
   ],
   "source": [
    "params = get_params(opt_state)\n",
    "\n",
    "i = jax.random.choice(jax.random.PRNGKey(np.random.randint(1, 100000)), jnp.arange(1000), shape=(1,))\n",
    "Xs = jnp.exp(jax.random.normal(jax.random.PRNGKey(np.random.randint(1, 100000)), shape=(1, 1000)))\n",
    "x = Xs[0, i].reshape(1, 1)\n",
    "X = x\n",
    "xs = Xs[0, :]\n",
    "\n",
    "v_estimated = V_hat(params)(X, x)\n",
    "v_actual = (1 - beta) * jnp.log(x)\n",
    "\n",
    "print(f'Estimated v(x): {v_estimated}\\nActual v(x): {v_actual}')"
   ]
  },
  {
   "cell_type": "code",
   "execution_count": 52,
   "id": "9abf8dfc",
   "metadata": {},
   "outputs": [
    {
     "name": "stdout",
     "output_type": "stream",
     "text": [
      "Iteration: 100\tMean Error: 0.12071365118026733\n",
      "\n",
      "Iteration: 200\tMean Error: 0.05715564638376236\n",
      "\n",
      "Iteration: 300\tMean Error: 0.03776395320892334\n",
      "\n",
      "Iteration: 400\tMean Error: 0.06061437726020813\n",
      "\n",
      "Iteration: 500\tMean Error: 0.016715966165065765\n",
      "\n",
      "Iteration: 600\tMean Error: 0.028010327368974686\n",
      "\n",
      "Iteration: 700\tMean Error: 0.021105002611875534\n",
      "\n",
      "Iteration: 800\tMean Error: 0.014280089177191257\n",
      "\n",
      "Iteration: 900\tMean Error: 0.011485960334539413\n",
      "\n",
      "Iteration: 1000\tMean Error: 0.006579298060387373\n",
      "\n"
     ]
    }
   ],
   "source": [
    "opt_init, opt_update, get_params = adam(step_size=0.01)\n",
    "opt_state = opt_init(params)\n",
    "opt_state = training_loop(opt_update, opt_state, get_params)"
   ]
  },
  {
   "cell_type": "code",
   "execution_count": 53,
   "id": "17b3f691",
   "metadata": {},
   "outputs": [
    {
     "data": {
      "text/plain": [
       "<AxesSubplot:xlabel='X', ylabel='actual_v'>"
      ]
     },
     "execution_count": 53,
     "metadata": {},
     "output_type": "execute_result"
    },
    {
     "data": {
      "image/png": "[encoded data removed]",
      "text/plain": [
       "<Figure size 432x288 with 1 Axes>"
      ]
     },
     "metadata": {
      "needs_background": "light"
     },
     "output_type": "display_data"
    }
   ],
   "source": [
    "ves = jax.vmap(V_hat(params), in_axes=(None, 0))(X, xs)\n",
    "vas = jax.vmap(lambda x: (1 - beta) * jnp.log(x))(Xs)\n",
    "df = pd.DataFrame(jnp.concatenate((Xs.reshape(-1, 1), ves.reshape(-1, 1), vas.reshape(-1, 1)), axis=1))\n",
    "df.columns = ['X', 'estimated_v', 'actual_v']\n",
    "df.plot(x='X', y='actual_v', kind='scatter')"
   ]
  },
  {
   "cell_type": "code",
   "execution_count": 54,
   "id": "69e730ef",
   "metadata": {},
   "outputs": [
    {
     "data": {
      "text/plain": [
       "<AxesSubplot:xlabel='X', ylabel='estimated_v'>"
      ]
     },
     "execution_count": 54,
     "metadata": {},
     "output_type": "execute_result"
    },
    {
     "data": {
      "image/png": "[encoded data removed]",
      "text/plain": [
       "<Figure size 432x288 with 1 Axes>"
      ]
     },
     "metadata": {
      "needs_background": "light"
     },
     "output_type": "display_data"
    }
   ],
   "source": [
    "df.plot(x='X', y='estimated_v', kind='scatter')"
   ]
  },
  {
   "cell_type": "code",
   "execution_count": 51,
   "id": "8d5c40f8",
   "metadata": {},
   "outputs": [
    {
     "data": {
      "text/plain": [
       "2821.5115"
      ]
     },
     "execution_count": 51,
     "metadata": {},
     "output_type": "execute_result"
    }
   ],
   "source": [
    "((df['estimated_v'] - df['actual_v'])**2).mean()"
   ]
  }
 ],
 "metadata": {
  "kernelspec": {
   "display_name": "hetero_simulation",
   "language": "python",
   "name": "hetero_simulation"
  },
  "language_info": {
   "codemirror_mode": {
    "name": "ipython",
    "version": 3
   },
   "file_extension": ".py",
   "mimetype": "text/x-python",
   "name": "python",
   "nbconvert_exporter": "python",
   "pygments_lexer": "ipython3",
   "version": "3.9.7"
  }
 },
 "nbformat": 4,
 "nbformat_minor": 5
}
