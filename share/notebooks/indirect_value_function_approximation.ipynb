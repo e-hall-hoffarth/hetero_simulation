{
 "cells": [
  {
   "cell_type": "code",
   "execution_count": 54,
   "id": "37ba07b2",
   "metadata": {},
   "outputs": [],
   "source": [
    "import jax\n",
    "import jax.numpy as jnp\n",
    "import pandas as pd\n",
    "import numpy as np\n",
    "import matplotlib.pyplot as plt\n",
    "from jax.example_libraries.optimizers import adam as optimizer\n",
    "# jax.config.update('jax_platform_name', 'cpu')\n",
    "# jax.config.update('jax_disable_jit', True)"
   ]
  },
  {
   "cell_type": "code",
   "execution_count": 65,
   "id": "a795b425",
   "metadata": {},
   "outputs": [],
   "source": [
    "MB = 2 ** 10\n",
    "NN_SHAPES = jnp.array([64, 64, 64])\n",
    "SCALE = 0.1\n",
    "INIT_KEYS = jax.random.split(jax.random.PRNGKey(1), 8)\n",
    "\n",
    "BETA = 0.9\n",
    "MAX_AGE = 2.\n",
    "OBJECTIVE_FN = lambda x, t: jax.lax.select(t == 2., \n",
    "                                           jnp.array([jnp.log(x), x]), \n",
    "                                           jax.lax.select(t == 1., \n",
    "                                                          jnp.array([jnp.log(x / (1 + BETA)) + BETA * jnp.log((BETA * x) / (1 + BETA)), (x / (1 + BETA))]), \n",
    "                                                          jnp.array([(1 + BETA + BETA**2) * jnp.log(x) - (1 + BETA + BETA **2) * jnp.log(1 + BETA + BETA**2) + BETA * (1 + 2 * BETA) * jnp.log(BETA),\n",
    "                                                                     x / (1 + BETA + BETA**2)])))"
   ]
  },
  {
   "cell_type": "code",
   "execution_count": 63,
   "id": "397c9134",
   "metadata": {},
   "outputs": [],
   "source": [
    "w0 = SCALE * jax.random.normal(INIT_KEYS[0], shape=(2, NN_SHAPES[0]))\n",
    "w1 = SCALE * jax.random.normal(INIT_KEYS[1], shape=(NN_SHAPES[0], NN_SHAPES[1]))\n",
    "w2 = SCALE * jax.random.normal(INIT_KEYS[2], shape=(NN_SHAPES[1] + 2, NN_SHAPES[2]))\n",
    "wf = SCALE * jax.random.normal(INIT_KEYS[3], shape=(NN_SHAPES[2],))\n",
    "b0 = SCALE * jax.random.normal(INIT_KEYS[4], shape=(1, NN_SHAPES[0]))\n",
    "b1 = SCALE * jax.random.normal(INIT_KEYS[5], shape=(1, NN_SHAPES[1]))\n",
    "b2 = SCALE * jax.random.normal(INIT_KEYS[6], shape=(1, NN_SHAPES[2]))\n",
    "bf = SCALE * jax.random.normal(INIT_KEYS[7], shape=(1,))\n",
    "params0 = {'w0': w0, 'w1': w1, 'vw2': w2, 'cw2': w2, 'vwf': wf, 'cwf': wf, \n",
    "           'b0': b0, 'b1': b1, 'vb2': b2, 'cb2': b2, 'vbf': bf, 'cbf': bf}"
   ]
  },
  {
   "cell_type": "code",
   "execution_count": 57,
   "id": "0ff936ca",
   "metadata": {},
   "outputs": [],
   "source": [
    "@jax.jit\n",
    "def linear(X, w, b):\n",
    "    return jnp.dot(X, w) + b\n",
    "\n",
    "\n",
    "@jax.jit\n",
    "def relu(X, w, b):\n",
    "    return jnp.maximum(linear(X, w, b), 0)\n",
    "\n",
    "\n",
    "@jax.jit\n",
    "def neural_network(params, x, t):\n",
    "    l0 = jnp.concatenate((x[jnp.newaxis], t[jnp.newaxis]))\n",
    "    l1 = relu(l0, params['w0'], params['b0'])\n",
    "    l2 = jnp.squeeze(relu(l1, params['w1'], params['b1']))\n",
    "    \n",
    "    vl3 = relu(jnp.concatenate((l0, l2)), params['vw2'], params['vb2'])\n",
    "    vu = linear(vl3, params['vwf'], params['vbf'])\n",
    "    v = jnp.select(t[jnp.newaxis] > MAX_AGE, jnp.zeros(1), vu)\n",
    "    \n",
    "    cl3 = relu(jnp.concatenate((l0, l2)), params['cw2'], params['cb2'])\n",
    "    cu = x * jax.nn.tanh(linear(cl3, params['cwf'], params['cbf']) / 1000)\n",
    "    c = jnp.select(t[jnp.newaxis] >= MAX_AGE, x[jnp.newaxis], cu)\n",
    "    \n",
    "    return jnp.concatenate((v, c))\n",
    "\n",
    "\n",
    "@jax.jit\n",
    "def loss(params, x, t):\n",
    "    v0, c0 = neural_network(params, x, t)\n",
    "    v1, c1 = neural_network(params, x - c0, t + 1)\n",
    "    \n",
    "    live_next = (t < MAX_AGE)\n",
    "    loss_euler = jax.lax.select(live_next, (c1 - (BETA * c0)), 0.)\n",
    "    loss_bellman = (jnp.log(c0) + BETA * v1) - v0\n",
    "    \n",
    "    return jnp.array([10 * loss_euler, loss_bellman])\n",
    "\n",
    "\n",
    "@jax.jit\n",
    "def batch_loss(params, xs, ts):\n",
    "    losses = jax.vmap(loss, in_axes=(None, 0, 0))(params, xs, ts)\n",
    "    return jnp.mean(jnp.sum(losses**2, axis=1))"
   ]
  },
  {
   "cell_type": "code",
   "execution_count": 58,
   "id": "1e7304f4",
   "metadata": {},
   "outputs": [],
   "source": [
    "def training_loop(X, T, opt_state, opt_update, get_params, max_iter=1000):\n",
    "    j = 0\n",
    "    key = jax.random.PRNGKey(1)\n",
    "    keys = jax.random.split(key, max_iter)\n",
    "\n",
    "    while j < max_iter:\n",
    "        key = keys[j]\n",
    "        sample = jax.random.choice(key, jnp.arange(X.shape[0]), (2, MB))\n",
    "\n",
    "        val_loss, grad = jax.value_and_grad(batch_loss)(get_params(opt_state), X[sample[0]], T[sample[1]])\n",
    "        opt_state = opt_update(j, grad, opt_state)\n",
    "        j += 1\n",
    "        if j % 100 == 0:\n",
    "            print(f'Iteration: {j}\\tLoss: {val_loss}')\n",
    "            \n",
    "    return opt_state"
   ]
  },
  {
   "cell_type": "code",
   "execution_count": 59,
   "id": "56502892",
   "metadata": {
    "scrolled": true
   },
   "outputs": [
    {
     "name": "stdout",
     "output_type": "stream",
     "text": [
      "Iteration: 100\tLoss: 0.3641015291213989\n",
      "Iteration: 200\tLoss: 0.3182617425918579\n",
      "Iteration: 300\tLoss: 0.1353028565645218\n",
      "Iteration: 400\tLoss: 0.28369802236557007\n",
      "Iteration: 500\tLoss: 0.08175203204154968\n",
      "Iteration: 600\tLoss: 0.029973134398460388\n",
      "Iteration: 700\tLoss: 0.01759202778339386\n",
      "Iteration: 800\tLoss: 0.02032923698425293\n",
      "Iteration: 900\tLoss: 0.10097852349281311\n",
      "Iteration: 1000\tLoss: 0.017260519787669182\n",
      "Iteration: 1100\tLoss: 0.050758615136146545\n",
      "Iteration: 1200\tLoss: 0.07728424668312073\n",
      "Iteration: 1300\tLoss: 0.00503517733886838\n",
      "Iteration: 1400\tLoss: 0.11281169950962067\n",
      "Iteration: 1500\tLoss: 0.026776142418384552\n",
      "Iteration: 1600\tLoss: 0.08253571391105652\n",
      "Iteration: 1700\tLoss: 0.02566077932715416\n",
      "Iteration: 1800\tLoss: 0.027485549449920654\n",
      "Iteration: 1900\tLoss: 0.12590792775154114\n",
      "Iteration: 2000\tLoss: 0.18890812993049622\n"
     ]
    }
   ],
   "source": [
    "opt_init, opt_update, get_params = optimizer(step_size=1e-1)\n",
    "opt_state = opt_init(params0)\n",
    "X = jnp.linspace(1e-5, 1., 1000)\n",
    "T = jnp.concatenate((jnp.zeros(333), jnp.ones(333), 2 * jnp.ones(334)))\n",
    "\n",
    "opt_state = training_loop(X, T, opt_state, opt_update, get_params, max_iter=2000)"
   ]
  },
  {
   "cell_type": "code",
   "execution_count": 66,
   "id": "e02511f9",
   "metadata": {},
   "outputs": [
    {
     "data": {
      "text/plain": [
       "<AxesSubplot:xlabel='0'>"
      ]
     },
     "execution_count": 66,
     "metadata": {},
     "output_type": "execute_result"
    },
    {
     "data": {
      "image/png": "[encoded data removed]",
      "text/plain": [
       "<Figure size 1152x576 with 6 Axes>"
      ]
     },
     "metadata": {
      "needs_background": "light"
     },
     "output_type": "display_data"
    }
   ],
   "source": [
    "params = get_params(opt_state)\n",
    "init0 = jax.vmap(neural_network, in_axes=(None, 0, None))(params0, X, 0.)\n",
    "pred0 = jax.vmap(neural_network, in_axes=(None, 0, None))(params, X, 0.)\n",
    "true0 = jax.vmap(OBJECTIVE_FN, in_axes=(0, None))(X, 0.)\n",
    "\n",
    "init1 = jax.vmap(neural_network, in_axes=(None, 0, None))(params0, X, 1.)\n",
    "pred1 = jax.vmap(neural_network, in_axes=(None, 0, None))(params, X, 1.)\n",
    "true1 = jax.vmap(OBJECTIVE_FN, in_axes=(0, None))(X, 1.)\n",
    "\n",
    "init2 = jax.vmap(neural_network, in_axes=(None, 0, None))(params0, X, 2.)\n",
    "pred2 = jax.vmap(neural_network, in_axes=(None, 0, None))(params, X, 2.)\n",
    "true2 = jax.vmap(OBJECTIVE_FN, in_axes=(0, None))(X, 2.)\n",
    "\n",
    "df = pd.DataFrame(jnp.concatenate((X.reshape(-1, 1), \n",
    "                                   init0, pred0, true0, \n",
    "                                   init1, pred1, true1,\n",
    "                                   init2, pred2, true2), \n",
    "                                  axis=1)).set_index(0)\n",
    "df.columns = ['initial_v0', 'initial_c0', 'predicted_v0', 'predicted_c0', 'true_v0', 'true_c0',\n",
    "              'initial_v1', 'initial_c1', 'predicted_v1', 'predicted_c1', 'true_v1', 'true_c1',\n",
    "              'initial_v2', 'initial_c2', 'predicted_v2', 'predicted_c2', 'true_v2', 'true_c2']\n",
    "\n",
    "fig, axes = plt.subplots(2, 3, figsize=(16, 8))\n",
    "df.plot(y=['predicted_v0', 'true_v0'], ax=axes.flatten()[0])\n",
    "df.plot(y=['predicted_v1', 'true_v1'], ax=axes.flatten()[1])\n",
    "df.plot(y=['predicted_v2', 'true_v2'], ax=axes.flatten()[2])\n",
    "df.plot(y=['predicted_c0', 'true_c0'], ax=axes.flatten()[3])\n",
    "df.plot(y=['predicted_c1', 'true_c1'], ax=axes.flatten()[4])\n",
    "df.plot(y=['predicted_c2', 'true_c2'], ax=axes.flatten()[5])"
   ]
  },
  {
   "cell_type": "code",
   "execution_count": 67,
   "id": "ffdd5907",
   "metadata": {},
   "outputs": [],
   "source": [
    "all_X = jnp.concatenate((jnp.linspace(1e-5, 1., 1000), jnp.linspace(1e-5, 1., 1000)))\n",
    "all_T = jnp.concatenate((jnp.zeros(1000), jnp.ones(1000)))"
   ]
  },
  {
   "cell_type": "code",
   "execution_count": 68,
   "id": "b979f906",
   "metadata": {},
   "outputs": [
    {
     "data": {
      "text/plain": [
       "DeviceArray(0.06996854, dtype=float32)"
      ]
     },
     "execution_count": 68,
     "metadata": {},
     "output_type": "execute_result"
    }
   ],
   "source": [
    "batch_loss(params, all_X[1000:], all_T[1000:])"
   ]
  },
  {
   "cell_type": "code",
   "execution_count": 69,
   "id": "832a3171",
   "metadata": {},
   "outputs": [
    {
     "data": {
      "text/plain": [
       "DeviceArray(0.06829776, dtype=float32)"
      ]
     },
     "execution_count": 69,
     "metadata": {},
     "output_type": "execute_result"
    }
   ],
   "source": [
    "batch_loss(params, all_X[:1000], all_T[:1000])"
   ]
  },
  {
   "cell_type": "code",
   "execution_count": 31,
   "id": "3e01e394",
   "metadata": {
    "scrolled": true
   },
   "outputs": [
    {
     "name": "stdout",
     "output_type": "stream",
     "text": [
      "Iteration: 100\tLoss: 0.14354537427425385\n",
      "Iteration: 200\tLoss: 0.19768573343753815\n",
      "Iteration: 300\tLoss: 0.14182737469673157\n",
      "Iteration: 400\tLoss: 0.18419164419174194\n",
      "Iteration: 500\tLoss: 0.1484564244747162\n",
      "Iteration: 600\tLoss: 0.17621402442455292\n",
      "Iteration: 700\tLoss: 0.16930121183395386\n",
      "Iteration: 800\tLoss: 0.13100865483283997\n",
      "Iteration: 900\tLoss: 0.17562799155712128\n",
      "Iteration: 1000\tLoss: 0.15183502435684204\n",
      "Iteration: 1100\tLoss: 0.16562709212303162\n",
      "Iteration: 1200\tLoss: 0.15143842995166779\n",
      "Iteration: 1300\tLoss: 0.1667408049106598\n",
      "Iteration: 1400\tLoss: 0.15945351123809814\n",
      "Iteration: 1500\tLoss: 0.17186430096626282\n",
      "Iteration: 1600\tLoss: 0.17536942660808563\n",
      "Iteration: 1700\tLoss: 0.15992286801338196\n",
      "Iteration: 1800\tLoss: 0.1471240222454071\n",
      "Iteration: 1900\tLoss: 0.1484469175338745\n",
      "Iteration: 2000\tLoss: 0.16191843152046204\n",
      "Iteration: 2100\tLoss: 0.15432840585708618\n",
      "Iteration: 2200\tLoss: 0.15172016620635986\n",
      "Iteration: 2300\tLoss: 0.1622915267944336\n",
      "Iteration: 2400\tLoss: 0.1369922012090683\n",
      "Iteration: 2500\tLoss: 0.14513732492923737\n",
      "Iteration: 2600\tLoss: 0.17114049196243286\n",
      "Iteration: 2700\tLoss: 0.14411026239395142\n",
      "Iteration: 2800\tLoss: 0.15367808938026428\n",
      "Iteration: 2900\tLoss: 0.1520024538040161\n",
      "Iteration: 3000\tLoss: 0.1487351357936859\n",
      "Iteration: 3100\tLoss: 0.17698949575424194\n",
      "Iteration: 3200\tLoss: 0.17273737490177155\n",
      "Iteration: 3300\tLoss: 0.14150716364383698\n",
      "Iteration: 3400\tLoss: 0.1551978588104248\n",
      "Iteration: 3500\tLoss: 0.14706432819366455\n",
      "Iteration: 3600\tLoss: 0.1823195219039917\n",
      "Iteration: 3700\tLoss: 0.13746820390224457\n",
      "Iteration: 3800\tLoss: 0.1487913578748703\n",
      "Iteration: 3900\tLoss: 0.16869859397411346\n",
      "Iteration: 4000\tLoss: 0.150642991065979\n",
      "Iteration: 4100\tLoss: 0.143275648355484\n",
      "Iteration: 4200\tLoss: 0.1553977131843567\n",
      "Iteration: 4300\tLoss: 0.13297533988952637\n",
      "Iteration: 4400\tLoss: 0.15362192690372467\n",
      "Iteration: 4500\tLoss: 0.16286158561706543\n",
      "Iteration: 4600\tLoss: 0.14688076078891754\n",
      "Iteration: 4700\tLoss: 0.1531403511762619\n",
      "Iteration: 4800\tLoss: 0.17061302065849304\n",
      "Iteration: 4900\tLoss: 0.14136511087417603\n",
      "Iteration: 5000\tLoss: 0.1469249725341797\n",
      "Iteration: 5100\tLoss: 0.18639616668224335\n",
      "Iteration: 5200\tLoss: 0.16689401865005493\n",
      "Iteration: 5300\tLoss: 0.140965074300766\n",
      "Iteration: 5400\tLoss: 0.16688810288906097\n",
      "Iteration: 5500\tLoss: 0.13749243319034576\n",
      "Iteration: 5600\tLoss: 0.15302586555480957\n",
      "Iteration: 5700\tLoss: 0.15598270297050476\n",
      "Iteration: 5800\tLoss: 0.15789684653282166\n",
      "Iteration: 5900\tLoss: 0.16563254594802856\n",
      "Iteration: 6000\tLoss: 0.15116998553276062\n",
      "Iteration: 6100\tLoss: 0.1495758593082428\n",
      "Iteration: 6200\tLoss: 0.1827373057603836\n",
      "Iteration: 6300\tLoss: 0.14044910669326782\n",
      "Iteration: 6400\tLoss: 0.17338433861732483\n",
      "Iteration: 6500\tLoss: 0.15531784296035767\n",
      "Iteration: 6600\tLoss: 0.15573741495609283\n",
      "Iteration: 6700\tLoss: 0.15418751537799835\n",
      "Iteration: 6800\tLoss: 0.14899632334709167\n",
      "Iteration: 6900\tLoss: 0.16547369956970215\n",
      "Iteration: 7000\tLoss: 0.14245034754276276\n",
      "Iteration: 7100\tLoss: 0.1483290046453476\n",
      "Iteration: 7200\tLoss: 0.14577597379684448\n",
      "Iteration: 7300\tLoss: 0.13911305367946625\n",
      "Iteration: 7400\tLoss: 0.14006170630455017\n",
      "Iteration: 7500\tLoss: 0.1537572294473648\n",
      "Iteration: 7600\tLoss: 0.16021041572093964\n",
      "Iteration: 7700\tLoss: 0.13732385635375977\n",
      "Iteration: 7800\tLoss: 0.14813902974128723\n",
      "Iteration: 7900\tLoss: 0.1757100522518158\n",
      "Iteration: 8000\tLoss: 0.14052501320838928\n",
      "Iteration: 8100\tLoss: 0.16103647649288177\n",
      "Iteration: 8200\tLoss: 0.1639939248561859\n",
      "Iteration: 8300\tLoss: 0.17441245913505554\n",
      "Iteration: 8400\tLoss: 0.15062138438224792\n",
      "Iteration: 8500\tLoss: 0.13405683636665344\n",
      "Iteration: 8600\tLoss: 0.14271679520606995\n",
      "Iteration: 8700\tLoss: 0.18396702408790588\n",
      "Iteration: 8800\tLoss: 0.14847147464752197\n",
      "Iteration: 8900\tLoss: 0.16441932320594788\n",
      "Iteration: 9000\tLoss: 0.15972815454006195\n",
      "Iteration: 9100\tLoss: 0.16896778345108032\n",
      "Iteration: 9200\tLoss: 0.1594005525112152\n",
      "Iteration: 9300\tLoss: 0.15055327117443085\n",
      "Iteration: 9400\tLoss: 0.14370273053646088\n",
      "Iteration: 9500\tLoss: 0.16207346320152283\n",
      "Iteration: 9600\tLoss: 0.15287958085536957\n",
      "Iteration: 9700\tLoss: 0.14697179198265076\n",
      "Iteration: 9800\tLoss: 0.14309167861938477\n",
      "Iteration: 9900\tLoss: 0.1699172854423523\n",
      "Iteration: 10000\tLoss: 0.13652580976486206\n"
     ]
    }
   ],
   "source": [
    "opt_init, opt_update, get_params = optimizer(step_size=1e-2)\n",
    "opt_state = opt_init(get_params(opt_state))\n",
    "\n",
    "opt_state = training_loop(X, T, opt_state, opt_update, get_params, max_iter=10000)"
   ]
  }
 ],
 "metadata": {
  "kernelspec": {
   "display_name": "hetero_simulation",
   "language": "python",
   "name": "hetero_simulation"
  },
  "language_info": {
   "codemirror_mode": {
    "name": "ipython",
    "version": 3
   },
   "file_extension": ".py",
   "mimetype": "text/x-python",
   "name": "python",
   "nbconvert_exporter": "python",
   "pygments_lexer": "ipython3",
   "version": "3.9.10"
  }
 },
 "nbformat": 4,
 "nbformat_minor": 5
}
