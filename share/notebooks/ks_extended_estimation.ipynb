{
 "cells": [
  {
   "cell_type": "code",
   "execution_count": 1,
   "id": "4b3f3318",
   "metadata": {},
   "outputs": [],
   "source": [
    "# TODO: \n",
    "# move X, E, Z, etc into one vector called state\n",
    "\n",
    "# Calculate partical filter --- whatever that is\n",
    "# Estimated partical filter with another NN\n",
    "# Use estimated partical filter to generate posterior for parameters given data.\n",
    "\n",
    "# Collect data\n",
    "# Decide on model\n",
    "# Estimate parameters and compare to data for various numbers of agents\n",
    "# ???\n",
    "# Profit"
   ]
  },
  {
   "cell_type": "code",
   "execution_count": 2,
   "id": "55a24afc",
   "metadata": {},
   "outputs": [],
   "source": [
    "import sys\n",
    "sys.path.append('/home/emmet/Documents/code/hetero_simulation/lib')\n",
    "\n",
    "import numpy as np\n",
    "import pandas as pd\n",
    "import matplotlib.pyplot as plt\n",
    "import pickle\n",
    "import jax\n",
    "import jax.numpy as jnp\n",
    "from jax.example_libraries.optimizers import adam, unpack_optimizer_state, pack_optimizer_state\n",
    "from hetero_simulation.archive.agent import log_utility\n",
    "from hetero_simulation.ml.utils import *"
   ]
  },
  {
   "cell_type": "code",
   "execution_count": 3,
   "id": "6fce4db5",
   "metadata": {},
   "outputs": [],
   "source": [
    "from jax.config import config\n",
    "config.update(\"jax_debug_nans\", False)\n",
    "jax.config.update(\"jax_enable_x64\", True)"
   ]
  },
  {
   "cell_type": "code",
   "execution_count": 4,
   "id": "f37cbe68",
   "metadata": {},
   "outputs": [
    {
     "name": "stderr",
     "output_type": "stream",
     "text": [
      "WARNING:absl:No GPU/TPU found, falling back to CPU. (Set TF_CPP_MIN_LOG_LEVEL=0 and rerun for more info.)\n"
     ]
    }
   ],
   "source": [
    "# Parameters of wealth distribution\n",
    "A = 0.5\n",
    "B = 0.2\n",
    "\n",
    "# Preference and production parameters\n",
    "alpha = 0.36 # (0, 1)\n",
    "beta = 0.96 # (0, 1)\n",
    "delta = 0.025 # (0, 1)\n",
    "rho_z = 0.95 # (0, 1)\n",
    "rho_e = 0.9 # (0, 1)\n",
    "sigma_z = 0.01 # (0, inf)\n",
    "sigma_e = 0.2 * jnp.sqrt(1 - rho_e**2) # (0, inf)\n",
    "\n",
    "STRUCT_PARAM = {\n",
    "    'alpha': alpha, 'beta': beta, 'delta': delta, 'a': A, 'b': B,\n",
    "    'sigma_z': sigma_z, 'sigma_e': sigma_e, 'rho_z': rho_z, 'rho_e': rho_e\n",
    "}\n",
    "\n",
    "STRUCT_PARAM_IDXS = {k: v for k, v in zip(STRUCT_PARAM.keys(), np.arange(len(STRUCT_PARAM.keys())))}\n",
    "STRUCT_PARAM_ARR = jnp.asarray(np.fromiter(STRUCT_PARAM.values(), dtype=jnp.float32))\n",
    "\n",
    "AGG_IDXS = {'Xs': jnp.array(list(range(5))), 'Es': jnp.array(list(range(5, 10))), 'Zs': jnp.array(list(range(10, 11)))}\n",
    "IDO_IDXS = {'xs': jnp.array(list(range(1))), 'es': jnp.array(list(range(1, 2)))}\n",
    "\n",
    "# Hyper-parameters\n",
    "N = 2 ** 4\n",
    "MB = 2 ** 2\n",
    "N_EPOCH = 250\n",
    "N_ITER = 10 * (N // MB)\n",
    "N_FORWARD = 50\n",
    "T = 200\n",
    "\n",
    "K = 5 # number of agents (~ size of state space)\n",
    "M = 4\n",
    "nn_shapes = jnp.array([M, M, M, M])"
   ]
  },
  {
   "cell_type": "code",
   "execution_count": 5,
   "id": "82d77da3",
   "metadata": {},
   "outputs": [],
   "source": [
    "@jax.jit\n",
    "def neural_network(model_params, struct_params, agg_state, ido_state):\n",
    "    X_tilde = jnp.concatenate([struct_params.reshape(1, -1),\n",
    "                               agg_state.reshape(1, -1),\n",
    "                               ido_state.reshape(1, -1)], \n",
    "                              axis=1)\n",
    "    X_tilde = X_tilde @ model_params['theta']\n",
    "    # l1 = tanh(X_tilde, model_params['w0'], model_params['b0'])\n",
    "    l2 = tanh(X_tilde, model_params['w1'], model_params['b1'])\n",
    "    l3 = tanh(l2, model_params['w2'], model_params['b2'])\n",
    "    # l4 = tanh(jnp.concatenate((l3, e[..., jnp.newaxis], x[..., jnp.newaxis])), model_params['w3'], model_params['b3'])\n",
    "    return jnp.array([jnp.squeeze(sigmoid(l3, model_params['cwf'], model_params['cbf'])),\n",
    "                      jnp.squeeze(exp(l3, model_params['lwf'], model_params['lbf']))])\n",
    "\n",
    "\n",
    "@jax.jit\n",
    "def fischer_burmeister(a, b):\n",
    "    return a + b - jnp.sqrt(jnp.power(a, 2) + jnp.power(b, 2))\n",
    "\n",
    "\n",
    "@jax.jit\n",
    "def next_X(model_params, struct_params, agg_state):\n",
    "    R, W = prices(struct_params, agg_state)\n",
    "    w = jnp.squeeze(jax.vmap(lambda x, e: (R * x) + (W * jnp.exp(e)))(agg_state[AGG_IDXS['Xs']], agg_state[AGG_IDXS['Es']]))\n",
    "    ido_state = jnp.concatenate((agg_state[AGG_IDXS['Es']], jnp.squeeze(w))).reshape(K, 2, -1)\n",
    "    out = jax.vmap(neural_network, in_axes=(None, None, None, 0))(model_params, struct_params, agg_state, ido_state)\n",
    "    c = jnp.squeeze(w * out[..., 0])\n",
    "        \n",
    "    return (1 - out[..., 0]) * w\n",
    "\n",
    "\n",
    "@jax.jit\n",
    "def prices(struct_params, agg_state):\n",
    "    sumk = jnp.sum(agg_state[AGG_IDXS['Xs']])\n",
    "    sumexpl = jnp.sum(jnp.exp(agg_state[AGG_IDXS['Es']]))\n",
    "    w = (1 - struct_params[STRUCT_PARAM_IDXS['alpha']]) * jnp.exp(agg_state[AGG_IDXS['Zs']]) * jnp.power(sumk, struct_params[STRUCT_PARAM_IDXS['alpha']]) * jnp.power(sumexpl, -1 * struct_params[STRUCT_PARAM_IDXS['alpha']])\n",
    "    r = 1 - struct_params[STRUCT_PARAM_IDXS['delta']] + struct_params[STRUCT_PARAM_IDXS['alpha']] * jnp.exp(agg_state[AGG_IDXS['Zs']]) * jnp.power(sumk, struct_params[STRUCT_PARAM_IDXS['alpha']] - 1) * jnp.power(sumexpl, 1 - struct_params[STRUCT_PARAM_IDXS['alpha']])\n",
    "    return r, w\n",
    "\n",
    "\n",
    "@jax.jit\n",
    "def loss(model_params, struct_params, agg_state, key):\n",
    "    X = agg_state[AGG_IDXS['Xs']]\n",
    "    E = agg_state[AGG_IDXS['Es']]\n",
    "    Z = agg_state[AGG_IDXS['Zs']]\n",
    "    \n",
    "    agg_state_1 = next_state(model_params, struct_params, agg_state, key)\n",
    "    R, W = prices(struct_params, agg_state)\n",
    "    w = jnp.squeeze(jax.vmap(lambda x, e: (R * x) + (W * jnp.exp(e)))(X, E))\n",
    "    ido_states = jnp.concatenate((agg_state[AGG_IDXS['Es']], w)).reshape(5, 2, -1)\n",
    "    outputs = jax.vmap(neural_network, in_axes=(None, None, None, 0))(model_params, struct_params, agg_state, ido_states)\n",
    "    c_rel = outputs[..., 0]\n",
    "    lm = outputs[..., 1]\n",
    "    c = w * c_rel\n",
    "    \n",
    "    X1 = w - c\n",
    "    E1 = agg_state_1[AGG_IDXS['Es']]\n",
    "    R1, W1 = prices(struct_params, agg_state_1)\n",
    "    \n",
    "    w1 = jnp.squeeze(jax.vmap(lambda x, e: (R * x) + (W * jnp.exp(e)))(X1, E1))\n",
    "    ido_states_1 = jnp.concatenate((agg_state_1[AGG_IDXS['Es']], w1)).reshape(5, 2, -1)\n",
    "    c1 = w1 * jax.vmap(neural_network, in_axes=(None, None, None, 0))(model_params, struct_params, agg_state_1, ido_states_1)[..., 0]\n",
    "\n",
    "    u = lambda c: log_utility()(c)\n",
    "    g = jax.vmap(lambda c: struct_params[STRUCT_PARAM_IDXS['beta']] * R1 * jax.grad(u)(c))(c1)\n",
    "    up = jax.vmap(jax.grad(u))(c)\n",
    "    g_diff = jax.vmap(lambda g, up, lm: (g / up) - lm)(g.reshape(-1, 1), up.reshape(-1, 1), lm.reshape(-1, 1))\n",
    "    lm_diff = jax.vmap(lambda c, lm: fischer_burmeister(1 - c, 1 - lm))(c_rel.reshape(-1, 1), lm.reshape(-1, 1))\n",
    "\n",
    "    return g_diff, lm_diff, c_rel\n",
    "\n",
    "\n",
    "@jax.jit\n",
    "def batch_loss(model_params, struct_params, agg_states, keys):\n",
    "    g_diff_1, lm_diff_1, c_rels = jax.vmap(loss, in_axes=(None, 0, 0, None))(model_params, struct_params, agg_states, keys[0])\n",
    "    g_diff_2, lm_diff_2, c_rels = jax.vmap(loss, in_axes=(None, 0, 0, None))(model_params, struct_params, agg_states, keys[1])\n",
    "    g2 = g_diff_1 * g_diff_2\n",
    "    lm2 = lm_diff_1 * lm_diff_2\n",
    "\n",
    "    return jnp.squeeze(jnp.mean(g2 + lm2)**2), (jnp.squeeze(jnp.mean(g2)), jnp.squeeze(jnp.mean(lm2)), c_rels)\n",
    "\n",
    "\n",
    "@jax.jit\n",
    "def next_state(model_params, struct_params, agg_state, key):   \n",
    "    X_prime = next_X(model_params, struct_params, agg_state)\n",
    "    E_prime = struct_params[STRUCT_PARAM_IDXS['rho_e']] * agg_state[AGG_IDXS['Es']] +\\\n",
    "              struct_params[STRUCT_PARAM_IDXS['sigma_e']] * jax.random.normal(key, shape=(K,))\n",
    "    Z_prime = struct_params[STRUCT_PARAM_IDXS['rho_z']] * agg_state[AGG_IDXS['Zs']] +\\\n",
    "              struct_params[STRUCT_PARAM_IDXS['sigma_z']] * jax.random.normal(key)  \n",
    "    \n",
    "    agg_states = jnp.concatenate((X_prime, E_prime, Z_prime))\n",
    "    return agg_states\n",
    "\n",
    "\n",
    "@jax.tree_util.Partial(jax.jit, static_argnums=(4,))\n",
    "def simulate_state_forward(model_params, struct_params, agg_states, key, n_forward=N_FORWARD):\n",
    "    if len(agg_states.shape) == 1:\n",
    "        agg_states = agg_states.reshape(1, -1)\n",
    "    if len(struct_params.shape) == 1:\n",
    "        struct_params = struct_params.reshape(1, -1)\n",
    "    assert agg_states.shape[0] == struct_params.shape[0]\n",
    "\n",
    "    keys = jax.random.split(key, n_forward * agg_states.shape[0]).reshape(n_forward, agg_states.shape[0], 2)\n",
    "    \n",
    "    @jax.jit\n",
    "    def inner_loop(agg_states, i):\n",
    "        return jax.vmap(next_state, in_axes=(None, 0, 0, 0))(model_params, struct_params, agg_states, keys[i]), None\n",
    "    \n",
    "    agg_states, _ = jax.lax.scan(inner_loop, agg_states, jnp.arange(n_forward))\n",
    "    \n",
    "    return jnp.squeeze(agg_states), keys[-1, -1]\n",
    "\n",
    "\n",
    "@jax.jit\n",
    "def generate_struct_params(key):\n",
    "    keys = jax.random.split(key, 3)\n",
    "    \n",
    "    alpha = jax.random.uniform(keys[0], minval=0.2, maxval=0.5) * jnp.ones(1)\n",
    "    beta = jax.random.uniform(keys[1], minval=0.8, maxval=1.) * jnp.ones(1)\n",
    "    delta = jax.random.uniform(keys[2], minval=0.001, maxval=0.1) * jnp.ones(1)\n",
    "    a = STRUCT_PARAM['a'] * jnp.ones(1)\n",
    "    b = STRUCT_PARAM['b'] * jnp.ones(1)\n",
    "    rho_z = STRUCT_PARAM['rho_z'] * jnp.ones(1)\n",
    "    rho_e = STRUCT_PARAM['rho_e'] * jnp.ones(1)\n",
    "    sigma_z = STRUCT_PARAM['sigma_z'] * jnp.ones(1)\n",
    "    sigma_e = STRUCT_PARAM['sigma_e'] * jnp.ones(1)\n",
    "    \n",
    "    struct_params = jnp.concatenate((alpha, beta, delta, a, b, rho_z, rho_e, sigma_z, sigma_e))\n",
    "        \n",
    "    return struct_params\n",
    "\n",
    "\n",
    "@jax.tree_util.Partial(jax.jit, static_argnums=(2, 3))\n",
    "def generate_random_state(model_params, key, n_forward=N_FORWARD, batch_size=N//2, struct_params=None): \n",
    "    if struct_params is None:\n",
    "        keys = jax.random.split(key, batch_size)\n",
    "        struct_params = jax.vmap(generate_struct_params)(keys)\n",
    "    elif len(struct_params.shape) == 1:\n",
    "        struct_params = struct_params.reshape(1, -1)\n",
    "\n",
    "    samples = struct_params.shape[0]\n",
    "    Zs = jnp.ones(shape=(samples, 1))\n",
    "    Es = jnp.ones(shape=(samples, K))\n",
    "    Xs = jnp.exp(STRUCT_PARAM['a'] * jax.random.normal(\n",
    "        jax.random.PRNGKey(np.random.randint(1, int(1e8))), \n",
    "        shape=(samples, K))) + STRUCT_PARAM['b']\n",
    "    \n",
    "    agg_states = jnp.concatenate((Xs, Es, Zs), axis=1)\n",
    " \n",
    "    assert struct_params.shape[0] == agg_states.shape[0]\n",
    "    if n_forward > 0:\n",
    "        agg_states, key = simulate_state_forward(model_params, struct_params, agg_states, key, n_forward=n_forward)\n",
    "        \n",
    "    return agg_states, struct_params, key"
   ]
  },
  {
   "cell_type": "code",
   "execution_count": 6,
   "id": "838148e5",
   "metadata": {},
   "outputs": [],
   "source": [
    "scale = 0.5\n",
    "init_keys = jax.random.split(jax.random.PRNGKey(5), 11)\n",
    "theta0 = jax.random.gamma(init_keys[0], scale, shape=(2 * K + 3 + len(STRUCT_PARAM.values()), nn_shapes[0]))\n",
    "w00 = scale * jax.random.normal(init_keys[1], shape=(2 * K + 3 + len(STRUCT_PARAM.values()), nn_shapes[0]))\n",
    "w01 = scale * jax.random.normal(init_keys[2], shape=(nn_shapes[0], nn_shapes[1]))\n",
    "w02 = scale * jax.random.normal(init_keys[3], shape=(nn_shapes[1], nn_shapes[2]))\n",
    "w03 = scale * jax.random.normal(init_keys[4], shape=(nn_shapes[2] + 2, nn_shapes[3]))\n",
    "w0f = scale * jax.random.normal(init_keys[5], shape=(nn_shapes[1], 1))\n",
    "b00 = scale * jax.random.normal(init_keys[6], shape=(1, nn_shapes[0]))\n",
    "b01 = scale * jax.random.normal(init_keys[7], shape=(1, nn_shapes[1]))\n",
    "b02 = scale * jax.random.normal(init_keys[8], shape=(1, nn_shapes[2]))\n",
    "b03 = scale * jax.random.normal(init_keys[9], shape=(1, nn_shapes[3]))\n",
    "b0f = scale * jax.random.normal(init_keys[10], shape=(1, 1))\n",
    "\n",
    "params0 = {\n",
    "    'theta': theta0, 'w0': w00, 'w1': w01, 'w2': w02, 'w3': w03, 'cwf': w0f, 'lwf': w0f, 'b0': b00, 'b1': b01, 'b2': b02, 'b3': b03, 'cbf': b0f, 'lbf': b0f\n",
    "}"
   ]
  },
  {
   "cell_type": "code",
   "execution_count": 7,
   "id": "a3cd0b07",
   "metadata": {},
   "outputs": [],
   "source": [
    "def training_loop(opt_state, tol=1e-10, max_iter=10**4, rand_struct_params=True):\n",
    "    j = 0\n",
    "    key = jax.random.PRNGKey(np.random.randint(1, int(1e8)))\n",
    "    val_loss = jnp.inf\n",
    "    grad = {'0': jnp.inf}\n",
    "    opt_init, opt_update, get_params = adam(step_size=0.001)\n",
    "    model_params = get_params(opt_state)\n",
    "\n",
    "    if rand_struct_params:\n",
    "        agg_states, struct_params, key = generate_random_state(model_params, key)\n",
    "    else:\n",
    "        agg_states, struct_params, key = generate_random_state(model_params, key, struct_params=jnp.repeat(jnp.asarray(list(STRUCT_PARAM.values()))[jnp.newaxis], (N // 2), axis=0))\n",
    "\n",
    "    while j < max_iter and max([jnp.max(jnp.abs(v)) for k, v in grad.items()]) > tol and jnp.abs(val_loss) > tol:\n",
    "        jj = 0\n",
    "        while jj < N_ITER:\n",
    "            keys = jax.random.split(key, 2)\n",
    "            key = keys[-1]\n",
    "            model_params = get_params(opt_state)\n",
    "\n",
    "            sample = jax.random.choice(jax.random.PRNGKey(np.random.randint(1, int(1e8))), jnp.arange(N // 2), shape=(2, MB // 2,))\n",
    "            val, grad = jax.value_and_grad(batch_loss, has_aux=True)(model_params, struct_params[sample[0]], agg_states[sample[1]], keys)\n",
    "            val_loss = jnp.abs(val[0])\n",
    "            c_star_rel = val[1][-1]\n",
    "            if not (c_star_rel < 1).all():\n",
    "                print(jnp.concatenate((c_star_rel, struct_params[sample[0], :3]), axis=1))\n",
    "                raise ValueError('Invalid consumption choices observed') \n",
    "            if jnp.isnan(val_loss):\n",
    "                raise ValueError('Loss is nan')\n",
    "\n",
    "            c_val = jnp.abs(val[1][0])\n",
    "            kt_val = jnp.abs(val[1][1])\n",
    "            opt_state = opt_update(j * N_ITER + jj, grad, opt_state)\n",
    "\n",
    "            jj += 1\n",
    "\n",
    "        # Start from a new random position, before moving into the current implied ergodic set\n",
    "        model_params = get_params(opt_state)\n",
    "        if N_FORWARD > 0:\n",
    "            if rand_struct_params:\n",
    "                agg_states, struct_params, key = generate_random_state(model_params, key)\n",
    "            else:\n",
    "                agg_states, struct_params, key = generate_random_state(model_params, key, struct_params=jnp.repeat(jnp.asarray(list(STRUCT_PARAM.values()))[jnp.newaxis], (N // 2), axis=0))\n",
    "\n",
    "        if j % 1 == 0:\n",
    "            trained_params = unpack_optimizer_state(opt_state)\n",
    "            # pickle.dump(trained_params, open(f'./ks_cont_models/ks_cont_model_{K}_{j}.pkl', 'wb'))\n",
    "            print(f'Iteration: {j}  Total Loss: {val_loss:.2e}  C Loss: {c_val:.2e}  KT Loss: {kt_val:.2e}' +\\\n",
    "                  f'  Max Grad: {max([jnp.max(jnp.abs(v)) for k, v in grad.items()]):.2e}' +\\\n",
    "                  f'  Max Param: {max([jnp.max(jnp.abs(v)) for k, v in model_params.items()]):.2e}')\n",
    "        j += 1\n",
    "        \n",
    "    return opt_state"
   ]
  },
  {
   "cell_type": "code",
   "execution_count": 8,
   "id": "59afa208",
   "metadata": {},
   "outputs": [],
   "source": [
    "# Load pre-fit model\n",
    "opt_init, opt_update, get_params = adam(step_size=0.001)\n",
    "saved_params = pickle.load(open(f'./ks_cont_models/ks_cont_model_{K}_central.pkl', 'rb'))\n",
    "central_opt_state = pack_optimizer_state(saved_params)\n",
    "central_params = get_params(central_opt_state)"
   ]
  },
  {
   "cell_type": "code",
   "execution_count": 9,
   "id": "ddd0e448",
   "metadata": {
    "scrolled": true
   },
   "outputs": [],
   "source": [
    "# opt_init, opt_update, get_params = adam(step_size=0.001)\n",
    "# opt_state = opt_init(params0)\n",
    "\n",
    "# central_opt_state = training_loop(opt_state, max_iter=N_EPOCH, rand_struct_params=False)\n",
    "# central_params = get_params(central_opt_state)\n",
    "# pickle.dump(unpack_optimizer_state(central_opt_state), open(f'./ks_cont_models/ks_cont_model_{K}_central.pkl', 'wb'))"
   ]
  },
  {
   "cell_type": "code",
   "execution_count": 10,
   "id": "60be261c",
   "metadata": {},
   "outputs": [],
   "source": [
    "# Load pre-fit model\n",
    "range_opt_init, opt_update, get_params = adam(step_size=0.001)\n",
    "range_saved_params = pickle.load(open(f'./ks_cont_models/ks_cont_model_{K}_range.pkl', 'rb'))\n",
    "range_opt_state = pack_optimizer_state(range_saved_params)\n",
    "range_params = get_params(range_opt_state)"
   ]
  },
  {
   "cell_type": "code",
   "execution_count": 11,
   "id": "8b0b1baa",
   "metadata": {},
   "outputs": [],
   "source": [
    "# range_opt_state = training_loop(opt_state, max_iter=N_EPOCH, rand_struct_params=True)\n",
    "# range_params = get_params(range_opt_state)\n",
    "# pickle.dump(unpack_optimizer_state(range_opt_state), open(f'./ks_cont_models/ks_cont_model_{K}_range.pkl', 'wb'))"
   ]
  },
  {
   "cell_type": "markdown",
   "id": "bd6d922f",
   "metadata": {},
   "source": [
    "### Experimental: SMM"
   ]
  },
  {
   "cell_type": "code",
   "execution_count": 12,
   "id": "9c16dc84",
   "metadata": {},
   "outputs": [],
   "source": [
    "# key = jax.random.PRNGKey(123)\n",
    "# # Note we draw from the ergodic distribution, but which parameters should we use to do this?\n",
    "# train_agg_states, train_struct_params, key = generate_random_state(params0, key, struct_params=None)\n",
    "# true_struct_params = jnp.repeat(jnp.asarray(list(STRUCT_PARAM.values()))[jnp.newaxis], N // 2, axis=0)\n",
    "# Rs, Ws = jax.vmap(prices)(train_struct_params, train_agg_states)\n",
    "# ws = jax.vmap(lambda agg_state, R, W: jnp.squeeze(jax.vmap(lambda x, e: (R * x) + (W * jnp.exp(e)))(agg_state[AGG_IDXS['Xs']], agg_state[AGG_IDXS['Es']])))(train_agg_states, Rs, Ws)\n",
    "# ido_states = jnp.squeeze(jax.vmap(lambda w, agg_state: jnp.concatenate((agg_state[AGG_IDXS['Es']], jnp.squeeze(w))).reshape(5, 2, -1))(ws, train_agg_states))"
   ]
  },
  {
   "cell_type": "code",
   "execution_count": 13,
   "id": "689e8ce2",
   "metadata": {},
   "outputs": [],
   "source": [
    "# true_preds = jax.vmap(jax.vmap(neural_network, in_axes=(None, None, None, 0)), in_axes=(None, 0, 0, 0))(central_params, true_struct_params, train_agg_states, ido_states)"
   ]
  },
  {
   "cell_type": "code",
   "execution_count": 14,
   "id": "bbb9c7f9",
   "metadata": {},
   "outputs": [],
   "source": [
    "# range_preds = jax.vmap(jax.vmap(jax.vmap(neural_network, in_axes=(None, None, None, 0)), in_axes=(None, None, 0, 0)), in_axes=(None, 0, None, None))(range_params, train_struct_params, train_agg_states, ido_states)"
   ]
  },
  {
   "cell_type": "code",
   "execution_count": 15,
   "id": "2c489499",
   "metadata": {},
   "outputs": [],
   "source": [
    "# diffs = jnp.mean(jax.vmap(\n",
    "#                     jax.vmap(\n",
    "#                         jax.vmap(lambda true_pred, range_pred: true_pred - range_pred, \n",
    "#                                  in_axes=(0, 0)), \n",
    "#                         in_axes=(0, 0)), \n",
    "#                     in_axes=(None, 0))(true_preds, range_preds), axis=(1, 2))\n",
    "# log_liks = jax.scipy.stats.multivariate_normal.logpdf(diffs, mean=jnp.ones(2), cov=jnp.diag(jnp.ones(2) / MB))\n",
    "# log_liks"
   ]
  },
  {
   "cell_type": "code",
   "execution_count": 16,
   "id": "ee5a6dda",
   "metadata": {},
   "outputs": [],
   "source": [
    "# @jax.jit\n",
    "# def diff_fn(train_struct_params):\n",
    "#     true_preds = jax.vmap(jax.vmap(neural_network, in_axes=(None, None, None, 0)), in_axes=(None, 0, 0, 0))(central_params, true_struct_params, train_agg_states, ido_states)\n",
    "#     range_preds = jax.vmap(jax.vmap(jax.vmap(neural_network, in_axes=(None, None, None, 0)), in_axes=(None, None, 0, 0)), in_axes=(None, 0, None, None))(range_params, train_struct_params, train_agg_states, ido_states)\n",
    "#     diffs = jnp.mean(jax.vmap(\n",
    "#                     jax.vmap(\n",
    "#                         jax.vmap(lambda true_pred, range_pred: true_pred - range_pred, \n",
    "#                                  in_axes=(0, 0)), \n",
    "#                         in_axes=(0, 0)), \n",
    "#                     in_axes=(None, 0))(true_preds, range_preds), axis=(1, 2))\n",
    "#     return diffs[:, 0]\n",
    "\n",
    "# grads = jax.jacfwd(diff_fn)(train_struct_params)"
   ]
  },
  {
   "cell_type": "markdown",
   "id": "6b9cadf0",
   "metadata": {},
   "source": [
    "### Particle Filter"
   ]
  },
  {
   "cell_type": "code",
   "execution_count": 17,
   "id": "f810ac12",
   "metadata": {},
   "outputs": [],
   "source": [
    "key = jax.random.PRNGKey(123)\n",
    "# Note we draw from the ergodic distribution, but which parameters should we use to do this?\n",
    "train_agg_states, train_struct_params, key = generate_random_state(params0, key, struct_params=None)\n",
    "true_struct_params = jnp.repeat(jnp.asarray(list(STRUCT_PARAM.values()))[jnp.newaxis], N // 2, axis=0)"
   ]
  },
  {
   "cell_type": "code",
   "execution_count": 52,
   "id": "83cad3dd",
   "metadata": {},
   "outputs": [
    {
     "data": {
      "text/plain": [
       "DeviceArray([0.36      , 0.96      , 0.025     , 0.5       , 0.2       ,\n",
       "             0.01      , 0.08717798, 0.95      , 0.9       ],            dtype=float64)"
      ]
     },
     "execution_count": 52,
     "metadata": {},
     "output_type": "execute_result"
    }
   ],
   "source": [
    "true_struct_params[0]"
   ]
  },
  {
   "cell_type": "code",
   "execution_count": 53,
   "id": "a0a0aabb",
   "metadata": {},
   "outputs": [
    {
     "data": {
      "text/plain": [
       "{'alpha': 0.36,\n",
       " 'beta': 0.96,\n",
       " 'delta': 0.025,\n",
       " 'a': 0.5,\n",
       " 'b': 0.2,\n",
       " 'sigma_z': 0.01,\n",
       " 'sigma_e': DeviceArray(0.08717798, dtype=float64, weak_type=True),\n",
       " 'rho_z': 0.95,\n",
       " 'rho_e': 0.9}"
      ]
     },
     "execution_count": 53,
     "metadata": {},
     "output_type": "execute_result"
    }
   ],
   "source": [
    "STRUCT_PARAM"
   ]
  },
  {
   "cell_type": "code",
   "execution_count": 61,
   "id": "a8d4e69e",
   "metadata": {},
   "outputs": [
    {
     "data": {
      "text/plain": [
       "DeviceArray([[2.33356122, 1.72686798, 2.04898146, 2.12889787, 2.00632565],\n",
       "             [2.29498955, 1.76358494, 2.12650499, 2.14621786, 1.99111546],\n",
       "             [2.299148  , 1.79381567, 2.20908629, 2.15982813, 1.97093196],\n",
       "             [2.26763697, 1.84500548, 2.27020786, 2.16431096, 1.94505641],\n",
       "             [2.25419106, 1.8754396 , 2.3148487 , 2.1615693 , 1.95199953]],            dtype=float64)"
      ]
     },
     "execution_count": 61,
     "metadata": {},
     "output_type": "execute_result"
    }
   ],
   "source": [
    "# Simulate data from the \"true\" model to use as data for the particle filter\n",
    "t_burn = 200\n",
    "key = jax.random.PRNGKey(235)\n",
    "struct_params = true_struct_params[0]\n",
    "init_state, _, key = generate_random_state(central_params, key, n_forward=500, struct_params=struct_params)\n",
    "\n",
    "\n",
    "def next_states(carry, xs=None):\n",
    "    states, key = carry\n",
    "    next_state, new_key = simulate_state_forward(central_params, struct_params, states, key, n_forward=1)\n",
    "    R, W = prices(true_struct_params[0], states)\n",
    "    w = jnp.squeeze(jax.vmap(lambda x, e: (R * x) + (W * jnp.exp(e)))(states[AGG_IDXS['Xs']], states[AGG_IDXS['Es']]))    \n",
    "    ido_states = jnp.squeeze(jnp.concatenate((states[AGG_IDXS['Es']], w)).reshape(K, 2))\n",
    "    preds = jax.vmap(neural_network, in_axes=(None, None, None, 0))(central_params, struct_params, states, ido_states)\n",
    "    return (next_state, new_key), w * preds[..., 0]\n",
    "    \n",
    "init_carry = (init_state, key)\n",
    "_, cs = jax.lax.scan(next_states, init_carry, xs=None, length=T+t_burn)\n",
    "cs = cs[t_burn:]\n",
    "cs[:5]"
   ]
  },
  {
   "cell_type": "code",
   "execution_count": 62,
   "id": "f802140b",
   "metadata": {},
   "outputs": [
    {
     "data": {
      "text/plain": [
       "<AxesSubplot:>"
      ]
     },
     "execution_count": 62,
     "metadata": {},
     "output_type": "execute_result"
    },
    {
     "data": {
      "image/png": "[encoded data removed]",
      "text/plain": [
       "<Figure size 432x288 with 1 Axes>"
      ]
     },
     "metadata": {
      "needs_background": "light"
     },
     "output_type": "display_data"
    }
   ],
   "source": [
    "pd.DataFrame(jnp.sum(cs, axis=1)).plot()"
   ]
  },
  {
   "cell_type": "code",
   "execution_count": 72,
   "id": "ea045a61",
   "metadata": {},
   "outputs": [],
   "source": [
    "# HS\n",
    "# @jax.jit\n",
    "# def multinomial(states, weights, key):\n",
    "#     return states[jax.random.categorical(key, jnp.log(weights), shape=(weights.shape[0],))]\n",
    "\n",
    "\n",
    "# FVRR\n",
    "@jax.jit\n",
    "def multinomial(states, weights, key):\n",
    "    idxs = jax.random.categorical(key, weights, shape=(weights.shape[0],))\n",
    "    return states[idxs], weights[idxs]\n",
    "\n",
    "\n",
    "@jax.jit\n",
    "def get_inc_weights(pred_ys, real_y, std=1.):\n",
    "    return jax.vmap(lambda pred_y: \n",
    "                    jax.scipy.stats.multivariate_normal.pdf(pred_y - real_y, \n",
    "                                                            mean=jnp.zeros(real_y.shape[0]),\n",
    "                                                            cov=std*jnp.diag(jnp.ones(real_y.shape[0]))))(pred_ys)\n",
    "\n",
    "\n",
    "@jax.jit\n",
    "def get_observables(model_params, struct_params, states):\n",
    "    # TODO: Confirm shapes are correct, should vmap states over 1...M\n",
    "    Rs, Ws = jax.vmap(prices, in_axes=(None, 0))(struct_params, states)\n",
    "    ws = jax.vmap(lambda state, R, W: jnp.squeeze(jax.vmap(lambda x, e: (R * x) + (W * jnp.exp(e)))(state[AGG_IDXS['Xs']], state[AGG_IDXS['Es']])))(states, Rs, Ws)    \n",
    "    ido_states = jnp.squeeze(jax.vmap(lambda w, state: jnp.concatenate((state[AGG_IDXS['Es']], jnp.squeeze(w))).reshape(K, 2, -1))(ws, states))\n",
    "    range_preds = jax.vmap(jax.vmap(neural_network, in_axes=(None, None, None, 0)), in_axes=(None, None, 0, 0))(model_params, struct_params, states, ido_states)\n",
    "    observables = ws * range_preds[..., 0] # Assume only consumption is visible, for now\n",
    "    return observables\n",
    "\n",
    "\n",
    "# Herbst and Schorfheide\n",
    "# @jax.jit\n",
    "# def particle_loop(model_params, struct_params, data, std, carry, t):\n",
    "#     states, weights, key = carry\n",
    "#     keys = jax.random.split(key, states.shape[0])\n",
    "    \n",
    "#     new_states, new_keys = jax.vmap(simulate_state_forward, in_axes=(None, None, 0, 0, None))(model_params, struct_params, states, keys, 1)\n",
    "#     pred_ys = get_observables(model_params, struct_params, new_states)\n",
    "#     inc_weights = get_inc_weights(pred_ys, data[t], std=std)\n",
    "    \n",
    "#     sum_weights = jnp.mean(inc_weights * weights)\n",
    "#     norm_weights = (inc_weights * weights) / sum_weights\n",
    "    \n",
    "#     ess = (weights.shape[0]) / jnp.sum(inc_weights**2)\n",
    "#     rho = jnp.int32(ess < (weights.shape[0]) / 2)\n",
    "    \n",
    "#     out_states = rho * multinomial(new_states, norm_weights, key) + (1 - rho) * new_states\n",
    "#     out_weights = rho * jnp.ones(weights.shape[0]) + (1 - rho) * norm_weights\n",
    "    \n",
    "#     carry = (out_states, out_weights, new_keys[-1])\n",
    "#     return carry, (out_states, weights, inc_weights)\n",
    "\n",
    "\n",
    "# Fernandez-Villaverde and Rubio-Ramirez\n",
    "@jax.jit\n",
    "def particle_loop(model_params, struct_params, data, std, carry, t):\n",
    "    states, weights, key = carry\n",
    "    keys = jax.random.split(key, states.shape[0])\n",
    "    \n",
    "    new_states, new_keys = jax.vmap(simulate_state_forward, in_axes=(None, None, 0, 0, None))(model_params, struct_params, states, keys, 1)\n",
    "    pred_ys = get_observables(model_params, struct_params, new_states)\n",
    "    inc_weights = get_inc_weights(pred_ys, data[t], std=std)\n",
    "    \n",
    "    sum_weights = jnp.mean(inc_weights)\n",
    "    norm_weights = (inc_weights) / sum_weights\n",
    "    \n",
    "    out_states, out_weights = multinomial(new_states, norm_weights, key)\n",
    "    \n",
    "    carry = (out_states, out_weights, new_keys[-1])\n",
    "    return carry, inc_weights\n",
    "\n",
    "\n",
    "@jax.tree_util.Partial(jax.jit, static_argnums=(5, 6))\n",
    "def particle_filter(model_params, struct_params, data, key, std=1., batch_size=2**9, t_burn=50):\n",
    "    '''\n",
    "    model_params: 1 example of model params, fit over a range of structural parameters\n",
    "    struct_params: 1 example of structural params\n",
    "    data: a DeviceArray([T,]) of data to match observables from model \n",
    "    key: a jax.random.PRNGKey\n",
    "    '''\n",
    "    init_states, _, key = generate_random_state(model_params, key, struct_params=jnp.repeat(struct_params.reshape(1, -1), batch_size, axis=0), n_forward=0)\n",
    "    init_weights = jnp.ones(batch_size)\n",
    "    # states and weights are a batch of M = N // 2 we will average over but there is only one example of \"struct_params\"\n",
    "    inner_loop = jax.tree_util.Partial(particle_loop, model_params, struct_params, data, std)\n",
    "    # Herbst and Schorfheide\n",
    "    # _, (states, weights, inc_weights) = jax.lax.scan(inner_loop, (init_states, init_weights, key), jnp.arange(T))\n",
    "    # ll = jnp.sum(jnp.log(jnp.mean(inc_weights * weights, axis=1)))\n",
    "    \n",
    "    # Fernandez-Villaverde and Rubio-Ramirez\n",
    "    _, inc_weights = jax.lax.scan(inner_loop, (init_states, init_weights, key), jnp.arange(T))\n",
    "    ll = jnp.mean(jnp.log(jnp.mean(inc_weights[t_burn:], axis=1)))\n",
    "    return ll"
   ]
  },
  {
   "cell_type": "code",
   "execution_count": 73,
   "id": "e2c213be",
   "metadata": {},
   "outputs": [
    {
     "data": {
      "text/plain": [
       "DeviceArray(-4.86352015, dtype=float64)"
      ]
     },
     "execution_count": 73,
     "metadata": {},
     "output_type": "execute_result"
    }
   ],
   "source": [
    "# LL of true parameters, using true model\n",
    "true_ll = particle_filter(central_params, true_struct_params[0], cs, key, std=1.)\n",
    "true_ll"
   ]
  },
  {
   "cell_type": "code",
   "execution_count": 30,
   "id": "3afeb674",
   "metadata": {},
   "outputs": [
    {
     "data": {
      "text/plain": [
       "DeviceArray([-5.29725333, -5.37620012, -5.3432726 , -5.33386716,\n",
       "             -5.31751722, -5.45214993, -5.36820649, -5.32992951,\n",
       "             -5.38698602, -5.34046039, -5.29955243, -5.25916698,\n",
       "             -5.37968627, -5.41937003, -5.41583416, -5.41783327,\n",
       "             -5.3003913 , -5.26099896, -5.26623531, -5.42280344,\n",
       "             -5.30519301, -5.31793879, -5.39046621, -5.30008633,\n",
       "             -5.43747972, -5.36962521, -5.27311578, -5.27750904,\n",
       "             -5.30052595, -5.33075774, -5.27368304, -5.40655427],            dtype=float64)"
      ]
     },
     "execution_count": 30,
     "metadata": {},
     "output_type": "execute_result"
    }
   ],
   "source": [
    "# LL of some random parameters, using model fit over range of parameters\n",
    "key  = jax.random.PRNGKey(1)\n",
    "agg_states, struct_params, key = generate_random_state(range_params, key, n_forward=0, batch_size=32, struct_params=None)\n",
    "keys = jax.random.split(key, struct_params.shape[0])\n",
    "lls = jax.vmap(particle_filter, in_axes=(None, 0, None, 0, None))(range_params, struct_params, cs, keys, 1.)\n",
    "lls"
   ]
  },
  {
   "cell_type": "markdown",
   "id": "f32fb120",
   "metadata": {},
   "source": [
    "### Particle Filter Neural Network"
   ]
  },
  {
   "cell_type": "code",
   "execution_count": 76,
   "id": "203fd878",
   "metadata": {},
   "outputs": [
    {
     "name": "stdout",
     "output_type": "stream",
     "text": [
      "Samples generated: 10\n",
      "Samples generated: 20\n",
      "Samples generated: 30\n",
      "Samples generated: 40\n",
      "Samples generated: 50\n",
      "Samples generated: 60\n",
      "Samples generated: 70\n",
      "Samples generated: 80\n",
      "Samples generated: 90\n",
      "Samples generated: 100\n"
     ]
    }
   ],
   "source": [
    "# Generate a fixed dataset against which to fit the particle filter nn\n",
    "data_size = 100\n",
    "batch_size = 10\n",
    "key = jax.random.PRNGKey(825)\n",
    "agg_states, struct_params, key = generate_random_state(range_params, key, n_forward=0, batch_size=data_size, struct_params=None)\n",
    "keys = jax.random.split(key, struct_params.shape[0])\n",
    "\n",
    "# Hold all but one of the params fixed at their true value\n",
    "# struct_params = struct_params.at[:, 0].set(STRUCT_PARAM['alpha'])\n",
    "struct_params = struct_params.at[:, 1].set(STRUCT_PARAM['beta'])\n",
    "struct_params = struct_params.at[:, 2].set(STRUCT_PARAM['delta'])\n",
    "\n",
    "\n",
    "lls = jnp.array([])\n",
    "samples = 0\n",
    "# Split this task into pieces, as the vmap takes too much memory to do in one chunk\n",
    "while samples < data_size:\n",
    "    ll = jax.vmap(particle_filter, in_axes=(None, 0, None, 0))(range_params, struct_params[samples:samples+batch_size], cs, keys[samples:samples+batch_size])\n",
    "    lls = jnp.concatenate((lls, ll))\n",
    "    samples += batch_size\n",
    "    print(f'Samples generated: {samples}')\n",
    "\n",
    "assert not jnp.isnan(lls).any()\n"
   ]
  },
  {
   "cell_type": "code",
   "execution_count": 77,
   "id": "33eb6c97",
   "metadata": {},
   "outputs": [
    {
     "data": {
      "text/plain": [
       "<matplotlib.lines.Line2D at 0x7f3ddf42a310>"
      ]
     },
     "execution_count": 77,
     "metadata": {},
     "output_type": "execute_result"
    },
    {
     "data": {
      "image/png": "[encoded data removed]",
      "text/plain": [
       "<Figure size 2304x432 with 3 Axes>"
      ]
     },
     "metadata": {
      "needs_background": "light"
     },
     "output_type": "display_data"
    }
   ],
   "source": [
    "fig, axes = plt.subplots(1, 3, figsize=(32, 6))\n",
    "df = pd.DataFrame(jnp.concatenate((struct_params[:, :3], lls.reshape(-1, 1)), axis=1), columns=['alpha', 'beta', 'delta', 'log-likelihood'])\n",
    "df.plot(kind='scatter', x='alpha', y='log-likelihood', ax=axes[0])\n",
    "df.plot(kind='scatter', x='beta', y='log-likelihood', ax=axes[1])\n",
    "df.plot(kind='scatter', x='delta', y='log-likelihood', ax=axes[2])\n",
    "\n",
    "axes[0].axvline(x=STRUCT_PARAM['alpha'], linewidth=2, color='k')\n",
    "axes[1].axvline(x=STRUCT_PARAM['beta'],  linewidth=2, color='k')\n",
    "axes[2].axvline(x=STRUCT_PARAM['delta'], linewidth=2, color='k')"
   ]
  },
  {
   "cell_type": "code",
   "execution_count": 21,
   "id": "cebc5066",
   "metadata": {},
   "outputs": [],
   "source": [
    "scale = 0.5\n",
    "init_keys = jax.random.split(jax.random.PRNGKey(65), 8)\n",
    "\n",
    "w00 = scale * jax.random.normal(init_keys[0], shape=(true_struct_params[0].shape[0], nn_shapes[0]))\n",
    "w01 = scale * jax.random.normal(init_keys[1], shape=(nn_shapes[0], nn_shapes[1]))\n",
    "w02 = scale * jax.random.normal(init_keys[2], shape=(nn_shapes[1], nn_shapes[2]))\n",
    "w0f = scale * jax.random.normal(init_keys[3], shape=(nn_shapes[1], 1))\n",
    "b00 = scale * jax.random.normal(init_keys[4], shape=(1, nn_shapes[0]))\n",
    "b01 = scale * jax.random.normal(init_keys[5], shape=(1, nn_shapes[1]))\n",
    "b02 = scale * jax.random.normal(init_keys[6], shape=(1, nn_shapes[2]))\n",
    "b0f = scale * jax.random.normal(init_keys[7], shape=(1, 1))\n",
    "\n",
    "pf_params0 = {\n",
    "    'w0': w00, 'w1': w01, 'w2': w02, 'wf': w0f, 'b0': b00, 'b1': b01, 'b2': b02, 'bf': b0f\n",
    "}"
   ]
  },
  {
   "cell_type": "code",
   "execution_count": 22,
   "id": "1d9eb79c",
   "metadata": {},
   "outputs": [],
   "source": [
    "@jax.jit\n",
    "def particle_neural_network(params, struct_params):\n",
    "    l1 = tanh(struct_params, params['w0'], params['b0'])\n",
    "    l2 = tanh(l1, params['w1'], params['b1'])\n",
    "    l3 = tanh(l2, params['w2'], params['b2'])\n",
    "    return linear(l3, params['wf'], params['bf'])\n",
    "\n",
    "\n",
    "@jax.tree_util.Partial(jax.jit, static_argnums=(5,))\n",
    "def pf_loss(params, model_params, struct_params, data, key, particles):\n",
    "    pf_ll = particle_filter(model_params, struct_params, data, key, batch_size=particles)\n",
    "    nn_ll = particle_neural_network(params, struct_params)\n",
    "\n",
    "    return (nn_ll - pf_ll) ** 2\n",
    "\n",
    "\n",
    "@jax.tree_util.Partial(jax.jit, static_argnums=(5,))\n",
    "def pf_batch_loss(params, model_params, struct_params, data, keys, particles=128):\n",
    "    losses = jax.vmap(pf_loss, in_axes=(None, None, 0, None, 0, None))(params, model_params, struct_params, data, keys, particles)\n",
    "    losses = jnp.nan_to_num(losses, jnp.mean(losses))\n",
    "    return jnp.mean(losses)"
   ]
  },
  {
   "cell_type": "code",
   "execution_count": 41,
   "id": "f7c9de10",
   "metadata": {},
   "outputs": [
    {
     "data": {
      "text/plain": [
       "DeviceArray(11034102.19640663, dtype=float64)"
      ]
     },
     "execution_count": 41,
     "metadata": {},
     "output_type": "execute_result"
    }
   ],
   "source": [
    "key = jax.random.PRNGKey(1)\n",
    "agg_states, struct_params, key = generate_random_state(range_params, key, n_forward=0, batch_size=32, struct_params=None)\n",
    "pf_batch_loss(pf_params0, range_params, struct_params, cs, jax.random.split(jax.random.PRNGKey(1), struct_params.shape[0]))"
   ]
  },
  {
   "cell_type": "code",
   "execution_count": 57,
   "id": "5860e5ee",
   "metadata": {},
   "outputs": [
    {
     "name": "stdout",
     "output_type": "stream",
     "text": [
      "Iteration: 100\tPolicy Loss: 3.41e-04\tParticle Filter Loss: inf\n",
      "Iteration: 101\tPolicy Loss: 1.00e-04\tParticle Filter Loss: inf\n",
      "Iteration: 102\tPolicy Loss: 6.13e-04\tParticle Filter Loss: 1.08e+07\n",
      "Iteration: 103\tPolicy Loss: 4.62e-04\tParticle Filter Loss: 1.08e+07\n",
      "Iteration: 104\tPolicy Loss: 2.36e-04\tParticle Filter Loss: 1.08e+07\n",
      "Iteration: 105\tPolicy Loss: 2.00e-04\tParticle Filter Loss: 1.08e+07\n",
      "Iteration: 106\tPolicy Loss: 3.18e-04\tParticle Filter Loss: 1.07e+07\n",
      "Iteration: 107\tPolicy Loss: 3.72e-04\tParticle Filter Loss: 1.07e+07\n",
      "Iteration: 108\tPolicy Loss: 1.70e-04\tParticle Filter Loss: 1.06e+07\n",
      "Iteration: 109\tPolicy Loss: 2.08e-04\tParticle Filter Loss: 1.06e+07\n",
      "Iteration: 110\tPolicy Loss: 4.17e-04\tParticle Filter Loss: 1.05e+07\n",
      "Iteration: 111\tPolicy Loss: 2.68e-04\tParticle Filter Loss: 1.05e+07\n",
      "Iteration: 112\tPolicy Loss: 6.08e-04\tParticle Filter Loss: 1.04e+07\n"
     ]
    },
    {
     "ename": "KeyboardInterrupt",
     "evalue": "",
     "output_type": "error",
     "traceback": [
      "\u001b[0;31m---------------------------------------------------------------------------\u001b[0m",
      "\u001b[0;31mKeyboardInterrupt\u001b[0m                         Traceback (most recent call last)",
      "\u001b[1;32m/home/emmet/Documents/code/hetero_simulation/share/notebooks/ks_extended_estimation.ipynb Cell 27\u001b[0m in \u001b[0;36m<cell line: 59>\u001b[0;34m()\u001b[0m\n\u001b[1;32m     <a href='vscode-notebook-cell:/home/emmet/Documents/code/hetero_simulation/share/notebooks/ks_extended_estimation.ipynb#X34sZmlsZQ%3D%3D?line=53'>54</a>\u001b[0m             \u001b[39mprint\u001b[39m(\u001b[39mf\u001b[39m\u001b[39m'\u001b[39m\u001b[39mIteration: \u001b[39m\u001b[39m{\u001b[39;00mi\u001b[39m}\u001b[39;00m\u001b[39m\\t\u001b[39;00m\u001b[39mPolicy Loss: \u001b[39m\u001b[39m{\u001b[39;00mpl_loss\u001b[39m:\u001b[39;00m\u001b[39m.2e\u001b[39m\u001b[39m}\u001b[39;00m\u001b[39m\\t\u001b[39;00m\u001b[39mParticle Filter Loss: \u001b[39m\u001b[39m{\u001b[39;00mpf_loss\u001b[39m:\u001b[39;00m\u001b[39m.2e\u001b[39m\u001b[39m}\u001b[39;00m\u001b[39m'\u001b[39m)\n\u001b[1;32m     <a href='vscode-notebook-cell:/home/emmet/Documents/code/hetero_simulation/share/notebooks/ks_extended_estimation.ipynb#X34sZmlsZQ%3D%3D?line=55'>56</a>\u001b[0m     \u001b[39mreturn\u001b[39;00m get_params(pf_opt_state), get_params(pl_opt_state)\n\u001b[0;32m---> <a href='vscode-notebook-cell:/home/emmet/Documents/code/hetero_simulation/share/notebooks/ks_extended_estimation.ipynb#X34sZmlsZQ%3D%3D?line=58'>59</a>\u001b[0m pf_params, pl_params \u001b[39m=\u001b[39m pf_training_loop(pf_params0, range_params, cs)\n",
      "\u001b[1;32m/home/emmet/Documents/code/hetero_simulation/share/notebooks/ks_extended_estimation.ipynb Cell 27\u001b[0m in \u001b[0;36mpf_training_loop\u001b[0;34m(pf_params, pl_params, data, tol, max_iter, batch_size, particles)\u001b[0m\n\u001b[1;32m     <a href='vscode-notebook-cell:/home/emmet/Documents/code/hetero_simulation/share/notebooks/ks_extended_estimation.ipynb#X34sZmlsZQ%3D%3D?line=36'>37</a>\u001b[0m pl_params \u001b[39m=\u001b[39m pl_get_params(pl_opt_state)\n\u001b[1;32m     <a href='vscode-notebook-cell:/home/emmet/Documents/code/hetero_simulation/share/notebooks/ks_extended_estimation.ipynb#X34sZmlsZQ%3D%3D?line=37'>38</a>\u001b[0m pf_params \u001b[39m=\u001b[39m pf_get_params(pf_opt_state)\n\u001b[0;32m---> <a href='vscode-notebook-cell:/home/emmet/Documents/code/hetero_simulation/share/notebooks/ks_extended_estimation.ipynb#X34sZmlsZQ%3D%3D?line=38'>39</a>\u001b[0m pf_loss, pf_grad \u001b[39m=\u001b[39m jax\u001b[39m.\u001b[39;49mvalue_and_grad(pf_batch_loss)(pf_params, pl_params, struct_params, data, keys[batch_size:\u001b[39m2\u001b[39;49m\u001b[39m*\u001b[39;49mbatch_size], particles\u001b[39m=\u001b[39;49mparticles)\n\u001b[1;32m     <a href='vscode-notebook-cell:/home/emmet/Documents/code/hetero_simulation/share/notebooks/ks_extended_estimation.ipynb#X34sZmlsZQ%3D%3D?line=40'>41</a>\u001b[0m \u001b[39mif\u001b[39;00m jnp\u001b[39m.\u001b[39misnan(pf_loss) \u001b[39mor\u001b[39;00m \u001b[39many\u001b[39m([jnp\u001b[39m.\u001b[39misnan(x)\u001b[39m.\u001b[39many() \u001b[39mfor\u001b[39;00m x \u001b[39min\u001b[39;00m pf_grad\u001b[39m.\u001b[39mvalues()]):\n\u001b[1;32m     <a href='vscode-notebook-cell:/home/emmet/Documents/code/hetero_simulation/share/notebooks/ks_extended_estimation.ipynb#X34sZmlsZQ%3D%3D?line=41'>42</a>\u001b[0m     \u001b[39mprint\u001b[39m(\u001b[39m'\u001b[39m\u001b[39mParticle Filter Loss was nan\u001b[39m\u001b[39m'\u001b[39m)\n",
      "    \u001b[0;31m[... skipping hidden 1 frame]\u001b[0m\n",
      "File \u001b[0;32m~/.conda/envs/jax/lib/python3.9/site-packages/jax/_src/api.py:995\u001b[0m, in \u001b[0;36mvalue_and_grad.<locals>.value_and_grad_f\u001b[0;34m(*args, **kwargs)\u001b[0m\n\u001b[1;32m    993\u001b[0m   _check_input_dtype_grad(holomorphic, allow_int, leaf)\n\u001b[1;32m    994\u001b[0m \u001b[39mif\u001b[39;00m \u001b[39mnot\u001b[39;00m has_aux:\n\u001b[0;32m--> 995\u001b[0m   ans, vjp_py \u001b[39m=\u001b[39m _vjp(f_partial, \u001b[39m*\u001b[39;49mdyn_args, reduce_axes\u001b[39m=\u001b[39;49mreduce_axes)\n\u001b[1;32m    996\u001b[0m \u001b[39melse\u001b[39;00m:\n\u001b[1;32m    997\u001b[0m   ans, vjp_py, aux \u001b[39m=\u001b[39m _vjp(\n\u001b[1;32m    998\u001b[0m       f_partial, \u001b[39m*\u001b[39mdyn_args, has_aux\u001b[39m=\u001b[39m\u001b[39mTrue\u001b[39;00m, reduce_axes\u001b[39m=\u001b[39mreduce_axes)\n",
      "File \u001b[0;32m~/.conda/envs/jax/lib/python3.9/site-packages/jax/_src/api.py:2457\u001b[0m, in \u001b[0;36m_vjp\u001b[0;34m(fun, has_aux, reduce_axes, *primals)\u001b[0m\n\u001b[1;32m   2455\u001b[0m \u001b[39mif\u001b[39;00m \u001b[39mnot\u001b[39;00m has_aux:\n\u001b[1;32m   2456\u001b[0m   flat_fun, out_tree \u001b[39m=\u001b[39m flatten_fun_nokwargs(fun, in_tree)\n\u001b[0;32m-> 2457\u001b[0m   out_primal, out_vjp \u001b[39m=\u001b[39m ad\u001b[39m.\u001b[39;49mvjp(\n\u001b[1;32m   2458\u001b[0m       flat_fun, primals_flat, reduce_axes\u001b[39m=\u001b[39;49mreduce_axes)\n\u001b[1;32m   2459\u001b[0m   out_tree \u001b[39m=\u001b[39m out_tree()\n\u001b[1;32m   2460\u001b[0m \u001b[39melse\u001b[39;00m:\n",
      "File \u001b[0;32m~/.conda/envs/jax/lib/python3.9/site-packages/jax/interpreters/ad.py:130\u001b[0m, in \u001b[0;36mvjp\u001b[0;34m(traceable, primals, has_aux, reduce_axes)\u001b[0m\n\u001b[1;32m    128\u001b[0m \u001b[39mdef\u001b[39;00m \u001b[39mvjp\u001b[39m(traceable, primals, has_aux\u001b[39m=\u001b[39m\u001b[39mFalse\u001b[39;00m, reduce_axes\u001b[39m=\u001b[39m()):\n\u001b[1;32m    129\u001b[0m   \u001b[39mif\u001b[39;00m \u001b[39mnot\u001b[39;00m has_aux:\n\u001b[0;32m--> 130\u001b[0m     out_primals, pvals, jaxpr, consts \u001b[39m=\u001b[39m linearize(traceable, \u001b[39m*\u001b[39;49mprimals)\n\u001b[1;32m    131\u001b[0m   \u001b[39melse\u001b[39;00m:\n\u001b[1;32m    132\u001b[0m     out_primals, pvals, jaxpr, consts, aux \u001b[39m=\u001b[39m linearize(traceable, \u001b[39m*\u001b[39mprimals, has_aux\u001b[39m=\u001b[39m\u001b[39mTrue\u001b[39;00m)\n",
      "File \u001b[0;32m~/.conda/envs/jax/lib/python3.9/site-packages/jax/interpreters/ad.py:119\u001b[0m, in \u001b[0;36mlinearize\u001b[0;34m(traceable, *primals, **kwargs)\u001b[0m\n\u001b[1;32m    117\u001b[0m _, in_tree \u001b[39m=\u001b[39m tree_flatten(((primals, primals), {}))\n\u001b[1;32m    118\u001b[0m jvpfun_flat, out_tree \u001b[39m=\u001b[39m flatten_fun(jvpfun, in_tree)\n\u001b[0;32m--> 119\u001b[0m jaxpr, out_pvals, consts \u001b[39m=\u001b[39m pe\u001b[39m.\u001b[39;49mtrace_to_jaxpr_nounits(jvpfun_flat, in_pvals)\n\u001b[1;32m    120\u001b[0m out_primals_pvals, out_tangents_pvals \u001b[39m=\u001b[39m tree_unflatten(out_tree(), out_pvals)\n\u001b[1;32m    121\u001b[0m \u001b[39massert\u001b[39;00m \u001b[39mall\u001b[39m(out_primal_pval\u001b[39m.\u001b[39mis_known() \u001b[39mfor\u001b[39;00m out_primal_pval \u001b[39min\u001b[39;00m out_primals_pvals)\n",
      "File \u001b[0;32m~/.conda/envs/jax/lib/python3.9/site-packages/jax/_src/profiler.py:206\u001b[0m, in \u001b[0;36mannotate_function.<locals>.wrapper\u001b[0;34m(*args, **kwargs)\u001b[0m\n\u001b[1;32m    203\u001b[0m \u001b[39m@wraps\u001b[39m(func)\n\u001b[1;32m    204\u001b[0m \u001b[39mdef\u001b[39;00m \u001b[39mwrapper\u001b[39m(\u001b[39m*\u001b[39margs, \u001b[39m*\u001b[39m\u001b[39m*\u001b[39mkwargs):\n\u001b[1;32m    205\u001b[0m   \u001b[39mwith\u001b[39;00m TraceAnnotation(name, \u001b[39m*\u001b[39m\u001b[39m*\u001b[39mdecorator_kwargs):\n\u001b[0;32m--> 206\u001b[0m     \u001b[39mreturn\u001b[39;00m func(\u001b[39m*\u001b[39;49margs, \u001b[39m*\u001b[39;49m\u001b[39m*\u001b[39;49mkwargs)\n\u001b[1;32m    207\u001b[0m   \u001b[39mreturn\u001b[39;00m wrapper\n",
      "File \u001b[0;32m~/.conda/envs/jax/lib/python3.9/site-packages/jax/interpreters/partial_eval.py:616\u001b[0m, in \u001b[0;36mtrace_to_jaxpr_nounits\u001b[0;34m(fun, pvals, instantiate)\u001b[0m\n\u001b[1;32m    614\u001b[0m \u001b[39mwith\u001b[39;00m core\u001b[39m.\u001b[39mnew_main(JaxprTrace, name_stack\u001b[39m=\u001b[39mcurrent_name_stack) \u001b[39mas\u001b[39;00m main:\n\u001b[1;32m    615\u001b[0m   fun \u001b[39m=\u001b[39m trace_to_subjaxpr_nounits(fun, main, instantiate)\n\u001b[0;32m--> 616\u001b[0m   jaxpr, (out_pvals, consts, env) \u001b[39m=\u001b[39m fun\u001b[39m.\u001b[39;49mcall_wrapped(pvals)\n\u001b[1;32m    617\u001b[0m   \u001b[39massert\u001b[39;00m \u001b[39mnot\u001b[39;00m env\n\u001b[1;32m    618\u001b[0m   \u001b[39mdel\u001b[39;00m main, fun, env\n",
      "File \u001b[0;32m~/.conda/envs/jax/lib/python3.9/site-packages/jax/linear_util.py:168\u001b[0m, in \u001b[0;36mWrappedFun.call_wrapped\u001b[0;34m(self, *args, **kwargs)\u001b[0m\n\u001b[1;32m    165\u001b[0m gen \u001b[39m=\u001b[39m gen_static_args \u001b[39m=\u001b[39m out_store \u001b[39m=\u001b[39m \u001b[39mNone\u001b[39;00m\n\u001b[1;32m    167\u001b[0m \u001b[39mtry\u001b[39;00m:\n\u001b[0;32m--> 168\u001b[0m   ans \u001b[39m=\u001b[39m \u001b[39mself\u001b[39;49m\u001b[39m.\u001b[39;49mf(\u001b[39m*\u001b[39;49margs, \u001b[39m*\u001b[39;49m\u001b[39m*\u001b[39;49m\u001b[39mdict\u001b[39;49m(\u001b[39mself\u001b[39;49m\u001b[39m.\u001b[39;49mparams, \u001b[39m*\u001b[39;49m\u001b[39m*\u001b[39;49mkwargs))\n\u001b[1;32m    169\u001b[0m \u001b[39mexcept\u001b[39;00m:\n\u001b[1;32m    170\u001b[0m   \u001b[39m# Some transformations yield from inside context managers, so we have to\u001b[39;00m\n\u001b[1;32m    171\u001b[0m   \u001b[39m# interrupt them before reraising the exception. Otherwise they will only\u001b[39;00m\n\u001b[1;32m    172\u001b[0m   \u001b[39m# get garbage-collected at some later time, running their cleanup tasks\u001b[39;00m\n\u001b[1;32m    173\u001b[0m   \u001b[39m# only after this exception is handled, which can corrupt the global\u001b[39;00m\n\u001b[1;32m    174\u001b[0m   \u001b[39m# state.\u001b[39;00m\n\u001b[1;32m    175\u001b[0m   \u001b[39mwhile\u001b[39;00m stack:\n",
      "    \u001b[0;31m[... skipping hidden 1 frame]\u001b[0m\n",
      "File \u001b[0;32m~/.conda/envs/jax/lib/python3.9/site-packages/jax/_src/api.py:473\u001b[0m, in \u001b[0;36m_cpp_jit.<locals>.cache_miss\u001b[0;34m(*args, **kwargs)\u001b[0m\n\u001b[1;32m    471\u001b[0m   in_type \u001b[39m=\u001b[39m pe\u001b[39m.\u001b[39minfer_lambda_input_type(\u001b[39mNone\u001b[39;00m, args_flat)\n\u001b[1;32m    472\u001b[0m   flat_fun \u001b[39m=\u001b[39m lu\u001b[39m.\u001b[39mannotate(flat_fun, in_type)\n\u001b[0;32m--> 473\u001b[0m out_flat \u001b[39m=\u001b[39m xla\u001b[39m.\u001b[39;49mxla_call(\n\u001b[1;32m    474\u001b[0m     flat_fun, \u001b[39m*\u001b[39;49margs_flat,\n\u001b[1;32m    475\u001b[0m     device\u001b[39m=\u001b[39;49mdevice, backend\u001b[39m=\u001b[39;49mbackend, name\u001b[39m=\u001b[39;49mflat_fun\u001b[39m.\u001b[39;49m\u001b[39m__name__\u001b[39;49m,\n\u001b[1;32m    476\u001b[0m     donated_invars\u001b[39m=\u001b[39;49mdonated_invars, inline\u001b[39m=\u001b[39;49minline, keep_unused\u001b[39m=\u001b[39;49mkeep_unused)\n\u001b[1;32m    477\u001b[0m out_pytree_def \u001b[39m=\u001b[39m out_tree()\n\u001b[1;32m    478\u001b[0m out \u001b[39m=\u001b[39m tree_unflatten(out_pytree_def, out_flat)\n",
      "File \u001b[0;32m~/.conda/envs/jax/lib/python3.9/site-packages/jax/core.py:1765\u001b[0m, in \u001b[0;36mCallPrimitive.bind\u001b[0;34m(self, fun, *args, **params)\u001b[0m\n\u001b[1;32m   1764\u001b[0m \u001b[39mdef\u001b[39;00m \u001b[39mbind\u001b[39m(\u001b[39mself\u001b[39m, fun, \u001b[39m*\u001b[39margs, \u001b[39m*\u001b[39m\u001b[39m*\u001b[39mparams):\n\u001b[0;32m-> 1765\u001b[0m   \u001b[39mreturn\u001b[39;00m call_bind(\u001b[39mself\u001b[39;49m, fun, \u001b[39m*\u001b[39;49margs, \u001b[39m*\u001b[39;49m\u001b[39m*\u001b[39;49mparams)\n",
      "File \u001b[0;32m~/.conda/envs/jax/lib/python3.9/site-packages/jax/core.py:1781\u001b[0m, in \u001b[0;36mcall_bind\u001b[0;34m(primitive, fun, *args, **params)\u001b[0m\n\u001b[1;32m   1779\u001b[0m tracers \u001b[39m=\u001b[39m \u001b[39mmap\u001b[39m(top_trace\u001b[39m.\u001b[39mfull_raise, args)\n\u001b[1;32m   1780\u001b[0m fun_ \u001b[39m=\u001b[39m lu\u001b[39m.\u001b[39mannotate(fun_, fun\u001b[39m.\u001b[39min_type)\n\u001b[0;32m-> 1781\u001b[0m outs \u001b[39m=\u001b[39m top_trace\u001b[39m.\u001b[39;49mprocess_call(primitive, fun_, tracers, params)\n\u001b[1;32m   1782\u001b[0m \u001b[39mreturn\u001b[39;00m \u001b[39mmap\u001b[39m(full_lower, apply_todos(env_trace_todo(), outs))\n",
      "File \u001b[0;32m~/.conda/envs/jax/lib/python3.9/site-packages/jax/interpreters/ad.py:335\u001b[0m, in \u001b[0;36mJVPTrace.process_call\u001b[0;34m(self, call_primitive, f, tracers, params)\u001b[0m\n\u001b[1;32m    333\u001b[0m new_params \u001b[39m=\u001b[39m update_params(params, nz_tangents) \u001b[39mif\u001b[39;00m update_params \u001b[39melse\u001b[39;00m params\n\u001b[1;32m    334\u001b[0m f_jvp \u001b[39m=\u001b[39m _update_annotation(f_jvp, f\u001b[39m.\u001b[39min_type, nz_tangents)\n\u001b[0;32m--> 335\u001b[0m result \u001b[39m=\u001b[39m call_primitive\u001b[39m.\u001b[39;49mbind(f_jvp, \u001b[39m*\u001b[39;49mprimals, \u001b[39m*\u001b[39;49mnonzero_tangents, \u001b[39m*\u001b[39;49m\u001b[39m*\u001b[39;49mnew_params)\n\u001b[1;32m    336\u001b[0m primal_out, tangent_out \u001b[39m=\u001b[39m tree_unflatten(out_tree_def(), result)\n\u001b[1;32m    337\u001b[0m \u001b[39mreturn\u001b[39;00m [JVPTracer(\u001b[39mself\u001b[39m, p, t) \u001b[39mfor\u001b[39;00m p, t \u001b[39min\u001b[39;00m \u001b[39mzip\u001b[39m(primal_out, tangent_out)]\n",
      "File \u001b[0;32m~/.conda/envs/jax/lib/python3.9/site-packages/jax/core.py:1765\u001b[0m, in \u001b[0;36mCallPrimitive.bind\u001b[0;34m(self, fun, *args, **params)\u001b[0m\n\u001b[1;32m   1764\u001b[0m \u001b[39mdef\u001b[39;00m \u001b[39mbind\u001b[39m(\u001b[39mself\u001b[39m, fun, \u001b[39m*\u001b[39margs, \u001b[39m*\u001b[39m\u001b[39m*\u001b[39mparams):\n\u001b[0;32m-> 1765\u001b[0m   \u001b[39mreturn\u001b[39;00m call_bind(\u001b[39mself\u001b[39;49m, fun, \u001b[39m*\u001b[39;49margs, \u001b[39m*\u001b[39;49m\u001b[39m*\u001b[39;49mparams)\n",
      "File \u001b[0;32m~/.conda/envs/jax/lib/python3.9/site-packages/jax/core.py:1781\u001b[0m, in \u001b[0;36mcall_bind\u001b[0;34m(primitive, fun, *args, **params)\u001b[0m\n\u001b[1;32m   1779\u001b[0m tracers \u001b[39m=\u001b[39m \u001b[39mmap\u001b[39m(top_trace\u001b[39m.\u001b[39mfull_raise, args)\n\u001b[1;32m   1780\u001b[0m fun_ \u001b[39m=\u001b[39m lu\u001b[39m.\u001b[39mannotate(fun_, fun\u001b[39m.\u001b[39min_type)\n\u001b[0;32m-> 1781\u001b[0m outs \u001b[39m=\u001b[39m top_trace\u001b[39m.\u001b[39;49mprocess_call(primitive, fun_, tracers, params)\n\u001b[1;32m   1782\u001b[0m \u001b[39mreturn\u001b[39;00m \u001b[39mmap\u001b[39m(full_lower, apply_todos(env_trace_todo(), outs))\n",
      "File \u001b[0;32m~/.conda/envs/jax/lib/python3.9/site-packages/jax/interpreters/partial_eval.py:213\u001b[0m, in \u001b[0;36mJaxprTrace.process_call\u001b[0;34m(self, primitive, f, tracers, params)\u001b[0m\n\u001b[1;32m    210\u001b[0m const_params \u001b[39m=\u001b[39m update_params(params, in_knowns, \u001b[39m0\u001b[39m)\n\u001b[1;32m    212\u001b[0m \u001b[39m# Run the call, getting known out vals and aux data used for staged-out call\u001b[39;00m\n\u001b[0;32m--> 213\u001b[0m out \u001b[39m=\u001b[39m primitive\u001b[39m.\u001b[39;49mbind(_update_annotation(f_, f\u001b[39m.\u001b[39;49min_type, in_knowns),\n\u001b[1;32m    214\u001b[0m                      \u001b[39m*\u001b[39;49min_consts, \u001b[39m*\u001b[39;49m\u001b[39m*\u001b[39;49mconst_params)\n\u001b[1;32m    215\u001b[0m out_knowns, out_avals, jaxpr, env \u001b[39m=\u001b[39m aux()\n\u001b[1;32m    216\u001b[0m \u001b[39m# Split apart known outputs from the original call and residuals.\u001b[39;00m\n",
      "File \u001b[0;32m~/.conda/envs/jax/lib/python3.9/site-packages/jax/core.py:1765\u001b[0m, in \u001b[0;36mCallPrimitive.bind\u001b[0;34m(self, fun, *args, **params)\u001b[0m\n\u001b[1;32m   1764\u001b[0m \u001b[39mdef\u001b[39;00m \u001b[39mbind\u001b[39m(\u001b[39mself\u001b[39m, fun, \u001b[39m*\u001b[39margs, \u001b[39m*\u001b[39m\u001b[39m*\u001b[39mparams):\n\u001b[0;32m-> 1765\u001b[0m   \u001b[39mreturn\u001b[39;00m call_bind(\u001b[39mself\u001b[39;49m, fun, \u001b[39m*\u001b[39;49margs, \u001b[39m*\u001b[39;49m\u001b[39m*\u001b[39;49mparams)\n",
      "File \u001b[0;32m~/.conda/envs/jax/lib/python3.9/site-packages/jax/core.py:1781\u001b[0m, in \u001b[0;36mcall_bind\u001b[0;34m(primitive, fun, *args, **params)\u001b[0m\n\u001b[1;32m   1779\u001b[0m tracers \u001b[39m=\u001b[39m \u001b[39mmap\u001b[39m(top_trace\u001b[39m.\u001b[39mfull_raise, args)\n\u001b[1;32m   1780\u001b[0m fun_ \u001b[39m=\u001b[39m lu\u001b[39m.\u001b[39mannotate(fun_, fun\u001b[39m.\u001b[39min_type)\n\u001b[0;32m-> 1781\u001b[0m outs \u001b[39m=\u001b[39m top_trace\u001b[39m.\u001b[39;49mprocess_call(primitive, fun_, tracers, params)\n\u001b[1;32m   1782\u001b[0m \u001b[39mreturn\u001b[39;00m \u001b[39mmap\u001b[39m(full_lower, apply_todos(env_trace_todo(), outs))\n",
      "File \u001b[0;32m~/.conda/envs/jax/lib/python3.9/site-packages/jax/core.py:678\u001b[0m, in \u001b[0;36mEvalTrace.process_call\u001b[0;34m(self, primitive, f, tracers, params)\u001b[0m\n\u001b[1;32m    677\u001b[0m \u001b[39mdef\u001b[39;00m \u001b[39mprocess_call\u001b[39m(\u001b[39mself\u001b[39m, primitive, f, tracers, params):\n\u001b[0;32m--> 678\u001b[0m   \u001b[39mreturn\u001b[39;00m primitive\u001b[39m.\u001b[39;49mimpl(f, \u001b[39m*\u001b[39;49mtracers, \u001b[39m*\u001b[39;49m\u001b[39m*\u001b[39;49mparams)\n",
      "File \u001b[0;32m~/.conda/envs/jax/lib/python3.9/site-packages/jax/_src/dispatch.py:185\u001b[0m, in \u001b[0;36m_xla_call_impl\u001b[0;34m(***failed resolving arguments***)\u001b[0m\n\u001b[1;32m    182\u001b[0m compiled_fun \u001b[39m=\u001b[39m _xla_callable(fun, device, backend, name, donated_invars,\n\u001b[1;32m    183\u001b[0m                              keep_unused, \u001b[39m*\u001b[39marg_specs)\n\u001b[1;32m    184\u001b[0m \u001b[39mtry\u001b[39;00m:\n\u001b[0;32m--> 185\u001b[0m   \u001b[39mreturn\u001b[39;00m compiled_fun(\u001b[39m*\u001b[39;49margs)\n\u001b[1;32m    186\u001b[0m \u001b[39mexcept\u001b[39;00m \u001b[39mFloatingPointError\u001b[39;00m:\n\u001b[1;32m    187\u001b[0m   \u001b[39massert\u001b[39;00m config\u001b[39m.\u001b[39mjax_debug_nans \u001b[39mor\u001b[39;00m config\u001b[39m.\u001b[39mjax_debug_infs  \u001b[39m# compiled_fun can only raise in this case\u001b[39;00m\n",
      "File \u001b[0;32m~/.conda/envs/jax/lib/python3.9/site-packages/jax/_src/dispatch.py:615\u001b[0m, in \u001b[0;36m_execute_compiled\u001b[0;34m(name, compiled, input_handler, output_buffer_counts, result_handlers, effects, kept_var_idx, *args)\u001b[0m\n\u001b[1;32m    613\u001b[0m \u001b[39mif\u001b[39;00m effects:\n\u001b[1;32m    614\u001b[0m   input_bufs_flat, token_handler \u001b[39m=\u001b[39m _add_tokens(effects, device, input_bufs_flat)\n\u001b[0;32m--> 615\u001b[0m out_bufs_flat \u001b[39m=\u001b[39m compiled\u001b[39m.\u001b[39;49mexecute(input_bufs_flat)\n\u001b[1;32m    616\u001b[0m check_special(name, out_bufs_flat)\n\u001b[1;32m    617\u001b[0m \u001b[39mif\u001b[39;00m output_buffer_counts \u001b[39mis\u001b[39;00m \u001b[39mNone\u001b[39;00m:\n",
      "\u001b[0;31mKeyboardInterrupt\u001b[0m: "
     ]
    }
   ],
   "source": [
    "# Simultaniously fit the policy nn and the particle filter nn, given some observed data\n",
    "def pf_training_loop(pf_params, pl_params, data, tol=1e-6, max_iter=10**6, batch_size=128, particles=128):\n",
    "    key = jax.random.PRNGKey(1)\n",
    "    pf_opt_init, pf_opt_update, pf_get_params = adam(step_size=1.)\n",
    "    pl_opt_init, pl_opt_update, pl_get_params = adam(step_size=0.01)\n",
    "    \n",
    "    pf_opt_state = pf_opt_init(pf_params)\n",
    "    pl_opt_state = pl_opt_init(pl_params)\n",
    "    \n",
    "    agg_states, struct_params, key = generate_random_state(pl_params, key, n_forward=0, batch_size=batch_size, struct_params=None)\n",
    "\n",
    "    pf_loss = jnp.inf\n",
    "    pl_loss = jnp.inf\n",
    "    loss = jnp.inf\n",
    "\n",
    "    i = 0\n",
    "\n",
    "    while loss > tol and i < max_iter:\n",
    "        keys = jax.random.split(key, 2 * batch_size + 1)\n",
    "\n",
    "        # Update the policy nn parameters\n",
    "        pl_params = pl_get_params(pl_opt_state)\n",
    "        val, pl_grad = jax.value_and_grad(batch_loss, has_aux=True)(pl_params, struct_params, agg_states, keys[:batch_size])\n",
    "        pl_loss = val[0]\n",
    "        c_star_rel = val[1][-1]\n",
    "        if not (c_star_rel < 1).all():\n",
    "            print(jnp.concatenate((c_star_rel, struct_params[sample[0], :3]), axis=1))\n",
    "            print('Invalid consumption choices observed') \n",
    "            break\n",
    "        if jnp.isnan(pl_loss):\n",
    "            print('Loss is nan')\n",
    "            break\n",
    "        pl_opt_state = pl_opt_update(i, pl_grad, pl_opt_state)\n",
    "\n",
    "        # Update the particle filter nn parameters\n",
    "        if i > 100:\n",
    "            pl_params = pl_get_params(pl_opt_state)\n",
    "            pf_params = pf_get_params(pf_opt_state)\n",
    "            pf_loss, pf_grad = jax.value_and_grad(pf_batch_loss)(pf_params, pl_params, struct_params, data, keys[batch_size:2*batch_size], particles=particles)\n",
    "            \n",
    "            if jnp.isnan(pf_loss) or any([jnp.isnan(x).any() for x in pf_grad.values()]):\n",
    "                print('Particle Filter Loss was nan')\n",
    "                break\n",
    "            pf_opt_state = pf_opt_update(i, pf_grad, pf_opt_state)\n",
    "        \n",
    "        key = keys[-1]\n",
    "        i += 1\n",
    "        loss = pf_loss + pl_loss\n",
    "        # Simulate states forward, and generate new batch of struct_params\n",
    "        if i % 10 == 0:\n",
    "            agg_states, struct_params, key = generate_random_state(pl_params, key, n_forward=N_FORWARD, batch_size=batch_size, struct_params=None)\n",
    "\n",
    "        if i % 100 == 0 or i > 100:\n",
    "            print(f'Iteration: {i}\\tPolicy Loss: {pl_loss:.2e}\\tParticle Filter Loss: {pf_loss:.2e}')\n",
    "    \n",
    "    return get_params(pf_opt_state), get_params(pl_opt_state)\n",
    "    \n",
    "\n",
    "pf_params, pl_params = pf_training_loop(pf_params0, range_params, cs)"
   ]
  },
  {
   "cell_type": "code",
   "execution_count": 45,
   "id": "e15667f5",
   "metadata": {},
   "outputs": [
    {
     "name": "stdout",
     "output_type": "stream",
     "text": [
      "Iteration: 100\tParticle Filter Loss: 1.00e+04\n",
      "Iteration: 200\tParticle Filter Loss: 1.00e+04\n",
      "Iteration: 300\tParticle Filter Loss: 1.00e+04\n",
      "Iteration: 400\tParticle Filter Loss: 1.00e+04\n",
      "Iteration: 500\tParticle Filter Loss: 1.00e+04\n",
      "Iteration: 600\tParticle Filter Loss: 1.00e+04\n",
      "Iteration: 700\tParticle Filter Loss: 1.00e+04\n",
      "Iteration: 800\tParticle Filter Loss: 1.00e+04\n",
      "Iteration: 900\tParticle Filter Loss: 1.00e+04\n",
      "Iteration: 1000\tParticle Filter Loss: 1.00e+04\n"
     ]
    }
   ],
   "source": [
    "# Fit the particle filter neural network to a predefined set of ll observations\n",
    "@jax.jit\n",
    "def temp_batch_loss(params, struct_params, lls):\n",
    "    preds = jax.vmap(particle_neural_network, in_axes=(None, 0))(params, struct_params)\n",
    "    return jnp.mean((preds - lls)**2)\n",
    "\n",
    "\n",
    "def pf_training_loop(pf_params, struct_params, lls, tol=1e-6, max_iter=1000, batch_size=128, particles=128):\n",
    "    key = jax.random.PRNGKey(1)\n",
    "    pf_opt_init, pf_opt_update, pf_get_params = adam(step_size=0.01)\n",
    "    pf_opt_state = pf_opt_init(pf_params)\n",
    "\n",
    "    pf_loss = jnp.inf\n",
    "    i = 0\n",
    "\n",
    "    while pf_loss > tol and i < max_iter:\n",
    "        keys = jax.random.split(key, batch_size)\n",
    "\n",
    "        sample = jax.random.choice(key, struct_params.shape[0], shape=(batch_size,))\n",
    "        # pf_params = pf_get_params(pf_opt_state)\n",
    "        pf_loss, pf_grad = jax.value_and_grad(temp_batch_loss)(pf_params, struct_params, lls)\n",
    "        \n",
    "        if jnp.isnan(pf_loss) or any([jnp.isnan(x).any() for x in pf_grad.values()]):\n",
    "            print('Particle Filter Loss was nan')\n",
    "            break\n",
    "        \n",
    "        pf_params = {k: pf_params[k] - (1/(i+1)) * pf_grad[k] for k in pf_params.keys()}\n",
    "        # pf_opt_state = pf_opt_update(i, pf_grad, pf_opt_state)\n",
    "        \n",
    "        _, key = jax.random.split(key, 2)\n",
    "        i += 1\n",
    "\n",
    "        if i % 100 == 0:\n",
    "            print(f'Iteration: {i}\\tParticle Filter Loss: {pf_loss:.2e}')\n",
    "    \n",
    "    return pf_params # pf_get_params(pf_opt_state)\n",
    "    \n",
    "\n",
    "pf_params = pf_training_loop(pf_params0, struct_params, lls)"
   ]
  },
  {
   "cell_type": "markdown",
   "id": "f1c92a92",
   "metadata": {},
   "source": [
    "## Plotting Stuff"
   ]
  },
  {
   "cell_type": "code",
   "execution_count": null,
   "id": "886d09b3",
   "metadata": {},
   "outputs": [],
   "source": [
    "_, _, get_params = adam(step_size=0.001)\n",
    "saved_state = pickle.load(open(f'./ks_cont_models/ks_cont_model_{K}_990.pkl', 'rb'))\n",
    "opt_state = pack_optimizer_state(saved_state)\n",
    "params = get_params(opt_state)\n",
    "\n",
    "key = jax.random.PRNGKey(np.random.randint(1, int(1e8)))\n",
    "keys = jax.random.split(key, N // 2)\n",
    "Xs, Zs, Es, struct_params, key = generate_random_state(params, key)"
   ]
  },
  {
   "cell_type": "code",
   "execution_count": null,
   "id": "d41c702a",
   "metadata": {},
   "outputs": [],
   "source": [
    "key = jax.random.PRNGKey(np.random.randint(1, int(1e8)))\n",
    "idx = jax.random.choice(key, jnp.arange(N), shape=(5,))\n",
    "\n",
    "X = Xs\n",
    "Z = Zs\n",
    "E = Es\n",
    "e = E[:, 0]\n",
    "\n",
    "# x_range = jnp.linspace(jnp.min(ws), jnp.max(ws), 100)\n",
    "x_range = jnp.linspace(0, 10, 100)\n",
    "c_range = jax.vmap(lambda X, E, Z, e: jax.vmap(lambda x: neural_network(params, STRUCT_PARAM_ARR, X, E, Z, e, x)[0])(x_range))(X, Z, E, e)\n",
    "data = pd.DataFrame(jnp.concatenate((x_range.reshape(-1, 1), c_range.T), axis=1), dtype=np.float32)\n",
    "\n",
    "fig, ax = plt.subplots(1, 1, figsize=(16, 8))\n",
    "_ = data.plot(x=0, y=jnp.arange(Xs.shape[0]) + 1, ax=ax, legend=False)\n",
    "_ = fig.suptitle(f'Optimal consumption (as a function of idiosyncratic state) across some aggregate states drawn from the ergodic distribution', fontsize=16)"
   ]
  },
  {
   "cell_type": "code",
   "execution_count": null,
   "id": "803e664b",
   "metadata": {},
   "outputs": [],
   "source": [
    "key = jax.random.PRNGKey(np.random.randint(1, int(1e8)))\n",
    "idx = jax.random.choice(key, jnp.arange(N), shape=(5,))\n",
    "\n",
    "X = Xs[0]\n",
    "Z = Zs[0]\n",
    "E = Es[0]\n",
    "e = E[0]\n",
    "\n",
    "# x_range = jnp.linspace(jnp.min(ws), jnp.max(ws), 100)\n",
    "x_range = jnp.linspace(0, 10, 100)\n",
    "c_range = jax.vmap(lambda config: jax.vmap(lambda x: neural_network(params, config, X, E, Z, e, x)[0])(x_range))(struct_params)\n",
    "\n",
    "data = pd.DataFrame(jnp.concatenate((x_range.reshape(-1, 1), c_range.T), axis=1), dtype=np.float32)\n",
    "\n",
    "fig, ax = plt.subplots(1, 1, figsize=(16, 8))\n",
    "_ = data.plot(x=0, y=jnp.arange(struct_params.shape[0]) + 1, ax=ax, legend=False)\n",
    "_ = fig.suptitle(f'Optimal consumption (as a function of idiosyncratic state) across some structural parameters drawn', fontsize=16)"
   ]
  },
  {
   "cell_type": "code",
   "execution_count": null,
   "id": "c8a63b43",
   "metadata": {},
   "outputs": [],
   "source": [
    "# @jax.tree_util.Partial(jax.jit, static_argnums=(0,))\n",
    "def generate_struct_param_range(size=1000):\n",
    "    abd = jnp.array(jnp.meshgrid(jnp.linspace(0, 1, size), jnp.linspace(0, 1, size), jnp.linspace(0, 1, size))).T.reshape(-1, 3)\n",
    "    a = STRUCT_PARAM['a'] * jnp.ones((jnp.power(size, 3.).astype(jnp.int32), 1))\n",
    "    b = STRUCT_PARAM['b'] * jnp.ones((jnp.power(size, 3.).astype(jnp.int32), 1))\n",
    "    rho_z = STRUCT_PARAM['rho_z'] * jnp.ones((jnp.power(size, 3.).astype(jnp.int32), 1))\n",
    "    rho_e = STRUCT_PARAM['rho_e'] * jnp.ones((jnp.power(size, 3.).astype(jnp.int32), 1))\n",
    "    sigma_z = STRUCT_PARAM['sigma_z'] * jnp.ones((jnp.power(size, 3.).astype(jnp.int32), 1))\n",
    "    sigma_e = STRUCT_PARAM['sigma_e'] * jnp.ones((jnp.power(size, 3.).astype(jnp.int32), 1))\n",
    "    \n",
    "    struct_params = jnp.concatenate((abd, a, b, rho_z, rho_e, sigma_z, sigma_e), axis=1)\n",
    "        \n",
    "    return struct_params\n",
    "\n",
    "\n",
    "# @jax.jit\n",
    "def next_c(model_params, struct_params, agg_state):\n",
    "    R, W = prices(struct_params, agg_state)\n",
    "    w = jnp.squeeze(jax.vmap(lambda x, e: (R * x) + (W * jnp.exp(e)))(agg_state[AGG_IDXS['Xs']], agg_state[AGG_IDXS['Es']]))\n",
    "    ido_state = jnp.concatenate((agg_state[AGG_IDXS['Es']], jnp.squeeze(w))).reshape(5, 2, -1)\n",
    "    out = jax.vmap(neural_network, in_axes=(None, None, None, 0))(model_params, struct_params, agg_state, ido_state)\n",
    "    c = jnp.squeeze(w * out[..., 0])\n",
    "    return c\n",
    "\n",
    "    \n",
    "# @jax.jit\n",
    "def simulate_state_forward(model_params, struct_params, agg_states, key):\n",
    "    keys = jax.random.split(key, N_FORWARD * agg_states.shape[0]).reshape(N_FORWARD, agg_states.shape[0], 2)\n",
    "    \n",
    "    # @jax.jit\n",
    "    def inner_loop(agg_states, i):\n",
    "        return jax.vmap(next_state, in_axes=(None, None, 0, 0))(model_params, struct_params, agg_states, keys[i]), None\n",
    "    \n",
    "    agg_states, _ = jax.lax.scan(inner_loop, agg_states, jnp.arange(N_FORWARD))\n",
    "    \n",
    "    return agg_states, keys[-1, -1]\n",
    "\n",
    "\n",
    "# @jax.tree_util.Partial(jax.jit, static_argnums=(2,))\n",
    "def generate_sim_states(model_params, key, size=1000):\n",
    "    n_rows = jnp.power(size, 3)\n",
    "    keys = jax.random.split(key, n_rows)\n",
    "    struct_params = generate_struct_param_range(size=size)\n",
    "    \n",
    "    Zs = jnp.ones(shape=(MB,))\n",
    "    Es = jnp.ones(shape=(MB, K))\n",
    "    Xs = jnp.exp(STRUCT_PARAM['a'] * jax.random.normal(\n",
    "         jax.random.PRNGKey(np.random.randint(1, int(1e8))), \n",
    "         shape=(MB, K))) + STRUCT_PARAM['b']\n",
    "    \n",
    "    agg_states = jnp.concatenate((Xs, Es, Zs.reshape(-1, 1)), axis=1)\n",
    "    \n",
    "    if N_FORWARD > 0:\n",
    "        agg_states, keys = jax.vmap(lambda struct_param, key: simulate_state_forward(model_params, struct_param, agg_states, key))(struct_params, keys)\n",
    "    \n",
    "    cs = jax.vmap(jax.vmap(next_c, in_axes=(None, 0, 0)), in_axes=(None, None, 1))(model_params, struct_params, agg_states)\n",
    "    \n",
    "    return cs\n",
    "\n",
    "\n",
    "cs = generate_sim_states(params0, jax.random.PRNGKey(1), size=10)"
   ]
  },
  {
   "cell_type": "code",
   "execution_count": null,
   "id": "3e0d3a53",
   "metadata": {},
   "outputs": [],
   "source": [
    "diffs = jnp.array([[3., 3., 2.], [0., 1., 0.], [4., 2., 1.]])\n",
    "jax.scipy.stats.multivariate_normal.logpdf(diffs, mean=jnp.ones(3), cov=jnp.diag(jnp.ones(3) / MB))"
   ]
  },
  {
   "cell_type": "code",
   "execution_count": null,
   "id": "a583b810",
   "metadata": {},
   "outputs": [],
   "source": [
    "diffs"
   ]
  }
 ],
 "metadata": {
  "kernelspec": {
   "display_name": "Python 3.9.12 ('jax')",
   "language": "python",
   "name": "python3"
  },
  "language_info": {
   "codemirror_mode": {
    "name": "ipython",
    "version": 3
   },
   "file_extension": ".py",
   "mimetype": "text/x-python",
   "name": "python",
   "nbconvert_exporter": "python",
   "pygments_lexer": "ipython3",
   "version": "3.9.12"
  },
  "vscode": {
   "interpreter": {
    "hash": "e8d6a125da418167969c6dc54453845370be835253818021d0824830614882a3"
   }
  }
 },
 "nbformat": 4,
 "nbformat_minor": 5
}
