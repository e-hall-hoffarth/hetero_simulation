{
 "cells": [
  {
   "cell_type": "code",
   "execution_count": null,
   "id": "6f7bda48",
   "metadata": {},
   "outputs": [],
   "source": [
    "import jax \n",
    "import jax.numpy as jnp\n",
    "from jax.scipy import optimize\n",
    "from jax.experimental.optimizers import adam\n",
    "from agent import disc_ces_utility"
   ]
  },
  {
   "cell_type": "code",
   "execution_count": null,
   "id": "9201b794",
   "metadata": {
    "scrolled": true
   },
   "outputs": [],
   "source": [
    "c_shape = 3\n",
    "X_shape = 2\n",
    "beta = 0.95\n",
    "X = jnp.exp(jax.random.normal(jax.random.PRNGKey(1), shape=(X_shape,)))\n",
    "theta0 = jax.random.normal(jax.random.PRNGKey(2), shape=(X_shape,))\n",
    "u = disc_ces_utility(beta, 2)\n",
    "\n",
    "\n",
    "def V_hat(theta):\n",
    "    return lambda X: jnp.dot(theta, X)\n",
    "\n",
    "\n",
    "def future(u, v_hat, X):\n",
    "    f = lambda c: jnp.multiply(-1, u(c, 0) + v_hat(X - jnp.sum(c)))\n",
    "    c0 = jnp.ones(c_shape)\n",
    "    return optimize.minimize(f, c0, method='BFGS', options={'line_search_maxiter': 10000, 'gtol': 1e-2}).x\n",
    "       \n",
    "    \n",
    "def epsilon(theta, u, X):\n",
    "    v_hat = V_hat(theta)\n",
    "    f = future(u, v_hat, X)\n",
    "    v = v_hat(X)\n",
    "    return jnp.linalg.norm(v - f, ord=2)**2\n",
    "    \n",
    "    \n",
    "e = lambda theta: epsilon(theta, u, X)"
   ]
  },
  {
   "cell_type": "code",
   "execution_count": null,
   "id": "073bc6d9",
   "metadata": {},
   "outputs": [],
   "source": [
    "opt_init, opt_update, get_params = adam(step_size=0.01)\n",
    "opt_state = opt_init(theta0)\n",
    "\n",
    "i = 0\n",
    "max_iter = 1000\n",
    "tol = 1e-5\n",
    "err = jnp.inf\n",
    "\n",
    "while i < max_iter and err > tol:\n",
    "    theta = get_params(opt_state)\n",
    "    grad = jax.jacfwd(e)(theta)\n",
    "    err = e(theta)\n",
    "    if jnp.isnan(grad).any():\n",
    "        print(f'Grad in iteration {i} is nan, terminating')\n",
    "        break\n",
    "    opt_state = opt_update(i, grad, opt_state)\n",
    "    if i % 10 == 0:\n",
    "        print(f'iteration: {i}\\ntheta: {theta}\\ngradient: {grad}\\nerror: {err}')\n",
    "\n",
    "    i += 1"
   ]
  }
 ],
 "metadata": {
  "kernelspec": {
   "display_name": "Python [conda env:.conda-jax]",
   "language": "python",
   "name": "conda-env-.conda-jax-py"
  },
  "language_info": {
   "codemirror_mode": {
    "name": "ipython",
    "version": 3
   },
   "file_extension": ".py",
   "mimetype": "text/x-python",
   "name": "python",
   "nbconvert_exporter": "python",
   "pygments_lexer": "ipython3",
   "version": "3.9.7"
  }
 },
 "nbformat": 4,
 "nbformat_minor": 5
}
